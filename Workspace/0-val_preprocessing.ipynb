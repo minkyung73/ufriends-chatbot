{
 "cells": [
  {
   "cell_type": "code",
   "execution_count": 21,
   "metadata": {
    "collapsed": true
   },
   "outputs": [],
   "source": [
    "import pandas as pd\n",
    "import numpy as np\n",
    "import os\n",
    "import openpyxl"
   ]
  },
  {
   "cell_type": "code",
   "execution_count": 22,
   "outputs": [],
   "source": [
    "validation_df = pd.read_excel('./Dataset/Validation/Final_감성대화말뭉치_Validation/감성대화말뭉치(최종데이터)_Validation.xlsx', engine='openpyxl')\n",
    "\n",
    "validation_df.set_index(\"번호\", inplace=True)\n",
    "\n",
    "# 필요없는 컬럼 drop\n",
    "validation_df = validation_df.drop([\"연령\", \"성별\", \"신체질환\", '감정_소분류',], axis=1)\n",
    "\n",
    "# 컬럼명 변경\n",
    "validation_df.rename(columns={'상황키워드': 'keywords', '감정_대분류':'major_emotions', '사람문장1':'user1', '시스템응답1':'chatbot1', '사람문장2':'user2', '시스템응답2':'chatbot2', '사람문장3':'user3', '시스템응답3':'chatbot3', '사람문장4':'user4', '시스템응답4':'chatbot4'}, inplace=True)"
   ],
   "metadata": {
    "collapsed": false
   }
  },
  {
   "cell_type": "code",
   "execution_count": 23,
   "outputs": [],
   "source": [
    "# 감정_대분류 : '불안 ', '기쁨 ' -> '불안', '기쁨'\n",
    "validation_df.loc[validation_df['major_emotions'] == '기쁨 ', 'major_emotions'] = '기쁨'\n",
    "validation_df.loc[validation_df['major_emotions'] == '불안 ', 'major_emotions'] = '불안'"
   ],
   "metadata": {
    "collapsed": false
   }
  },
  {
   "cell_type": "code",
   "execution_count": 24,
   "outputs": [
    {
     "data": {
      "text/plain": "           keywords major_emotions  \\\n번호                                   \n23093    진로, 취업, 직장             분노   \n32848          가족관계             슬픔   \n35590      학교폭력/따돌림             불안   \n169      진로, 취업, 직장             당황   \n38435  재정, 은퇴, 노후준비             분노   \n...             ...            ...   \n37859  재정, 은퇴, 노후준비             기쁨   \n40171        건강, 죽음             불안   \n13717    연애, 결혼, 출산             분노   \n33784            재정             분노   \n43490            재정             분노   \n\n                                                   user1  \\\n번호                                                         \n23093                                    요즘 부모님과 많이 부딪혀.   \n32848                           엄마가 결국 집을 나갔어. 너무 너무 슬퍼.   \n35590                     학교에서 한 친구를 괴롭히는 무리에게 그만하라고 했어.   \n169     이번에 팀장님이 간단한 조사 업무를 부탁하셨는데 내가 잘못 처리했어. 너무 절망적이야.   \n38435                  남편이 이혼할 때 위자료를 주지 않으려고 변호사를 고용했어.   \n...                                                  ...   \n37859                   부동산 임대 소득으로 현재 여유롭게 살 수 있어서 좋단다.   \n40171  폐결핵은 이미 완치된 것 같은데 약을 한 달이나 더 먹으라고 하네? 아직 안 나은 ...   \n13717    연애하고 싶은데 소개팅만 나가면 꽝이야. 이러다가 난 결혼 못 하고 늙어 죽을 거야.   \n33784       은행 대출이 막혀서 생활비를 구할 수가 없어. 이제 어떻게 살아야 하나 막막해.   \n43490            자식들은 키워 준 은혜도 모르고 내게 오지도 않네. 너무 외롭고 슬퍼.   \n\n                                          chatbot1  \\\n번호                                                   \n23093                                어떤 일로 부딪히시나요?   \n32848  어머니께서 집을 나가셨다니 정말 슬프셨겠어요. 좀 더 자세히 얘기해주시겠어요?   \n35590                   용기 있는 행동을 하셨네요. 마음이 어떠셨나요?   \n169        팀장님이 부탁하신 업무를 잘못 처리하셔서 많이 당황하시고 놀라셨겠어요.   \n38435                                 많이 화가 나시겠어요.   \n...                                            ...   \n37859                        여유롭게 생활할 수 있어 좋으시겠어요.   \n40171           치료가 완료되지 않은 게 아닐까 싶으셔서 염려하고 계시는군요.   \n13717     소개팅에서 만나는 사람과 계속 잘 안 풀려서 많이 좌절하신 것 같아요.    \n33784                      은행 대출이 안 돼서 마음이 괴로우시군요.   \n43490                   자녀들이 찾아오지 않아서 슬퍼하시는 것 같아요.   \n\n                                                   user2  \\\n번호                                                         \n23093  난 하고 싶은 일이 있는데 부모님은 안정적인 일만 하라고 하셔. 내 마음대로 하지도...   \n32848  엄마도 엄마만의 인생이 있을 테니 가지 말라고 할 수가 없었어. 그래서 더 마음이 ...   \n35590                      그런데 말을 하고 난 후 나도 괴롭힐까 봐 불안했어.   \n169                 곧 있으면 인턴에서 정규직 전환 평가가 있는데 안 좋을 것 같아.   \n38435                             어떻게 그럴 수가 있지? 너무 화가 나.   \n...                                                  ...   \n37859                         그래서 마음의 안정을 가질 수 있었던 것 같아.   \n40171                         이대로 혹시 더 심해져서 죽게 되는 건 아닐까?   \n13717  내가 게을러서 다른 방법을 아직 생각하진 못했어. 댄스 동호회는 좀 괜찮은 것 같은...   \n33784                          당장 내일 밥은 어떡하고 내 병원비는 어쩌지.   \n43490   응 이제 다들 독립해가지고 명절 아니면 찾아오질 않아. 안부전화라도 해주면 좋을 텐데.   \n\n                                               chatbot2  \\\n번호                                                        \n23093                                 부모님과의 충돌로 힘드시겠군요.   \n32848               정말 많이 답답하셨겠어요. 어떻게 하는 게 기분이 좀 풀릴까요?   \n35590        그랬군요. 지금 기분에서 벗어나기 위해 할 수 있는 일에는 무엇이 있을까요?   \n169    마음이 많이 안 좋으시겠어요. 지금 상황을 타개할 수 있는 가장 좋은 방안이 있을까요?   \n38435                        어떻게 하면 지금의 감정을 추스를 수 있을까요?   \n...                                                 ...   \n37859                      그렇군요. 계속해서 여유로우려면 어떡해야 좋을까요?   \n40171                 많이 불안하시군요. 불안함을 줄일 수 있는 방법이 있을까요?   \n13717                     댄스 동호회에 가입해서 사람들을 만나려고 하시는군요.   \n33784                     이 상황을 해결하기 위해서는 어떻게 할 수 있을까요?   \n43490          특별한 날뿐만 아니라 평소에도 자녀들과 소통하고 싶어 하시는 것 같아요.   \n\n                                                user3  \\\n번호                                                      \n23093                 응. 그래도 난 내가 하고 싶은 일을 위해 노력할 거야.   \n32848                                      일단 좀 자야겠어.   \n35590           나는 옳은 일을 한 거라고 생각해. 나까지 괴롭힌다면 신고할 거야.   \n169        우선 잘못된 부분을 솔직하게 말씀드리고 수정하기 위해서 최선을 다해봐야겠어.   \n38435                       나도 변호사를 고용해서 한번 얘기해보려고 해.   \n...                                               ...   \n37859                 돈을 함부로 쓰지 말고 지금 현재에 만족하면서 지내야지.   \n40171            의사 선생님에게 악화될 확률은 얼마나 되는지 정확히 물어봐야겠어.   \n13717                                             NaN   \n33784                      어떻게 해야 할 지 모르겠어. 눈 앞이 캄캄해.   \n43490  이런 감정이 들 때면 옛날 생각이 많이 나. 옛날에는 그게 당연한 것인 줄 알았지.   \n\n                                              chatbot3 user4 chatbot4  \n번호                                                                     \n23093                       자신이 하고 싶은 일을 목표로 하기로 하셨군요.   NaN      NaN  \n32848                                일단 휴식을 가질 생각이시군요.   NaN      NaN  \n35590                지금의 상황이 나의 방식으로써 잘 해결될 수 있기를 바라요.   NaN      NaN  \n169                   잘못된 부분을 잘 수정해서 좋은 결과가 있었으면 좋겠어요.   NaN      NaN  \n38435                      자녀분들이랑 함께 하며 슬픔을 극복하시길 바라요.   NaN      NaN  \n...                                                ...   ...      ...  \n37859                               다른 병원에 가보려고 하시는군요.   NaN      NaN  \n40171                  정확히 진단받고 나면 염려를 줄이는데 도움이 될 거예요.   NaN      NaN  \n13717                                              NaN   NaN      NaN  \n33784               지금 이 기분을 나눌 수 있는 사람이 주위에 있으면 좋겠어요.   NaN      NaN  \n43490  추억에 잠기셨군요. 앞으로도 계속 가족과의 좋은 기억을 만들어 나갈 수 있길 바라요.   NaN      NaN  \n\n[5130 rows x 10 columns]",
      "text/html": "<div>\n<style scoped>\n    .dataframe tbody tr th:only-of-type {\n        vertical-align: middle;\n    }\n\n    .dataframe tbody tr th {\n        vertical-align: top;\n    }\n\n    .dataframe thead th {\n        text-align: right;\n    }\n</style>\n<table border=\"1\" class=\"dataframe\">\n  <thead>\n    <tr style=\"text-align: right;\">\n      <th></th>\n      <th>keywords</th>\n      <th>major_emotions</th>\n      <th>user1</th>\n      <th>chatbot1</th>\n      <th>user2</th>\n      <th>chatbot2</th>\n      <th>user3</th>\n      <th>chatbot3</th>\n      <th>user4</th>\n      <th>chatbot4</th>\n    </tr>\n    <tr>\n      <th>번호</th>\n      <th></th>\n      <th></th>\n      <th></th>\n      <th></th>\n      <th></th>\n      <th></th>\n      <th></th>\n      <th></th>\n      <th></th>\n      <th></th>\n    </tr>\n  </thead>\n  <tbody>\n    <tr>\n      <th>23093</th>\n      <td>진로, 취업, 직장</td>\n      <td>분노</td>\n      <td>요즘 부모님과 많이 부딪혀.</td>\n      <td>어떤 일로 부딪히시나요?</td>\n      <td>난 하고 싶은 일이 있는데 부모님은 안정적인 일만 하라고 하셔. 내 마음대로 하지도...</td>\n      <td>부모님과의 충돌로 힘드시겠군요.</td>\n      <td>응. 그래도 난 내가 하고 싶은 일을 위해 노력할 거야.</td>\n      <td>자신이 하고 싶은 일을 목표로 하기로 하셨군요.</td>\n      <td>NaN</td>\n      <td>NaN</td>\n    </tr>\n    <tr>\n      <th>32848</th>\n      <td>가족관계</td>\n      <td>슬픔</td>\n      <td>엄마가 결국 집을 나갔어. 너무 너무 슬퍼.</td>\n      <td>어머니께서 집을 나가셨다니 정말 슬프셨겠어요. 좀 더 자세히 얘기해주시겠어요?</td>\n      <td>엄마도 엄마만의 인생이 있을 테니 가지 말라고 할 수가 없었어. 그래서 더 마음이 ...</td>\n      <td>정말 많이 답답하셨겠어요. 어떻게 하는 게 기분이 좀 풀릴까요?</td>\n      <td>일단 좀 자야겠어.</td>\n      <td>일단 휴식을 가질 생각이시군요.</td>\n      <td>NaN</td>\n      <td>NaN</td>\n    </tr>\n    <tr>\n      <th>35590</th>\n      <td>학교폭력/따돌림</td>\n      <td>불안</td>\n      <td>학교에서 한 친구를 괴롭히는 무리에게 그만하라고 했어.</td>\n      <td>용기 있는 행동을 하셨네요. 마음이 어떠셨나요?</td>\n      <td>그런데 말을 하고 난 후 나도 괴롭힐까 봐 불안했어.</td>\n      <td>그랬군요. 지금 기분에서 벗어나기 위해 할 수 있는 일에는 무엇이 있을까요?</td>\n      <td>나는 옳은 일을 한 거라고 생각해. 나까지 괴롭힌다면 신고할 거야.</td>\n      <td>지금의 상황이 나의 방식으로써 잘 해결될 수 있기를 바라요.</td>\n      <td>NaN</td>\n      <td>NaN</td>\n    </tr>\n    <tr>\n      <th>169</th>\n      <td>진로, 취업, 직장</td>\n      <td>당황</td>\n      <td>이번에 팀장님이 간단한 조사 업무를 부탁하셨는데 내가 잘못 처리했어. 너무 절망적이야.</td>\n      <td>팀장님이 부탁하신 업무를 잘못 처리하셔서 많이 당황하시고 놀라셨겠어요.</td>\n      <td>곧 있으면 인턴에서 정규직 전환 평가가 있는데 안 좋을 것 같아.</td>\n      <td>마음이 많이 안 좋으시겠어요. 지금 상황을 타개할 수 있는 가장 좋은 방안이 있을까요?</td>\n      <td>우선 잘못된 부분을 솔직하게 말씀드리고 수정하기 위해서 최선을 다해봐야겠어.</td>\n      <td>잘못된 부분을 잘 수정해서 좋은 결과가 있었으면 좋겠어요.</td>\n      <td>NaN</td>\n      <td>NaN</td>\n    </tr>\n    <tr>\n      <th>38435</th>\n      <td>재정, 은퇴, 노후준비</td>\n      <td>분노</td>\n      <td>남편이 이혼할 때 위자료를 주지 않으려고 변호사를 고용했어.</td>\n      <td>많이 화가 나시겠어요.</td>\n      <td>어떻게 그럴 수가 있지? 너무 화가 나.</td>\n      <td>어떻게 하면 지금의 감정을 추스를 수 있을까요?</td>\n      <td>나도 변호사를 고용해서 한번 얘기해보려고 해.</td>\n      <td>자녀분들이랑 함께 하며 슬픔을 극복하시길 바라요.</td>\n      <td>NaN</td>\n      <td>NaN</td>\n    </tr>\n    <tr>\n      <th>...</th>\n      <td>...</td>\n      <td>...</td>\n      <td>...</td>\n      <td>...</td>\n      <td>...</td>\n      <td>...</td>\n      <td>...</td>\n      <td>...</td>\n      <td>...</td>\n      <td>...</td>\n    </tr>\n    <tr>\n      <th>37859</th>\n      <td>재정, 은퇴, 노후준비</td>\n      <td>기쁨</td>\n      <td>부동산 임대 소득으로 현재 여유롭게 살 수 있어서 좋단다.</td>\n      <td>여유롭게 생활할 수 있어 좋으시겠어요.</td>\n      <td>그래서 마음의 안정을 가질 수 있었던 것 같아.</td>\n      <td>그렇군요. 계속해서 여유로우려면 어떡해야 좋을까요?</td>\n      <td>돈을 함부로 쓰지 말고 지금 현재에 만족하면서 지내야지.</td>\n      <td>다른 병원에 가보려고 하시는군요.</td>\n      <td>NaN</td>\n      <td>NaN</td>\n    </tr>\n    <tr>\n      <th>40171</th>\n      <td>건강, 죽음</td>\n      <td>불안</td>\n      <td>폐결핵은 이미 완치된 것 같은데 약을 한 달이나 더 먹으라고 하네? 아직 안 나은 ...</td>\n      <td>치료가 완료되지 않은 게 아닐까 싶으셔서 염려하고 계시는군요.</td>\n      <td>이대로 혹시 더 심해져서 죽게 되는 건 아닐까?</td>\n      <td>많이 불안하시군요. 불안함을 줄일 수 있는 방법이 있을까요?</td>\n      <td>의사 선생님에게 악화될 확률은 얼마나 되는지 정확히 물어봐야겠어.</td>\n      <td>정확히 진단받고 나면 염려를 줄이는데 도움이 될 거예요.</td>\n      <td>NaN</td>\n      <td>NaN</td>\n    </tr>\n    <tr>\n      <th>13717</th>\n      <td>연애, 결혼, 출산</td>\n      <td>분노</td>\n      <td>연애하고 싶은데 소개팅만 나가면 꽝이야. 이러다가 난 결혼 못 하고 늙어 죽을 거야.</td>\n      <td>소개팅에서 만나는 사람과 계속 잘 안 풀려서 많이 좌절하신 것 같아요.</td>\n      <td>내가 게을러서 다른 방법을 아직 생각하진 못했어. 댄스 동호회는 좀 괜찮은 것 같은...</td>\n      <td>댄스 동호회에 가입해서 사람들을 만나려고 하시는군요.</td>\n      <td>NaN</td>\n      <td>NaN</td>\n      <td>NaN</td>\n      <td>NaN</td>\n    </tr>\n    <tr>\n      <th>33784</th>\n      <td>재정</td>\n      <td>분노</td>\n      <td>은행 대출이 막혀서 생활비를 구할 수가 없어. 이제 어떻게 살아야 하나 막막해.</td>\n      <td>은행 대출이 안 돼서 마음이 괴로우시군요.</td>\n      <td>당장 내일 밥은 어떡하고 내 병원비는 어쩌지.</td>\n      <td>이 상황을 해결하기 위해서는 어떻게 할 수 있을까요?</td>\n      <td>어떻게 해야 할 지 모르겠어. 눈 앞이 캄캄해.</td>\n      <td>지금 이 기분을 나눌 수 있는 사람이 주위에 있으면 좋겠어요.</td>\n      <td>NaN</td>\n      <td>NaN</td>\n    </tr>\n    <tr>\n      <th>43490</th>\n      <td>재정</td>\n      <td>분노</td>\n      <td>자식들은 키워 준 은혜도 모르고 내게 오지도 않네. 너무 외롭고 슬퍼.</td>\n      <td>자녀들이 찾아오지 않아서 슬퍼하시는 것 같아요.</td>\n      <td>응 이제 다들 독립해가지고 명절 아니면 찾아오질 않아. 안부전화라도 해주면 좋을 텐데.</td>\n      <td>특별한 날뿐만 아니라 평소에도 자녀들과 소통하고 싶어 하시는 것 같아요.</td>\n      <td>이런 감정이 들 때면 옛날 생각이 많이 나. 옛날에는 그게 당연한 것인 줄 알았지.</td>\n      <td>추억에 잠기셨군요. 앞으로도 계속 가족과의 좋은 기억을 만들어 나갈 수 있길 바라요.</td>\n      <td>NaN</td>\n      <td>NaN</td>\n    </tr>\n  </tbody>\n</table>\n<p>5130 rows × 10 columns</p>\n</div>"
     },
     "execution_count": 24,
     "metadata": {},
     "output_type": "execute_result"
    }
   ],
   "source": [
    "validation_df"
   ],
   "metadata": {
    "collapsed": false
   }
  },
  {
   "cell_type": "markdown",
   "source": [
    "### major_emotions 라벨링"
   ],
   "metadata": {
    "collapsed": false
   }
  },
  {
   "cell_type": "code",
   "execution_count": 25,
   "outputs": [],
   "source": [
    "# 감정_대분류 labeling\n",
    "validation_df.loc[(validation_df['major_emotions']==\"분노\"), 'major_emotions'] = 0\n",
    "validation_df.loc[(validation_df['major_emotions']==\"슬픔\"), 'major_emotions'] = 1\n",
    "validation_df.loc[(validation_df['major_emotions']==\"불안\"), 'major_emotions'] = 2\n",
    "validation_df.loc[(validation_df['major_emotions']==\"상처\"), 'major_emotions'] = 3\n",
    "validation_df.loc[(validation_df['major_emotions']==\"당황\"), 'major_emotions'] = 4\n",
    "validation_df.loc[(validation_df['major_emotions']==\"기쁨\"), 'major_emotions'] = 5"
   ],
   "metadata": {
    "collapsed": false
   }
  },
  {
   "cell_type": "markdown",
   "source": [
    "### keywords 라벨링"
   ],
   "metadata": {
    "collapsed": false
   }
  },
  {
   "cell_type": "code",
   "execution_count": 26,
   "outputs": [],
   "source": [
    "validation_df.loc[(validation_df['keywords']==\"대인관계\"), 'keywords'] = 0\n",
    "validation_df.loc[(validation_df['keywords']==\"대인관계(부부, 자녀)\"), 'keywords'] = 0\n",
    "validation_df.loc[(validation_df['keywords']==\"진로, 취업, 직장\"), 'keywords'] = 1\n",
    "validation_df.loc[(validation_df['keywords']==\"직장, 업무 스트레스\"), 'keywords'] = 1\n",
    "validation_df.loc[(validation_df['keywords']==\"연애, 결혼, 출산\"), 'keywords'] = 2\n",
    "validation_df.loc[(validation_df['keywords']==\"건강, 죽음\"), 'keywords'] = 3\n",
    "validation_df.loc[(validation_df['keywords']==\"건강\"), 'keywords'] = 3\n",
    "validation_df.loc[(validation_df['keywords']==\"재정\"), 'keywords'] = 4\n",
    "validation_df.loc[(validation_df['keywords']==\"재정, 은퇴, 노후준비\"), 'keywords'] = 4\n",
    "validation_df.loc[(validation_df['keywords']==\"학업 및 진로\"), 'keywords'] = 5\n",
    "validation_df.loc[(validation_df['keywords']==\"학교폭력/따돌림\"), 'keywords'] = 6\n",
    "validation_df.loc[(validation_df['keywords']==\"가족관계\"), 'keywords'] = 7"
   ],
   "metadata": {
    "collapsed": false
   }
  },
  {
   "cell_type": "code",
   "execution_count": 27,
   "outputs": [
    {
     "data": {
      "text/plain": "      keywords major_emotions  \\\n번호                              \n23093        1              0   \n32848        7              1   \n35590        6              2   \n169          1              4   \n38435        4              0   \n...        ...            ...   \n37859        4              5   \n40171        3              2   \n13717        2              0   \n33784        4              0   \n43490        4              0   \n\n                                                   user1  \\\n번호                                                         \n23093                                    요즘 부모님과 많이 부딪혀.   \n32848                           엄마가 결국 집을 나갔어. 너무 너무 슬퍼.   \n35590                     학교에서 한 친구를 괴롭히는 무리에게 그만하라고 했어.   \n169     이번에 팀장님이 간단한 조사 업무를 부탁하셨는데 내가 잘못 처리했어. 너무 절망적이야.   \n38435                  남편이 이혼할 때 위자료를 주지 않으려고 변호사를 고용했어.   \n...                                                  ...   \n37859                   부동산 임대 소득으로 현재 여유롭게 살 수 있어서 좋단다.   \n40171  폐결핵은 이미 완치된 것 같은데 약을 한 달이나 더 먹으라고 하네? 아직 안 나은 ...   \n13717    연애하고 싶은데 소개팅만 나가면 꽝이야. 이러다가 난 결혼 못 하고 늙어 죽을 거야.   \n33784       은행 대출이 막혀서 생활비를 구할 수가 없어. 이제 어떻게 살아야 하나 막막해.   \n43490            자식들은 키워 준 은혜도 모르고 내게 오지도 않네. 너무 외롭고 슬퍼.   \n\n                                          chatbot1  \\\n번호                                                   \n23093                                어떤 일로 부딪히시나요?   \n32848  어머니께서 집을 나가셨다니 정말 슬프셨겠어요. 좀 더 자세히 얘기해주시겠어요?   \n35590                   용기 있는 행동을 하셨네요. 마음이 어떠셨나요?   \n169        팀장님이 부탁하신 업무를 잘못 처리하셔서 많이 당황하시고 놀라셨겠어요.   \n38435                                 많이 화가 나시겠어요.   \n...                                            ...   \n37859                        여유롭게 생활할 수 있어 좋으시겠어요.   \n40171           치료가 완료되지 않은 게 아닐까 싶으셔서 염려하고 계시는군요.   \n13717     소개팅에서 만나는 사람과 계속 잘 안 풀려서 많이 좌절하신 것 같아요.    \n33784                      은행 대출이 안 돼서 마음이 괴로우시군요.   \n43490                   자녀들이 찾아오지 않아서 슬퍼하시는 것 같아요.   \n\n                                                   user2  \\\n번호                                                         \n23093  난 하고 싶은 일이 있는데 부모님은 안정적인 일만 하라고 하셔. 내 마음대로 하지도...   \n32848  엄마도 엄마만의 인생이 있을 테니 가지 말라고 할 수가 없었어. 그래서 더 마음이 ...   \n35590                      그런데 말을 하고 난 후 나도 괴롭힐까 봐 불안했어.   \n169                 곧 있으면 인턴에서 정규직 전환 평가가 있는데 안 좋을 것 같아.   \n38435                             어떻게 그럴 수가 있지? 너무 화가 나.   \n...                                                  ...   \n37859                         그래서 마음의 안정을 가질 수 있었던 것 같아.   \n40171                         이대로 혹시 더 심해져서 죽게 되는 건 아닐까?   \n13717  내가 게을러서 다른 방법을 아직 생각하진 못했어. 댄스 동호회는 좀 괜찮은 것 같은...   \n33784                          당장 내일 밥은 어떡하고 내 병원비는 어쩌지.   \n43490   응 이제 다들 독립해가지고 명절 아니면 찾아오질 않아. 안부전화라도 해주면 좋을 텐데.   \n\n                                               chatbot2  \\\n번호                                                        \n23093                                 부모님과의 충돌로 힘드시겠군요.   \n32848               정말 많이 답답하셨겠어요. 어떻게 하는 게 기분이 좀 풀릴까요?   \n35590        그랬군요. 지금 기분에서 벗어나기 위해 할 수 있는 일에는 무엇이 있을까요?   \n169    마음이 많이 안 좋으시겠어요. 지금 상황을 타개할 수 있는 가장 좋은 방안이 있을까요?   \n38435                        어떻게 하면 지금의 감정을 추스를 수 있을까요?   \n...                                                 ...   \n37859                      그렇군요. 계속해서 여유로우려면 어떡해야 좋을까요?   \n40171                 많이 불안하시군요. 불안함을 줄일 수 있는 방법이 있을까요?   \n13717                     댄스 동호회에 가입해서 사람들을 만나려고 하시는군요.   \n33784                     이 상황을 해결하기 위해서는 어떻게 할 수 있을까요?   \n43490          특별한 날뿐만 아니라 평소에도 자녀들과 소통하고 싶어 하시는 것 같아요.   \n\n                                                user3  \\\n번호                                                      \n23093                 응. 그래도 난 내가 하고 싶은 일을 위해 노력할 거야.   \n32848                                      일단 좀 자야겠어.   \n35590           나는 옳은 일을 한 거라고 생각해. 나까지 괴롭힌다면 신고할 거야.   \n169        우선 잘못된 부분을 솔직하게 말씀드리고 수정하기 위해서 최선을 다해봐야겠어.   \n38435                       나도 변호사를 고용해서 한번 얘기해보려고 해.   \n...                                               ...   \n37859                 돈을 함부로 쓰지 말고 지금 현재에 만족하면서 지내야지.   \n40171            의사 선생님에게 악화될 확률은 얼마나 되는지 정확히 물어봐야겠어.   \n13717                                             NaN   \n33784                      어떻게 해야 할 지 모르겠어. 눈 앞이 캄캄해.   \n43490  이런 감정이 들 때면 옛날 생각이 많이 나. 옛날에는 그게 당연한 것인 줄 알았지.   \n\n                                              chatbot3 user4 chatbot4  \n번호                                                                     \n23093                       자신이 하고 싶은 일을 목표로 하기로 하셨군요.   NaN      NaN  \n32848                                일단 휴식을 가질 생각이시군요.   NaN      NaN  \n35590                지금의 상황이 나의 방식으로써 잘 해결될 수 있기를 바라요.   NaN      NaN  \n169                   잘못된 부분을 잘 수정해서 좋은 결과가 있었으면 좋겠어요.   NaN      NaN  \n38435                      자녀분들이랑 함께 하며 슬픔을 극복하시길 바라요.   NaN      NaN  \n...                                                ...   ...      ...  \n37859                               다른 병원에 가보려고 하시는군요.   NaN      NaN  \n40171                  정확히 진단받고 나면 염려를 줄이는데 도움이 될 거예요.   NaN      NaN  \n13717                                              NaN   NaN      NaN  \n33784               지금 이 기분을 나눌 수 있는 사람이 주위에 있으면 좋겠어요.   NaN      NaN  \n43490  추억에 잠기셨군요. 앞으로도 계속 가족과의 좋은 기억을 만들어 나갈 수 있길 바라요.   NaN      NaN  \n\n[5130 rows x 10 columns]",
      "text/html": "<div>\n<style scoped>\n    .dataframe tbody tr th:only-of-type {\n        vertical-align: middle;\n    }\n\n    .dataframe tbody tr th {\n        vertical-align: top;\n    }\n\n    .dataframe thead th {\n        text-align: right;\n    }\n</style>\n<table border=\"1\" class=\"dataframe\">\n  <thead>\n    <tr style=\"text-align: right;\">\n      <th></th>\n      <th>keywords</th>\n      <th>major_emotions</th>\n      <th>user1</th>\n      <th>chatbot1</th>\n      <th>user2</th>\n      <th>chatbot2</th>\n      <th>user3</th>\n      <th>chatbot3</th>\n      <th>user4</th>\n      <th>chatbot4</th>\n    </tr>\n    <tr>\n      <th>번호</th>\n      <th></th>\n      <th></th>\n      <th></th>\n      <th></th>\n      <th></th>\n      <th></th>\n      <th></th>\n      <th></th>\n      <th></th>\n      <th></th>\n    </tr>\n  </thead>\n  <tbody>\n    <tr>\n      <th>23093</th>\n      <td>1</td>\n      <td>0</td>\n      <td>요즘 부모님과 많이 부딪혀.</td>\n      <td>어떤 일로 부딪히시나요?</td>\n      <td>난 하고 싶은 일이 있는데 부모님은 안정적인 일만 하라고 하셔. 내 마음대로 하지도...</td>\n      <td>부모님과의 충돌로 힘드시겠군요.</td>\n      <td>응. 그래도 난 내가 하고 싶은 일을 위해 노력할 거야.</td>\n      <td>자신이 하고 싶은 일을 목표로 하기로 하셨군요.</td>\n      <td>NaN</td>\n      <td>NaN</td>\n    </tr>\n    <tr>\n      <th>32848</th>\n      <td>7</td>\n      <td>1</td>\n      <td>엄마가 결국 집을 나갔어. 너무 너무 슬퍼.</td>\n      <td>어머니께서 집을 나가셨다니 정말 슬프셨겠어요. 좀 더 자세히 얘기해주시겠어요?</td>\n      <td>엄마도 엄마만의 인생이 있을 테니 가지 말라고 할 수가 없었어. 그래서 더 마음이 ...</td>\n      <td>정말 많이 답답하셨겠어요. 어떻게 하는 게 기분이 좀 풀릴까요?</td>\n      <td>일단 좀 자야겠어.</td>\n      <td>일단 휴식을 가질 생각이시군요.</td>\n      <td>NaN</td>\n      <td>NaN</td>\n    </tr>\n    <tr>\n      <th>35590</th>\n      <td>6</td>\n      <td>2</td>\n      <td>학교에서 한 친구를 괴롭히는 무리에게 그만하라고 했어.</td>\n      <td>용기 있는 행동을 하셨네요. 마음이 어떠셨나요?</td>\n      <td>그런데 말을 하고 난 후 나도 괴롭힐까 봐 불안했어.</td>\n      <td>그랬군요. 지금 기분에서 벗어나기 위해 할 수 있는 일에는 무엇이 있을까요?</td>\n      <td>나는 옳은 일을 한 거라고 생각해. 나까지 괴롭힌다면 신고할 거야.</td>\n      <td>지금의 상황이 나의 방식으로써 잘 해결될 수 있기를 바라요.</td>\n      <td>NaN</td>\n      <td>NaN</td>\n    </tr>\n    <tr>\n      <th>169</th>\n      <td>1</td>\n      <td>4</td>\n      <td>이번에 팀장님이 간단한 조사 업무를 부탁하셨는데 내가 잘못 처리했어. 너무 절망적이야.</td>\n      <td>팀장님이 부탁하신 업무를 잘못 처리하셔서 많이 당황하시고 놀라셨겠어요.</td>\n      <td>곧 있으면 인턴에서 정규직 전환 평가가 있는데 안 좋을 것 같아.</td>\n      <td>마음이 많이 안 좋으시겠어요. 지금 상황을 타개할 수 있는 가장 좋은 방안이 있을까요?</td>\n      <td>우선 잘못된 부분을 솔직하게 말씀드리고 수정하기 위해서 최선을 다해봐야겠어.</td>\n      <td>잘못된 부분을 잘 수정해서 좋은 결과가 있었으면 좋겠어요.</td>\n      <td>NaN</td>\n      <td>NaN</td>\n    </tr>\n    <tr>\n      <th>38435</th>\n      <td>4</td>\n      <td>0</td>\n      <td>남편이 이혼할 때 위자료를 주지 않으려고 변호사를 고용했어.</td>\n      <td>많이 화가 나시겠어요.</td>\n      <td>어떻게 그럴 수가 있지? 너무 화가 나.</td>\n      <td>어떻게 하면 지금의 감정을 추스를 수 있을까요?</td>\n      <td>나도 변호사를 고용해서 한번 얘기해보려고 해.</td>\n      <td>자녀분들이랑 함께 하며 슬픔을 극복하시길 바라요.</td>\n      <td>NaN</td>\n      <td>NaN</td>\n    </tr>\n    <tr>\n      <th>...</th>\n      <td>...</td>\n      <td>...</td>\n      <td>...</td>\n      <td>...</td>\n      <td>...</td>\n      <td>...</td>\n      <td>...</td>\n      <td>...</td>\n      <td>...</td>\n      <td>...</td>\n    </tr>\n    <tr>\n      <th>37859</th>\n      <td>4</td>\n      <td>5</td>\n      <td>부동산 임대 소득으로 현재 여유롭게 살 수 있어서 좋단다.</td>\n      <td>여유롭게 생활할 수 있어 좋으시겠어요.</td>\n      <td>그래서 마음의 안정을 가질 수 있었던 것 같아.</td>\n      <td>그렇군요. 계속해서 여유로우려면 어떡해야 좋을까요?</td>\n      <td>돈을 함부로 쓰지 말고 지금 현재에 만족하면서 지내야지.</td>\n      <td>다른 병원에 가보려고 하시는군요.</td>\n      <td>NaN</td>\n      <td>NaN</td>\n    </tr>\n    <tr>\n      <th>40171</th>\n      <td>3</td>\n      <td>2</td>\n      <td>폐결핵은 이미 완치된 것 같은데 약을 한 달이나 더 먹으라고 하네? 아직 안 나은 ...</td>\n      <td>치료가 완료되지 않은 게 아닐까 싶으셔서 염려하고 계시는군요.</td>\n      <td>이대로 혹시 더 심해져서 죽게 되는 건 아닐까?</td>\n      <td>많이 불안하시군요. 불안함을 줄일 수 있는 방법이 있을까요?</td>\n      <td>의사 선생님에게 악화될 확률은 얼마나 되는지 정확히 물어봐야겠어.</td>\n      <td>정확히 진단받고 나면 염려를 줄이는데 도움이 될 거예요.</td>\n      <td>NaN</td>\n      <td>NaN</td>\n    </tr>\n    <tr>\n      <th>13717</th>\n      <td>2</td>\n      <td>0</td>\n      <td>연애하고 싶은데 소개팅만 나가면 꽝이야. 이러다가 난 결혼 못 하고 늙어 죽을 거야.</td>\n      <td>소개팅에서 만나는 사람과 계속 잘 안 풀려서 많이 좌절하신 것 같아요.</td>\n      <td>내가 게을러서 다른 방법을 아직 생각하진 못했어. 댄스 동호회는 좀 괜찮은 것 같은...</td>\n      <td>댄스 동호회에 가입해서 사람들을 만나려고 하시는군요.</td>\n      <td>NaN</td>\n      <td>NaN</td>\n      <td>NaN</td>\n      <td>NaN</td>\n    </tr>\n    <tr>\n      <th>33784</th>\n      <td>4</td>\n      <td>0</td>\n      <td>은행 대출이 막혀서 생활비를 구할 수가 없어. 이제 어떻게 살아야 하나 막막해.</td>\n      <td>은행 대출이 안 돼서 마음이 괴로우시군요.</td>\n      <td>당장 내일 밥은 어떡하고 내 병원비는 어쩌지.</td>\n      <td>이 상황을 해결하기 위해서는 어떻게 할 수 있을까요?</td>\n      <td>어떻게 해야 할 지 모르겠어. 눈 앞이 캄캄해.</td>\n      <td>지금 이 기분을 나눌 수 있는 사람이 주위에 있으면 좋겠어요.</td>\n      <td>NaN</td>\n      <td>NaN</td>\n    </tr>\n    <tr>\n      <th>43490</th>\n      <td>4</td>\n      <td>0</td>\n      <td>자식들은 키워 준 은혜도 모르고 내게 오지도 않네. 너무 외롭고 슬퍼.</td>\n      <td>자녀들이 찾아오지 않아서 슬퍼하시는 것 같아요.</td>\n      <td>응 이제 다들 독립해가지고 명절 아니면 찾아오질 않아. 안부전화라도 해주면 좋을 텐데.</td>\n      <td>특별한 날뿐만 아니라 평소에도 자녀들과 소통하고 싶어 하시는 것 같아요.</td>\n      <td>이런 감정이 들 때면 옛날 생각이 많이 나. 옛날에는 그게 당연한 것인 줄 알았지.</td>\n      <td>추억에 잠기셨군요. 앞으로도 계속 가족과의 좋은 기억을 만들어 나갈 수 있길 바라요.</td>\n      <td>NaN</td>\n      <td>NaN</td>\n    </tr>\n  </tbody>\n</table>\n<p>5130 rows × 10 columns</p>\n</div>"
     },
     "execution_count": 27,
     "metadata": {},
     "output_type": "execute_result"
    }
   ],
   "source": [
    "validation_df"
   ],
   "metadata": {
    "collapsed": false
   }
  },
  {
   "cell_type": "markdown",
   "source": [
    "# Validation dataset Preprocessing"
   ],
   "metadata": {
    "collapsed": false
   }
  },
  {
   "cell_type": "markdown",
   "source": [
    "## {user:chatbot}, {chatbot:user} 로 데이터셋 분할"
   ],
   "metadata": {
    "collapsed": false
   }
  },
  {
   "cell_type": "code",
   "execution_count": 28,
   "outputs": [],
   "source": [
    "validation_df1 = validation_df[['keywords', 'major_emotions', 'user1', 'chatbot1']]\n",
    "validation_df2 = validation_df[['keywords', 'major_emotions', 'chatbot1', 'user2']]\n",
    "validation_df3 = validation_df[['keywords', 'major_emotions', 'user2', 'chatbot2']]\n",
    "validation_df4 = validation_df[['keywords', 'major_emotions', 'chatbot2', 'user3']]\n",
    "validation_df5 = validation_df[['keywords', 'major_emotions', 'user3', 'chatbot3']]\n",
    "validation_df6 = validation_df[['keywords', 'major_emotions', 'chatbot3', 'user4']]\n",
    "validation_df7 = validation_df[['keywords', 'major_emotions', 'user4', 'chatbot4']]"
   ],
   "metadata": {
    "collapsed": false
   }
  },
  {
   "cell_type": "code",
   "execution_count": 29,
   "outputs": [
    {
     "data": {
      "text/plain": "      keywords major_emotions  \\\n번호                              \n23093        1              0   \n32848        7              1   \n35590        6              2   \n169          1              4   \n38435        4              0   \n...        ...            ...   \n37859        4              5   \n40171        3              2   \n13717        2              0   \n33784        4              0   \n43490        4              0   \n\n                                               chatbot2  \\\n번호                                                        \n23093                                 부모님과의 충돌로 힘드시겠군요.   \n32848               정말 많이 답답하셨겠어요. 어떻게 하는 게 기분이 좀 풀릴까요?   \n35590        그랬군요. 지금 기분에서 벗어나기 위해 할 수 있는 일에는 무엇이 있을까요?   \n169    마음이 많이 안 좋으시겠어요. 지금 상황을 타개할 수 있는 가장 좋은 방안이 있을까요?   \n38435                        어떻게 하면 지금의 감정을 추스를 수 있을까요?   \n...                                                 ...   \n37859                      그렇군요. 계속해서 여유로우려면 어떡해야 좋을까요?   \n40171                 많이 불안하시군요. 불안함을 줄일 수 있는 방법이 있을까요?   \n13717                     댄스 동호회에 가입해서 사람들을 만나려고 하시는군요.   \n33784                     이 상황을 해결하기 위해서는 어떻게 할 수 있을까요?   \n43490          특별한 날뿐만 아니라 평소에도 자녀들과 소통하고 싶어 하시는 것 같아요.   \n\n                                                user3  \n번호                                                     \n23093                 응. 그래도 난 내가 하고 싶은 일을 위해 노력할 거야.  \n32848                                      일단 좀 자야겠어.  \n35590           나는 옳은 일을 한 거라고 생각해. 나까지 괴롭힌다면 신고할 거야.  \n169        우선 잘못된 부분을 솔직하게 말씀드리고 수정하기 위해서 최선을 다해봐야겠어.  \n38435                       나도 변호사를 고용해서 한번 얘기해보려고 해.  \n...                                               ...  \n37859                 돈을 함부로 쓰지 말고 지금 현재에 만족하면서 지내야지.  \n40171            의사 선생님에게 악화될 확률은 얼마나 되는지 정확히 물어봐야겠어.  \n13717                                             NaN  \n33784                      어떻게 해야 할 지 모르겠어. 눈 앞이 캄캄해.  \n43490  이런 감정이 들 때면 옛날 생각이 많이 나. 옛날에는 그게 당연한 것인 줄 알았지.  \n\n[5130 rows x 4 columns]",
      "text/html": "<div>\n<style scoped>\n    .dataframe tbody tr th:only-of-type {\n        vertical-align: middle;\n    }\n\n    .dataframe tbody tr th {\n        vertical-align: top;\n    }\n\n    .dataframe thead th {\n        text-align: right;\n    }\n</style>\n<table border=\"1\" class=\"dataframe\">\n  <thead>\n    <tr style=\"text-align: right;\">\n      <th></th>\n      <th>keywords</th>\n      <th>major_emotions</th>\n      <th>chatbot2</th>\n      <th>user3</th>\n    </tr>\n    <tr>\n      <th>번호</th>\n      <th></th>\n      <th></th>\n      <th></th>\n      <th></th>\n    </tr>\n  </thead>\n  <tbody>\n    <tr>\n      <th>23093</th>\n      <td>1</td>\n      <td>0</td>\n      <td>부모님과의 충돌로 힘드시겠군요.</td>\n      <td>응. 그래도 난 내가 하고 싶은 일을 위해 노력할 거야.</td>\n    </tr>\n    <tr>\n      <th>32848</th>\n      <td>7</td>\n      <td>1</td>\n      <td>정말 많이 답답하셨겠어요. 어떻게 하는 게 기분이 좀 풀릴까요?</td>\n      <td>일단 좀 자야겠어.</td>\n    </tr>\n    <tr>\n      <th>35590</th>\n      <td>6</td>\n      <td>2</td>\n      <td>그랬군요. 지금 기분에서 벗어나기 위해 할 수 있는 일에는 무엇이 있을까요?</td>\n      <td>나는 옳은 일을 한 거라고 생각해. 나까지 괴롭힌다면 신고할 거야.</td>\n    </tr>\n    <tr>\n      <th>169</th>\n      <td>1</td>\n      <td>4</td>\n      <td>마음이 많이 안 좋으시겠어요. 지금 상황을 타개할 수 있는 가장 좋은 방안이 있을까요?</td>\n      <td>우선 잘못된 부분을 솔직하게 말씀드리고 수정하기 위해서 최선을 다해봐야겠어.</td>\n    </tr>\n    <tr>\n      <th>38435</th>\n      <td>4</td>\n      <td>0</td>\n      <td>어떻게 하면 지금의 감정을 추스를 수 있을까요?</td>\n      <td>나도 변호사를 고용해서 한번 얘기해보려고 해.</td>\n    </tr>\n    <tr>\n      <th>...</th>\n      <td>...</td>\n      <td>...</td>\n      <td>...</td>\n      <td>...</td>\n    </tr>\n    <tr>\n      <th>37859</th>\n      <td>4</td>\n      <td>5</td>\n      <td>그렇군요. 계속해서 여유로우려면 어떡해야 좋을까요?</td>\n      <td>돈을 함부로 쓰지 말고 지금 현재에 만족하면서 지내야지.</td>\n    </tr>\n    <tr>\n      <th>40171</th>\n      <td>3</td>\n      <td>2</td>\n      <td>많이 불안하시군요. 불안함을 줄일 수 있는 방법이 있을까요?</td>\n      <td>의사 선생님에게 악화될 확률은 얼마나 되는지 정확히 물어봐야겠어.</td>\n    </tr>\n    <tr>\n      <th>13717</th>\n      <td>2</td>\n      <td>0</td>\n      <td>댄스 동호회에 가입해서 사람들을 만나려고 하시는군요.</td>\n      <td>NaN</td>\n    </tr>\n    <tr>\n      <th>33784</th>\n      <td>4</td>\n      <td>0</td>\n      <td>이 상황을 해결하기 위해서는 어떻게 할 수 있을까요?</td>\n      <td>어떻게 해야 할 지 모르겠어. 눈 앞이 캄캄해.</td>\n    </tr>\n    <tr>\n      <th>43490</th>\n      <td>4</td>\n      <td>0</td>\n      <td>특별한 날뿐만 아니라 평소에도 자녀들과 소통하고 싶어 하시는 것 같아요.</td>\n      <td>이런 감정이 들 때면 옛날 생각이 많이 나. 옛날에는 그게 당연한 것인 줄 알았지.</td>\n    </tr>\n  </tbody>\n</table>\n<p>5130 rows × 4 columns</p>\n</div>"
     },
     "execution_count": 29,
     "metadata": {},
     "output_type": "execute_result"
    }
   ],
   "source": [
    "validation_df4"
   ],
   "metadata": {
    "collapsed": false
   }
  },
  {
   "cell_type": "markdown",
   "source": [
    "### ======= validation_df1 ======="
   ],
   "metadata": {
    "collapsed": false
   }
  },
  {
   "cell_type": "code",
   "execution_count": 30,
   "outputs": [
    {
     "name": "stdout",
     "output_type": "stream",
     "text": [
      "중복 제거 전 컬럼 별 unique 개수:  5103 5098 6\n",
      "중복을 제거한 후 총 샘플의 수 : 5095\n"
     ]
    }
   ],
   "source": [
    "print('중복 제거 전 컬럼 별 unique 개수: ',\n",
    "      validation_df1['user1'].nunique(),\n",
    "      validation_df1['chatbot1'].nunique(),\n",
    "      validation_df1['major_emotions'].nunique())\n",
    "\n",
    "# user1, chatbot1 열에서 중복인 내용이 있다면 중복 제거\n",
    "validation_df1 = validation_df1.drop_duplicates(subset=['user1']).reset_index(drop=True)\n",
    "validation_df1 = validation_df1.drop_duplicates(subset=['chatbot1']).reset_index(drop=True)\n",
    "\n",
    "print('중복을 제거한 후 총 샘플의 수 :',len(validation_df1))\n",
    "\n",
    "validation_df1['user1'] = validation_df1['user1'].str.replace(\"[^ㄱ-ㅎㅏ-ㅣ가-힣 ]\",\"\")\n",
    "validation_df1['user1'] = validation_df1['user1'].str.replace('^ +', \"\") # white space 데이터를 empty value로 변경\n",
    "\n",
    "validation_df1['chatbot1'] = validation_df1['chatbot1'].str.replace(\"[^ㄱ-ㅎㅏ-ㅣ가-힣 ]\",\"\")\n",
    "validation_df1['chatbot1'] = validation_df1['chatbot1'].str.replace('^ +', \"\") # white space 데이터를 empty value로 변경\n",
    "\n",
    "validation_df1['user1'].replace('', np.nan, inplace=True)\n",
    "validation_df1['chatbot1'].replace('', np.nan, inplace=True)"
   ],
   "metadata": {
    "collapsed": false
   }
  },
  {
   "cell_type": "code",
   "execution_count": 31,
   "outputs": [
    {
     "data": {
      "text/plain": "2    900\n0    866\n1    854\n5    838\n4    824\n3    813\nName: major_emotions, dtype: int64"
     },
     "execution_count": 31,
     "metadata": {},
     "output_type": "execute_result"
    }
   ],
   "source": [
    "validation_df1['major_emotions'].value_counts()"
   ],
   "metadata": {
    "collapsed": false
   }
  },
  {
   "cell_type": "code",
   "execution_count": 32,
   "outputs": [
    {
     "data": {
      "text/plain": "0    1287\n1     860\n4     776\n3     739\n2     503\n6     336\n7     300\n5     294\nName: keywords, dtype: int64"
     },
     "execution_count": 32,
     "metadata": {},
     "output_type": "execute_result"
    }
   ],
   "source": [
    "validation_df1['keywords'].value_counts()"
   ],
   "metadata": {
    "collapsed": false
   }
  },
  {
   "cell_type": "markdown",
   "source": [
    "### ======= validation_df2 ======="
   ],
   "metadata": {
    "collapsed": false
   }
  },
  {
   "cell_type": "code",
   "execution_count": 33,
   "outputs": [
    {
     "name": "stdout",
     "output_type": "stream",
     "text": [
      "중복 제거 전 컬럼 별 unique 개수:  5098 5096 6\n",
      "중복을 제거한 후 총 샘플의 수 : 5088\n"
     ]
    }
   ],
   "source": [
    "print('중복 제거 전 컬럼 별 unique 개수: ',\n",
    "      validation_df2['chatbot1'].nunique(),\n",
    "      validation_df2['user2'].nunique(),\n",
    "      validation_df2['major_emotions'].nunique())\n",
    "\n",
    "# chatbot1, user2 열에서 중복인 내용이 있다면 중복 제거\n",
    "validation_df2 = validation_df2.drop_duplicates(subset=['chatbot1']).reset_index(drop=True)\n",
    "validation_df2 = validation_df2.drop_duplicates(subset=['user2']).reset_index(drop=True)\n",
    "\n",
    "print('중복을 제거한 후 총 샘플의 수 :',len(validation_df2))\n",
    "\n",
    "validation_df2['chatbot1'] = validation_df2['chatbot1'].str.replace(\"[^ㄱ-ㅎㅏ-ㅣ가-힣 ]\",\"\")\n",
    "validation_df2['chatbot1'] = validation_df2['chatbot1'].str.replace('^ +', \"\") # white space 데이터를 empty value로 변경\n",
    "\n",
    "validation_df2['user2'] = validation_df2['user2'].str.replace(\"[^ㄱ-ㅎㅏ-ㅣ가-힣 ]\",\"\")\n",
    "validation_df2['user2'] = validation_df2['user2'].str.replace('^ +', \"\") # white space 데이터를 empty value로 변경\n",
    "\n",
    "validation_df2['chatbot1'].replace('', np.nan, inplace=True)\n",
    "validation_df2['user2'].replace('', np.nan, inplace=True)"
   ],
   "metadata": {
    "collapsed": false
   }
  },
  {
   "cell_type": "code",
   "execution_count": 34,
   "outputs": [
    {
     "data": {
      "text/plain": "2    900\n0    864\n1    854\n5    835\n4    822\n3    813\nName: major_emotions, dtype: int64"
     },
     "execution_count": 34,
     "metadata": {},
     "output_type": "execute_result"
    }
   ],
   "source": [
    "validation_df2['major_emotions'].value_counts()"
   ],
   "metadata": {
    "collapsed": false
   }
  },
  {
   "cell_type": "code",
   "execution_count": 35,
   "outputs": [
    {
     "data": {
      "text/plain": "0    1285\n1     861\n4     775\n3     735\n2     503\n6     335\n7     300\n5     294\nName: keywords, dtype: int64"
     },
     "execution_count": 35,
     "metadata": {},
     "output_type": "execute_result"
    }
   ],
   "source": [
    "validation_df2['keywords'].value_counts()"
   ],
   "metadata": {
    "collapsed": false
   }
  },
  {
   "cell_type": "markdown",
   "source": [
    "### ======= validation_df3 ======="
   ],
   "metadata": {
    "collapsed": false
   }
  },
  {
   "cell_type": "code",
   "execution_count": 36,
   "outputs": [
    {
     "name": "stdout",
     "output_type": "stream",
     "text": [
      "중복 제거 전 컬럼 별 unique 개수:  5096 5070 6\n",
      "중복을 제거한 후 총 샘플의 수 : 5059\n"
     ]
    }
   ],
   "source": [
    "print('중복 제거 전 컬럼 별 unique 개수: ',\n",
    "      validation_df3['user2'].nunique(),\n",
    "      validation_df3['chatbot2'].nunique(),\n",
    "      validation_df3['major_emotions'].nunique())\n",
    "\n",
    "# user1, chatbot1 열에서 중복인 내용이 있다면 중복 제거\n",
    "validation_df3 = validation_df3.drop_duplicates(subset=['user2']).reset_index(drop=True)\n",
    "validation_df3 = validation_df3.drop_duplicates(subset=['chatbot2']).reset_index(drop=True)\n",
    "\n",
    "print('중복을 제거한 후 총 샘플의 수 :',len(validation_df3))\n",
    "\n",
    "validation_df3['user2'] = validation_df3['user2'].str.replace(\"[^ㄱ-ㅎㅏ-ㅣ가-힣 ]\",\"\")\n",
    "validation_df3['user2'] = validation_df3['user2'].str.replace('^ +', \"\") # white space 데이터를 empty value로 변경\n",
    "\n",
    "validation_df3['chatbot2'] = validation_df3['chatbot2'].str.replace(\"[^ㄱ-ㅎㅏ-ㅣ가-힣 ]\",\"\")\n",
    "validation_df3['chatbot2'] = validation_df3['chatbot2'].str.replace('^ +', \"\") # white space 데이터를 empty value로 변경\n",
    "\n",
    "validation_df3['user2'].replace('', np.nan, inplace=True)\n",
    "validation_df3['chatbot2'].replace('', np.nan, inplace=True)"
   ],
   "metadata": {
    "collapsed": false
   }
  },
  {
   "cell_type": "code",
   "execution_count": 37,
   "outputs": [
    {
     "data": {
      "text/plain": "2    895\n0    858\n1    846\n5    835\n4    817\n3    808\nName: major_emotions, dtype: int64"
     },
     "execution_count": 37,
     "metadata": {},
     "output_type": "execute_result"
    }
   ],
   "source": [
    "validation_df3['major_emotions'].value_counts()"
   ],
   "metadata": {
    "collapsed": false
   }
  },
  {
   "cell_type": "code",
   "execution_count": 38,
   "outputs": [
    {
     "data": {
      "text/plain": "0    1274\n1     857\n4     768\n3     733\n2     506\n6     330\n7     300\n5     291\nName: keywords, dtype: int64"
     },
     "execution_count": 38,
     "metadata": {},
     "output_type": "execute_result"
    }
   ],
   "source": [
    "validation_df3['keywords'].value_counts()"
   ],
   "metadata": {
    "collapsed": false
   }
  },
  {
   "cell_type": "markdown",
   "source": [
    "### ======= validation_df4 ======="
   ],
   "metadata": {
    "collapsed": false
   }
  },
  {
   "cell_type": "code",
   "execution_count": 39,
   "outputs": [
    {
     "name": "stdout",
     "output_type": "stream",
     "text": [
      "중복 제거 전 컬럼 별 unique 개수:  5070 3846 6\n",
      "중복을 제거한 후 총 샘플의 수 : 3808\n"
     ]
    }
   ],
   "source": [
    "print('중복 제거 전 컬럼 별 unique 개수: ',\n",
    "      validation_df4['chatbot2'].nunique(),\n",
    "      validation_df4['user3'].nunique(),\n",
    "      validation_df4['major_emotions'].nunique())\n",
    "\n",
    "# chatbot1, user2 열에서 중복인 내용이 있다면 중복 제거\n",
    "validation_df4 = validation_df4.drop_duplicates(subset=['chatbot2']).reset_index(drop=True)\n",
    "validation_df4 = validation_df4.drop_duplicates(subset=['user3']).reset_index(drop=True)\n",
    "\n",
    "print('중복을 제거한 후 총 샘플의 수 :',len(validation_df4))\n",
    "\n",
    "validation_df4['chatbot2'] = validation_df4['chatbot2'].str.replace(\"[^ㄱ-ㅎㅏ-ㅣ가-힣 ]\",\"\")\n",
    "validation_df4['chatbot2'] = validation_df4['chatbot2'].str.replace('^ +', \"\") # white space 데이터를 empty value로 변경\n",
    "\n",
    "validation_df4['user3'] = validation_df4['user3'].str.replace(\"[^ㄱ-ㅎㅏ-ㅣ가-힣 ]\",\"\")\n",
    "validation_df4['user3'] = validation_df4['user3'].str.replace('^ +', \"\") # white space 데이터를 empty value로 변경\n",
    "\n",
    "validation_df4['chatbot2'].replace('', np.nan, inplace=True)\n",
    "validation_df4['user3'].replace('', np.nan, inplace=True)"
   ],
   "metadata": {
    "collapsed": false
   }
  },
  {
   "cell_type": "code",
   "execution_count": 40,
   "outputs": [
    {
     "data": {
      "text/plain": "2    680\n0    651\n1    633\n4    625\n5    617\n3    602\nName: major_emotions, dtype: int64"
     },
     "execution_count": 40,
     "metadata": {},
     "output_type": "execute_result"
    }
   ],
   "source": [
    "validation_df4['major_emotions'].value_counts()"
   ],
   "metadata": {
    "collapsed": false
   }
  },
  {
   "cell_type": "code",
   "execution_count": 41,
   "outputs": [
    {
     "data": {
      "text/plain": "0    991\n1    630\n4    569\n3    557\n2    379\n6    263\n5    219\n7    200\nName: keywords, dtype: int64"
     },
     "execution_count": 41,
     "metadata": {},
     "output_type": "execute_result"
    }
   ],
   "source": [
    "validation_df4['keywords'].value_counts()"
   ],
   "metadata": {
    "collapsed": false
   }
  },
  {
   "cell_type": "markdown",
   "source": [
    "### ======= validation_df5 ======="
   ],
   "metadata": {
    "collapsed": false
   }
  },
  {
   "cell_type": "code",
   "execution_count": 42,
   "outputs": [
    {
     "name": "stdout",
     "output_type": "stream",
     "text": [
      "중복 제거 전 컬럼 별 unique 개수:  3846 3861 6\n",
      "중복을 제거한 후 총 샘플의 수 : 3838\n"
     ]
    }
   ],
   "source": [
    "print('중복 제거 전 컬럼 별 unique 개수: ',\n",
    "      validation_df5['user3'].nunique(),\n",
    "      validation_df5['chatbot3'].nunique(),\n",
    "      validation_df5['major_emotions'].nunique())\n",
    "\n",
    "# user1, chatbot1 열에서 중복인 내용이 있다면 중복 제거\n",
    "validation_df5 = validation_df5.drop_duplicates(subset=['user3']).reset_index(drop=True)\n",
    "validation_df5 = validation_df5.drop_duplicates(subset=['chatbot3']).reset_index(drop=True)\n",
    "\n",
    "print('중복을 제거한 후 총 샘플의 수 :',len(validation_df5))\n",
    "\n",
    "validation_df5['user3'] = validation_df5['user3'].str.replace(\"[^ㄱ-ㅎㅏ-ㅣ가-힣 ]\",\"\")\n",
    "validation_df5['user3'] = validation_df5['user3'].str.replace('^ +', \"\") # white space 데이터를 empty value로 변경\n",
    "\n",
    "validation_df5['chatbot3'] = validation_df5['chatbot3'].str.replace(\"[^ㄱ-ㅎㅏ-ㅣ가-힣 ]\",\"\")\n",
    "validation_df5['chatbot3'] = validation_df5['chatbot3'].str.replace('^ +', \"\") # white space 데이터를 empty value로 변경\n",
    "\n",
    "validation_df5['user3'].replace('', np.nan, inplace=True)\n",
    "validation_df5['chatbot3'].replace('', np.nan, inplace=True)"
   ],
   "metadata": {
    "collapsed": false
   }
  },
  {
   "cell_type": "code",
   "execution_count": 43,
   "outputs": [
    {
     "data": {
      "text/plain": "2    686\n0    655\n1    641\n4    630\n5    619\n3    607\nName: major_emotions, dtype: int64"
     },
     "execution_count": 43,
     "metadata": {},
     "output_type": "execute_result"
    }
   ],
   "source": [
    "validation_df5['major_emotions'].value_counts()"
   ],
   "metadata": {
    "collapsed": false
   }
  },
  {
   "cell_type": "code",
   "execution_count": 44,
   "outputs": [
    {
     "data": {
      "text/plain": "0    998\n1    638\n4    578\n3    559\n2    378\n6    268\n5    221\n7    198\nName: keywords, dtype: int64"
     },
     "execution_count": 44,
     "metadata": {},
     "output_type": "execute_result"
    }
   ],
   "source": [
    "validation_df5['keywords'].value_counts()"
   ],
   "metadata": {
    "collapsed": false
   }
  },
  {
   "cell_type": "markdown",
   "source": [
    "### ======= validation_df6 ======="
   ],
   "metadata": {
    "collapsed": false
   }
  },
  {
   "cell_type": "code",
   "execution_count": 45,
   "outputs": [
    {
     "name": "stdout",
     "output_type": "stream",
     "text": [
      "중복 제거 전 컬럼 별 unique 개수:  3861 151 6\n",
      "중복을 제거한 후 총 샘플의 수 : 152\n"
     ]
    }
   ],
   "source": [
    "print('중복 제거 전 컬럼 별 unique 개수: ',\n",
    "      validation_df6['chatbot3'].nunique(),\n",
    "      validation_df6['user4'].nunique(),\n",
    "      validation_df6['major_emotions'].nunique())\n",
    "\n",
    "# chatbot1, user2 열에서 중복인 내용이 있다면 중복 제거\n",
    "traivalidation_df6n_df6 = validation_df6.drop_duplicates(subset=['chatbot3']).reset_index(drop=True)\n",
    "validation_df6 = validation_df6.drop_duplicates(subset=['user4']).reset_index(drop=True)\n",
    "\n",
    "print('중복을 제거한 후 총 샘플의 수 :',len(validation_df6))\n",
    "\n",
    "validation_df6['chatbot3'] = validation_df6['chatbot3'].str.replace(\"[^ㄱ-ㅎㅏ-ㅣ가-힣 ]\",\"\")\n",
    "validation_df6['chatbot3'] = validation_df6['chatbot3'].str.replace('^ +', \"\") # white space 데이터를 empty value로 변경\n",
    "\n",
    "validation_df6['user4'] = validation_df6['user4'].str.replace(\"[^ㄱ-ㅎㅏ-ㅣ가-힣 ]\",\"\")\n",
    "validation_df6['user4'] = validation_df6['user4'].str.replace('^ +', \"\") # white space 데이터를 empty value로 변경\n",
    "\n",
    "validation_df6['chatbot3'].replace('', np.nan, inplace=True)\n",
    "validation_df6['user4'].replace('', np.nan, inplace=True)"
   ],
   "metadata": {
    "collapsed": false
   }
  },
  {
   "cell_type": "code",
   "execution_count": 46,
   "outputs": [
    {
     "data": {
      "text/plain": "0    36\n2    30\n5    25\n1    25\n4    22\n3    14\nName: major_emotions, dtype: int64"
     },
     "execution_count": 46,
     "metadata": {},
     "output_type": "execute_result"
    }
   ],
   "source": [
    "validation_df6['major_emotions'].value_counts()"
   ],
   "metadata": {
    "collapsed": false
   }
  },
  {
   "cell_type": "code",
   "execution_count": 47,
   "outputs": [
    {
     "data": {
      "text/plain": "0    42\n6    28\n1    25\n4    20\n3    15\n5    11\n7     7\n2     4\nName: keywords, dtype: int64"
     },
     "execution_count": 47,
     "metadata": {},
     "output_type": "execute_result"
    }
   ],
   "source": [
    "validation_df6['keywords'].value_counts()"
   ],
   "metadata": {
    "collapsed": false
   }
  },
  {
   "cell_type": "markdown",
   "source": [
    "### ======= validation_df7 ======="
   ],
   "metadata": {
    "collapsed": false
   }
  },
  {
   "cell_type": "code",
   "execution_count": 88,
   "outputs": [
    {
     "data": {
      "text/plain": "        keywords major_emotions                                      user4  \\\n번호                                                                           \n44164.0        2              5                                        NaN   \n3926.0         3              2                                        NaN   \n50882.0        5              4  선생님이 강조하신 부분을 필기하고 집에서 매일 수업 내용을 복습하려고 해.   \n31303.0        4              5                                        NaN   \n47200.0        4              5                                        NaN   \n...          ...            ...                                        ...   \nNaN          NaN            NaN                                        NaN   \nNaN          NaN            NaN                                        NaN   \nNaN          NaN            NaN                                        NaN   \nNaN          NaN            NaN                                        NaN   \nNaN          NaN            NaN                                        NaN   \n\n                         chatbot4  \n번호                                 \n44164.0                       NaN  \n3926.0                        NaN  \n50882.0  열심히 해서 좋은 결과가 있었으면 좋겠어요.  \n31303.0                       NaN  \n47200.0                       NaN  \n...                           ...  \nNaN                           NaN  \nNaN                           NaN  \nNaN                           NaN  \nNaN                           NaN  \nNaN                           NaN  \n\n[69218 rows x 4 columns]",
      "text/html": "<div>\n<style scoped>\n    .dataframe tbody tr th:only-of-type {\n        vertical-align: middle;\n    }\n\n    .dataframe tbody tr th {\n        vertical-align: top;\n    }\n\n    .dataframe thead th {\n        text-align: right;\n    }\n</style>\n<table border=\"1\" class=\"dataframe\">\n  <thead>\n    <tr style=\"text-align: right;\">\n      <th></th>\n      <th>keywords</th>\n      <th>major_emotions</th>\n      <th>user4</th>\n      <th>chatbot4</th>\n    </tr>\n    <tr>\n      <th>번호</th>\n      <th></th>\n      <th></th>\n      <th></th>\n      <th></th>\n    </tr>\n  </thead>\n  <tbody>\n    <tr>\n      <th>44164.0</th>\n      <td>2</td>\n      <td>5</td>\n      <td>NaN</td>\n      <td>NaN</td>\n    </tr>\n    <tr>\n      <th>3926.0</th>\n      <td>3</td>\n      <td>2</td>\n      <td>NaN</td>\n      <td>NaN</td>\n    </tr>\n    <tr>\n      <th>50882.0</th>\n      <td>5</td>\n      <td>4</td>\n      <td>선생님이 강조하신 부분을 필기하고 집에서 매일 수업 내용을 복습하려고 해.</td>\n      <td>열심히 해서 좋은 결과가 있었으면 좋겠어요.</td>\n    </tr>\n    <tr>\n      <th>31303.0</th>\n      <td>4</td>\n      <td>5</td>\n      <td>NaN</td>\n      <td>NaN</td>\n    </tr>\n    <tr>\n      <th>47200.0</th>\n      <td>4</td>\n      <td>5</td>\n      <td>NaN</td>\n      <td>NaN</td>\n    </tr>\n    <tr>\n      <th>...</th>\n      <td>...</td>\n      <td>...</td>\n      <td>...</td>\n      <td>...</td>\n    </tr>\n    <tr>\n      <th>NaN</th>\n      <td>NaN</td>\n      <td>NaN</td>\n      <td>NaN</td>\n      <td>NaN</td>\n    </tr>\n    <tr>\n      <th>NaN</th>\n      <td>NaN</td>\n      <td>NaN</td>\n      <td>NaN</td>\n      <td>NaN</td>\n    </tr>\n    <tr>\n      <th>NaN</th>\n      <td>NaN</td>\n      <td>NaN</td>\n      <td>NaN</td>\n      <td>NaN</td>\n    </tr>\n    <tr>\n      <th>NaN</th>\n      <td>NaN</td>\n      <td>NaN</td>\n      <td>NaN</td>\n      <td>NaN</td>\n    </tr>\n    <tr>\n      <th>NaN</th>\n      <td>NaN</td>\n      <td>NaN</td>\n      <td>NaN</td>\n      <td>NaN</td>\n    </tr>\n  </tbody>\n</table>\n<p>69218 rows × 4 columns</p>\n</div>"
     },
     "execution_count": 88,
     "metadata": {},
     "output_type": "execute_result"
    }
   ],
   "source": [
    "validation_df7"
   ],
   "metadata": {
    "collapsed": false
   }
  },
  {
   "cell_type": "code",
   "execution_count": 48,
   "outputs": [
    {
     "name": "stdout",
     "output_type": "stream",
     "text": [
      "중복 제거 전 컬럼 별 unique 개수:  151 136 6\n",
      "중복을 제거한 후 총 샘플의 수 : 136\n"
     ]
    }
   ],
   "source": [
    "print('중복 제거 전 컬럼 별 unique 개수: ',\n",
    "      validation_df7['user4'].nunique(),\n",
    "      validation_df7['chatbot4'].nunique(),\n",
    "      validation_df7['major_emotions'].nunique())\n",
    "\n",
    "# user1, chatbot1 열에서 중복인 내용이 있다면 중복 제거\n",
    "validation_df7 = validation_df7.drop_duplicates(subset=['user4']).reset_index(drop=True)\n",
    "validation_df7 = validation_df7.drop_duplicates(subset=['chatbot4']).reset_index(drop=True)\n",
    "\n",
    "print('중복을 제거한 후 총 샘플의 수 :',len(validation_df7))\n",
    "\n",
    "validation_df7['user4'] = validation_df7['user4'].str.replace(\"[^ㄱ-ㅎㅏ-ㅣ가-힣 ]\",\"\")\n",
    "validation_df7['user4'] = validation_df7['user4'].str.replace('^ +', \"\") # white space 데이터를 empty value로 변경\n",
    "\n",
    "validation_df7['chatbot4'] = validation_df7['chatbot4'].str.replace(\"[^ㄱ-ㅎㅏ-ㅣ가-힣 ]\",\"\")\n",
    "validation_df7['chatbot4'] = validation_df7['chatbot4'].str.replace('^ +', \"\") # white space 데이터를 empty value로 변경\n",
    "\n",
    "validation_df7['user4'].replace('', np.nan, inplace=True)\n",
    "validation_df7['chatbot4'].replace('', np.nan, inplace=True)"
   ],
   "metadata": {
    "collapsed": false
   }
  },
  {
   "cell_type": "code",
   "execution_count": 49,
   "outputs": [
    {
     "data": {
      "text/plain": "0    31\n2    25\n5    23\n1    23\n4    21\n3    13\nName: major_emotions, dtype: int64"
     },
     "execution_count": 49,
     "metadata": {},
     "output_type": "execute_result"
    }
   ],
   "source": [
    "validation_df7['major_emotions'].value_counts()"
   ],
   "metadata": {
    "collapsed": false
   }
  },
  {
   "cell_type": "code",
   "execution_count": 50,
   "outputs": [
    {
     "data": {
      "text/plain": "0    35\n6    28\n1    23\n4    18\n3    14\n7     7\n5     7\n2     4\nName: keywords, dtype: int64"
     },
     "execution_count": 50,
     "metadata": {},
     "output_type": "execute_result"
    }
   ],
   "source": [
    "validation_df7['keywords'].value_counts()"
   ],
   "metadata": {
    "collapsed": false
   }
  },
  {
   "cell_type": "markdown",
   "source": [
    "# train_df1~7 합치기"
   ],
   "metadata": {
    "collapsed": false
   }
  },
  {
   "cell_type": "code",
   "execution_count": 52,
   "outputs": [
    {
     "data": {
      "text/plain": "      keywords major_emotions  \\\n번호                              \n23093        1              0   \n32848        7              1   \n35590        6              2   \n169          1              4   \n38435        4              0   \n...        ...            ...   \n37859        4              5   \n40171        3              2   \n13717        2              0   \n33784        4              0   \n43490        4              0   \n\n                                                   user1  \\\n번호                                                         \n23093                                    요즘 부모님과 많이 부딪혀.   \n32848                           엄마가 결국 집을 나갔어. 너무 너무 슬퍼.   \n35590                     학교에서 한 친구를 괴롭히는 무리에게 그만하라고 했어.   \n169     이번에 팀장님이 간단한 조사 업무를 부탁하셨는데 내가 잘못 처리했어. 너무 절망적이야.   \n38435                  남편이 이혼할 때 위자료를 주지 않으려고 변호사를 고용했어.   \n...                                                  ...   \n37859                   부동산 임대 소득으로 현재 여유롭게 살 수 있어서 좋단다.   \n40171  폐결핵은 이미 완치된 것 같은데 약을 한 달이나 더 먹으라고 하네? 아직 안 나은 ...   \n13717    연애하고 싶은데 소개팅만 나가면 꽝이야. 이러다가 난 결혼 못 하고 늙어 죽을 거야.   \n33784       은행 대출이 막혀서 생활비를 구할 수가 없어. 이제 어떻게 살아야 하나 막막해.   \n43490            자식들은 키워 준 은혜도 모르고 내게 오지도 않네. 너무 외롭고 슬퍼.   \n\n                                          chatbot1  \\\n번호                                                   \n23093                                어떤 일로 부딪히시나요?   \n32848  어머니께서 집을 나가셨다니 정말 슬프셨겠어요. 좀 더 자세히 얘기해주시겠어요?   \n35590                   용기 있는 행동을 하셨네요. 마음이 어떠셨나요?   \n169        팀장님이 부탁하신 업무를 잘못 처리하셔서 많이 당황하시고 놀라셨겠어요.   \n38435                                 많이 화가 나시겠어요.   \n...                                            ...   \n37859                        여유롭게 생활할 수 있어 좋으시겠어요.   \n40171           치료가 완료되지 않은 게 아닐까 싶으셔서 염려하고 계시는군요.   \n13717     소개팅에서 만나는 사람과 계속 잘 안 풀려서 많이 좌절하신 것 같아요.    \n33784                      은행 대출이 안 돼서 마음이 괴로우시군요.   \n43490                   자녀들이 찾아오지 않아서 슬퍼하시는 것 같아요.   \n\n                                                   user2  \\\n번호                                                         \n23093  난 하고 싶은 일이 있는데 부모님은 안정적인 일만 하라고 하셔. 내 마음대로 하지도...   \n32848  엄마도 엄마만의 인생이 있을 테니 가지 말라고 할 수가 없었어. 그래서 더 마음이 ...   \n35590                      그런데 말을 하고 난 후 나도 괴롭힐까 봐 불안했어.   \n169                 곧 있으면 인턴에서 정규직 전환 평가가 있는데 안 좋을 것 같아.   \n38435                             어떻게 그럴 수가 있지? 너무 화가 나.   \n...                                                  ...   \n37859                         그래서 마음의 안정을 가질 수 있었던 것 같아.   \n40171                         이대로 혹시 더 심해져서 죽게 되는 건 아닐까?   \n13717  내가 게을러서 다른 방법을 아직 생각하진 못했어. 댄스 동호회는 좀 괜찮은 것 같은...   \n33784                          당장 내일 밥은 어떡하고 내 병원비는 어쩌지.   \n43490   응 이제 다들 독립해가지고 명절 아니면 찾아오질 않아. 안부전화라도 해주면 좋을 텐데.   \n\n                                               chatbot2  \\\n번호                                                        \n23093                                 부모님과의 충돌로 힘드시겠군요.   \n32848               정말 많이 답답하셨겠어요. 어떻게 하는 게 기분이 좀 풀릴까요?   \n35590        그랬군요. 지금 기분에서 벗어나기 위해 할 수 있는 일에는 무엇이 있을까요?   \n169    마음이 많이 안 좋으시겠어요. 지금 상황을 타개할 수 있는 가장 좋은 방안이 있을까요?   \n38435                        어떻게 하면 지금의 감정을 추스를 수 있을까요?   \n...                                                 ...   \n37859                      그렇군요. 계속해서 여유로우려면 어떡해야 좋을까요?   \n40171                 많이 불안하시군요. 불안함을 줄일 수 있는 방법이 있을까요?   \n13717                     댄스 동호회에 가입해서 사람들을 만나려고 하시는군요.   \n33784                     이 상황을 해결하기 위해서는 어떻게 할 수 있을까요?   \n43490          특별한 날뿐만 아니라 평소에도 자녀들과 소통하고 싶어 하시는 것 같아요.   \n\n                                                user3  \\\n번호                                                      \n23093                 응. 그래도 난 내가 하고 싶은 일을 위해 노력할 거야.   \n32848                                      일단 좀 자야겠어.   \n35590           나는 옳은 일을 한 거라고 생각해. 나까지 괴롭힌다면 신고할 거야.   \n169        우선 잘못된 부분을 솔직하게 말씀드리고 수정하기 위해서 최선을 다해봐야겠어.   \n38435                       나도 변호사를 고용해서 한번 얘기해보려고 해.   \n...                                               ...   \n37859                 돈을 함부로 쓰지 말고 지금 현재에 만족하면서 지내야지.   \n40171            의사 선생님에게 악화될 확률은 얼마나 되는지 정확히 물어봐야겠어.   \n13717                                             NaN   \n33784                      어떻게 해야 할 지 모르겠어. 눈 앞이 캄캄해.   \n43490  이런 감정이 들 때면 옛날 생각이 많이 나. 옛날에는 그게 당연한 것인 줄 알았지.   \n\n                                              chatbot3 user4 chatbot4  \n번호                                                                     \n23093                       자신이 하고 싶은 일을 목표로 하기로 하셨군요.   NaN      NaN  \n32848                                일단 휴식을 가질 생각이시군요.   NaN      NaN  \n35590                지금의 상황이 나의 방식으로써 잘 해결될 수 있기를 바라요.   NaN      NaN  \n169                   잘못된 부분을 잘 수정해서 좋은 결과가 있었으면 좋겠어요.   NaN      NaN  \n38435                      자녀분들이랑 함께 하며 슬픔을 극복하시길 바라요.   NaN      NaN  \n...                                                ...   ...      ...  \n37859                               다른 병원에 가보려고 하시는군요.   NaN      NaN  \n40171                  정확히 진단받고 나면 염려를 줄이는데 도움이 될 거예요.   NaN      NaN  \n13717                                              NaN   NaN      NaN  \n33784               지금 이 기분을 나눌 수 있는 사람이 주위에 있으면 좋겠어요.   NaN      NaN  \n43490  추억에 잠기셨군요. 앞으로도 계속 가족과의 좋은 기억을 만들어 나갈 수 있길 바라요.   NaN      NaN  \n\n[5130 rows x 10 columns]",
      "text/html": "<div>\n<style scoped>\n    .dataframe tbody tr th:only-of-type {\n        vertical-align: middle;\n    }\n\n    .dataframe tbody tr th {\n        vertical-align: top;\n    }\n\n    .dataframe thead th {\n        text-align: right;\n    }\n</style>\n<table border=\"1\" class=\"dataframe\">\n  <thead>\n    <tr style=\"text-align: right;\">\n      <th></th>\n      <th>keywords</th>\n      <th>major_emotions</th>\n      <th>user1</th>\n      <th>chatbot1</th>\n      <th>user2</th>\n      <th>chatbot2</th>\n      <th>user3</th>\n      <th>chatbot3</th>\n      <th>user4</th>\n      <th>chatbot4</th>\n    </tr>\n    <tr>\n      <th>번호</th>\n      <th></th>\n      <th></th>\n      <th></th>\n      <th></th>\n      <th></th>\n      <th></th>\n      <th></th>\n      <th></th>\n      <th></th>\n      <th></th>\n    </tr>\n  </thead>\n  <tbody>\n    <tr>\n      <th>23093</th>\n      <td>1</td>\n      <td>0</td>\n      <td>요즘 부모님과 많이 부딪혀.</td>\n      <td>어떤 일로 부딪히시나요?</td>\n      <td>난 하고 싶은 일이 있는데 부모님은 안정적인 일만 하라고 하셔. 내 마음대로 하지도...</td>\n      <td>부모님과의 충돌로 힘드시겠군요.</td>\n      <td>응. 그래도 난 내가 하고 싶은 일을 위해 노력할 거야.</td>\n      <td>자신이 하고 싶은 일을 목표로 하기로 하셨군요.</td>\n      <td>NaN</td>\n      <td>NaN</td>\n    </tr>\n    <tr>\n      <th>32848</th>\n      <td>7</td>\n      <td>1</td>\n      <td>엄마가 결국 집을 나갔어. 너무 너무 슬퍼.</td>\n      <td>어머니께서 집을 나가셨다니 정말 슬프셨겠어요. 좀 더 자세히 얘기해주시겠어요?</td>\n      <td>엄마도 엄마만의 인생이 있을 테니 가지 말라고 할 수가 없었어. 그래서 더 마음이 ...</td>\n      <td>정말 많이 답답하셨겠어요. 어떻게 하는 게 기분이 좀 풀릴까요?</td>\n      <td>일단 좀 자야겠어.</td>\n      <td>일단 휴식을 가질 생각이시군요.</td>\n      <td>NaN</td>\n      <td>NaN</td>\n    </tr>\n    <tr>\n      <th>35590</th>\n      <td>6</td>\n      <td>2</td>\n      <td>학교에서 한 친구를 괴롭히는 무리에게 그만하라고 했어.</td>\n      <td>용기 있는 행동을 하셨네요. 마음이 어떠셨나요?</td>\n      <td>그런데 말을 하고 난 후 나도 괴롭힐까 봐 불안했어.</td>\n      <td>그랬군요. 지금 기분에서 벗어나기 위해 할 수 있는 일에는 무엇이 있을까요?</td>\n      <td>나는 옳은 일을 한 거라고 생각해. 나까지 괴롭힌다면 신고할 거야.</td>\n      <td>지금의 상황이 나의 방식으로써 잘 해결될 수 있기를 바라요.</td>\n      <td>NaN</td>\n      <td>NaN</td>\n    </tr>\n    <tr>\n      <th>169</th>\n      <td>1</td>\n      <td>4</td>\n      <td>이번에 팀장님이 간단한 조사 업무를 부탁하셨는데 내가 잘못 처리했어. 너무 절망적이야.</td>\n      <td>팀장님이 부탁하신 업무를 잘못 처리하셔서 많이 당황하시고 놀라셨겠어요.</td>\n      <td>곧 있으면 인턴에서 정규직 전환 평가가 있는데 안 좋을 것 같아.</td>\n      <td>마음이 많이 안 좋으시겠어요. 지금 상황을 타개할 수 있는 가장 좋은 방안이 있을까요?</td>\n      <td>우선 잘못된 부분을 솔직하게 말씀드리고 수정하기 위해서 최선을 다해봐야겠어.</td>\n      <td>잘못된 부분을 잘 수정해서 좋은 결과가 있었으면 좋겠어요.</td>\n      <td>NaN</td>\n      <td>NaN</td>\n    </tr>\n    <tr>\n      <th>38435</th>\n      <td>4</td>\n      <td>0</td>\n      <td>남편이 이혼할 때 위자료를 주지 않으려고 변호사를 고용했어.</td>\n      <td>많이 화가 나시겠어요.</td>\n      <td>어떻게 그럴 수가 있지? 너무 화가 나.</td>\n      <td>어떻게 하면 지금의 감정을 추스를 수 있을까요?</td>\n      <td>나도 변호사를 고용해서 한번 얘기해보려고 해.</td>\n      <td>자녀분들이랑 함께 하며 슬픔을 극복하시길 바라요.</td>\n      <td>NaN</td>\n      <td>NaN</td>\n    </tr>\n    <tr>\n      <th>...</th>\n      <td>...</td>\n      <td>...</td>\n      <td>...</td>\n      <td>...</td>\n      <td>...</td>\n      <td>...</td>\n      <td>...</td>\n      <td>...</td>\n      <td>...</td>\n      <td>...</td>\n    </tr>\n    <tr>\n      <th>37859</th>\n      <td>4</td>\n      <td>5</td>\n      <td>부동산 임대 소득으로 현재 여유롭게 살 수 있어서 좋단다.</td>\n      <td>여유롭게 생활할 수 있어 좋으시겠어요.</td>\n      <td>그래서 마음의 안정을 가질 수 있었던 것 같아.</td>\n      <td>그렇군요. 계속해서 여유로우려면 어떡해야 좋을까요?</td>\n      <td>돈을 함부로 쓰지 말고 지금 현재에 만족하면서 지내야지.</td>\n      <td>다른 병원에 가보려고 하시는군요.</td>\n      <td>NaN</td>\n      <td>NaN</td>\n    </tr>\n    <tr>\n      <th>40171</th>\n      <td>3</td>\n      <td>2</td>\n      <td>폐결핵은 이미 완치된 것 같은데 약을 한 달이나 더 먹으라고 하네? 아직 안 나은 ...</td>\n      <td>치료가 완료되지 않은 게 아닐까 싶으셔서 염려하고 계시는군요.</td>\n      <td>이대로 혹시 더 심해져서 죽게 되는 건 아닐까?</td>\n      <td>많이 불안하시군요. 불안함을 줄일 수 있는 방법이 있을까요?</td>\n      <td>의사 선생님에게 악화될 확률은 얼마나 되는지 정확히 물어봐야겠어.</td>\n      <td>정확히 진단받고 나면 염려를 줄이는데 도움이 될 거예요.</td>\n      <td>NaN</td>\n      <td>NaN</td>\n    </tr>\n    <tr>\n      <th>13717</th>\n      <td>2</td>\n      <td>0</td>\n      <td>연애하고 싶은데 소개팅만 나가면 꽝이야. 이러다가 난 결혼 못 하고 늙어 죽을 거야.</td>\n      <td>소개팅에서 만나는 사람과 계속 잘 안 풀려서 많이 좌절하신 것 같아요.</td>\n      <td>내가 게을러서 다른 방법을 아직 생각하진 못했어. 댄스 동호회는 좀 괜찮은 것 같은...</td>\n      <td>댄스 동호회에 가입해서 사람들을 만나려고 하시는군요.</td>\n      <td>NaN</td>\n      <td>NaN</td>\n      <td>NaN</td>\n      <td>NaN</td>\n    </tr>\n    <tr>\n      <th>33784</th>\n      <td>4</td>\n      <td>0</td>\n      <td>은행 대출이 막혀서 생활비를 구할 수가 없어. 이제 어떻게 살아야 하나 막막해.</td>\n      <td>은행 대출이 안 돼서 마음이 괴로우시군요.</td>\n      <td>당장 내일 밥은 어떡하고 내 병원비는 어쩌지.</td>\n      <td>이 상황을 해결하기 위해서는 어떻게 할 수 있을까요?</td>\n      <td>어떻게 해야 할 지 모르겠어. 눈 앞이 캄캄해.</td>\n      <td>지금 이 기분을 나눌 수 있는 사람이 주위에 있으면 좋겠어요.</td>\n      <td>NaN</td>\n      <td>NaN</td>\n    </tr>\n    <tr>\n      <th>43490</th>\n      <td>4</td>\n      <td>0</td>\n      <td>자식들은 키워 준 은혜도 모르고 내게 오지도 않네. 너무 외롭고 슬퍼.</td>\n      <td>자녀들이 찾아오지 않아서 슬퍼하시는 것 같아요.</td>\n      <td>응 이제 다들 독립해가지고 명절 아니면 찾아오질 않아. 안부전화라도 해주면 좋을 텐데.</td>\n      <td>특별한 날뿐만 아니라 평소에도 자녀들과 소통하고 싶어 하시는 것 같아요.</td>\n      <td>이런 감정이 들 때면 옛날 생각이 많이 나. 옛날에는 그게 당연한 것인 줄 알았지.</td>\n      <td>추억에 잠기셨군요. 앞으로도 계속 가족과의 좋은 기억을 만들어 나갈 수 있길 바라요.</td>\n      <td>NaN</td>\n      <td>NaN</td>\n    </tr>\n  </tbody>\n</table>\n<p>5130 rows × 10 columns</p>\n</div>"
     },
     "execution_count": 52,
     "metadata": {},
     "output_type": "execute_result"
    }
   ],
   "source": [
    "validation_df"
   ],
   "metadata": {
    "collapsed": false
   }
  },
  {
   "cell_type": "code",
   "execution_count": 53,
   "outputs": [],
   "source": [
    "final_validation_df = pd.DataFrame(\n",
    "      {'keywords': validation_df1['keywords'].tolist() + validation_df2['keywords'].tolist() + validation_df3['keywords'].tolist() +\n",
    "                  validation_df4['keywords'].tolist() + validation_df5['keywords'].tolist() + validation_df6['keywords'].tolist() +\n",
    "                  validation_df7['keywords'].tolist(),\n",
    "      'major_emotions': validation_df1['major_emotions'].tolist() + validation_df2['major_emotions'].tolist() +\n",
    "                        validation_df3['major_emotions'].tolist() + validation_df4['major_emotions'].tolist() +\n",
    "                        validation_df5['major_emotions'].tolist() + validation_df6['major_emotions'].tolist() +\n",
    "                        validation_df7['major_emotions'].tolist(),\n",
    "      'Q': validation_df1['user1'].tolist() + validation_df2['chatbot1'].tolist() + validation_df3['user2'].tolist() +\n",
    "            validation_df4['chatbot2'].tolist() + validation_df5['user3'].tolist() + validation_df6['chatbot3'].tolist() +\n",
    "            validation_df7['user4'].tolist(),\n",
    "      'A': validation_df1['chatbot1'].tolist() + validation_df2['user2'].tolist() + validation_df3['chatbot2'].tolist() +\n",
    "            validation_df4['user3'].tolist() + validation_df5['chatbot3'].tolist() + validation_df6['user4'].tolist() +\n",
    "            validation_df7['chatbot4'].tolist()})"
   ],
   "metadata": {
    "collapsed": false
   }
  },
  {
   "cell_type": "code",
   "execution_count": 54,
   "outputs": [
    {
     "name": "stdout",
     "output_type": "stream",
     "text": [
      "23176\n",
      "23176\n"
     ]
    }
   ],
   "source": [
    "print(len(validation_df1.index) +\n",
    "      len(validation_df2.index) +\n",
    "      len(validation_df3.index) +\n",
    "      len(validation_df4.index) +\n",
    "      len(validation_df5.index) +\n",
    "      len(validation_df6.index) +\n",
    "      len(validation_df7.index))\n",
    "\n",
    "print(len(final_validation_df))"
   ],
   "metadata": {
    "collapsed": false
   }
  },
  {
   "cell_type": "code",
   "execution_count": 55,
   "outputs": [
    {
     "data": {
      "text/plain": "       keywords  major_emotions  \\\n0             1               0   \n1             7               1   \n2             6               2   \n3             1               4   \n4             4               0   \n...         ...             ...   \n23171         6               0   \n23172         5               4   \n23173         0               4   \n23174         6               1   \n23175         0               0   \n\n                                                    Q  \\\n0                                      요즘 부모님과 많이 부딪혀   \n1                              엄마가 결국 집을 나갔어 너무 너무 슬퍼   \n2                       학교에서 한 친구를 괴롭히는 무리에게 그만하라고 했어   \n3      이번에 팀장님이 간단한 조사 업무를 부탁하셨는데 내가 잘못 처리했어 너무 절망적이야   \n4                    남편이 이혼할 때 위자료를 주지 않으려고 변호사를 고용했어   \n...                                               ...   \n23171                     학교폭력위원회를 열어서 징계를 받게 할 수도 있어   \n23172                  내가 얼마나 이 일에 진심이고 좋아하는지를 말씀드려야지   \n23173         숙소만 잡아놓으면 내가 잘 아는 곳이기 때문에 다른 건 준비할 게 없어   \n23174             아무래도 내가 먼저 싸우지 않도록 마음을 잘 다스리도록 해야겠어   \n23175               최소한 내가 스트레스 받고 있다는 건 알릴 수 있을 것 같네   \n\n                                               A  \n0                                   어떤 일로 부딪히시나요  \n1      어머니께서 집을 나가셨다니 정말 슬프셨겠어요 좀 더 자세히 얘기해주시겠어요  \n2                       용기 있는 행동을 하셨네요 마음이 어떠셨나요  \n3         팀장님이 부탁하신 업무를 잘못 처리하셔서 많이 당황하시고 놀라셨겠어요  \n4                                    많이 화가 나시겠어요  \n...                                          ...  \n23171      담임 선생님께 말씀 드리면 가해 학생들이 징계를 받게 될 수 있군요  \n23172                 이 일에 대한 나의 열정을 말씀 드리려 하는군요  \n23173             오랜만에 고향에 가셔서 마음껏 즐기고 오셨으면 좋겠어요  \n23174                마음을 잘 다스려서 친구들과 잘 지냈으면 좋겠어요  \n23175             가족들과 진중한 대화를 나누고 관계가 나아지기를 바라요  \n\n[23176 rows x 4 columns]",
      "text/html": "<div>\n<style scoped>\n    .dataframe tbody tr th:only-of-type {\n        vertical-align: middle;\n    }\n\n    .dataframe tbody tr th {\n        vertical-align: top;\n    }\n\n    .dataframe thead th {\n        text-align: right;\n    }\n</style>\n<table border=\"1\" class=\"dataframe\">\n  <thead>\n    <tr style=\"text-align: right;\">\n      <th></th>\n      <th>keywords</th>\n      <th>major_emotions</th>\n      <th>Q</th>\n      <th>A</th>\n    </tr>\n  </thead>\n  <tbody>\n    <tr>\n      <th>0</th>\n      <td>1</td>\n      <td>0</td>\n      <td>요즘 부모님과 많이 부딪혀</td>\n      <td>어떤 일로 부딪히시나요</td>\n    </tr>\n    <tr>\n      <th>1</th>\n      <td>7</td>\n      <td>1</td>\n      <td>엄마가 결국 집을 나갔어 너무 너무 슬퍼</td>\n      <td>어머니께서 집을 나가셨다니 정말 슬프셨겠어요 좀 더 자세히 얘기해주시겠어요</td>\n    </tr>\n    <tr>\n      <th>2</th>\n      <td>6</td>\n      <td>2</td>\n      <td>학교에서 한 친구를 괴롭히는 무리에게 그만하라고 했어</td>\n      <td>용기 있는 행동을 하셨네요 마음이 어떠셨나요</td>\n    </tr>\n    <tr>\n      <th>3</th>\n      <td>1</td>\n      <td>4</td>\n      <td>이번에 팀장님이 간단한 조사 업무를 부탁하셨는데 내가 잘못 처리했어 너무 절망적이야</td>\n      <td>팀장님이 부탁하신 업무를 잘못 처리하셔서 많이 당황하시고 놀라셨겠어요</td>\n    </tr>\n    <tr>\n      <th>4</th>\n      <td>4</td>\n      <td>0</td>\n      <td>남편이 이혼할 때 위자료를 주지 않으려고 변호사를 고용했어</td>\n      <td>많이 화가 나시겠어요</td>\n    </tr>\n    <tr>\n      <th>...</th>\n      <td>...</td>\n      <td>...</td>\n      <td>...</td>\n      <td>...</td>\n    </tr>\n    <tr>\n      <th>23171</th>\n      <td>6</td>\n      <td>0</td>\n      <td>학교폭력위원회를 열어서 징계를 받게 할 수도 있어</td>\n      <td>담임 선생님께 말씀 드리면 가해 학생들이 징계를 받게 될 수 있군요</td>\n    </tr>\n    <tr>\n      <th>23172</th>\n      <td>5</td>\n      <td>4</td>\n      <td>내가 얼마나 이 일에 진심이고 좋아하는지를 말씀드려야지</td>\n      <td>이 일에 대한 나의 열정을 말씀 드리려 하는군요</td>\n    </tr>\n    <tr>\n      <th>23173</th>\n      <td>0</td>\n      <td>4</td>\n      <td>숙소만 잡아놓으면 내가 잘 아는 곳이기 때문에 다른 건 준비할 게 없어</td>\n      <td>오랜만에 고향에 가셔서 마음껏 즐기고 오셨으면 좋겠어요</td>\n    </tr>\n    <tr>\n      <th>23174</th>\n      <td>6</td>\n      <td>1</td>\n      <td>아무래도 내가 먼저 싸우지 않도록 마음을 잘 다스리도록 해야겠어</td>\n      <td>마음을 잘 다스려서 친구들과 잘 지냈으면 좋겠어요</td>\n    </tr>\n    <tr>\n      <th>23175</th>\n      <td>0</td>\n      <td>0</td>\n      <td>최소한 내가 스트레스 받고 있다는 건 알릴 수 있을 것 같네</td>\n      <td>가족들과 진중한 대화를 나누고 관계가 나아지기를 바라요</td>\n    </tr>\n  </tbody>\n</table>\n<p>23176 rows × 4 columns</p>\n</div>"
     },
     "execution_count": 55,
     "metadata": {},
     "output_type": "execute_result"
    }
   ],
   "source": [
    "final_validation_df"
   ],
   "metadata": {
    "collapsed": false
   }
  },
  {
   "cell_type": "code",
   "execution_count": 56,
   "outputs": [],
   "source": [
    "final_validation_df.to_csv('validation_preprocessing_data.csv', index=False)"
   ],
   "metadata": {
    "collapsed": false
   }
  },
  {
   "cell_type": "code",
   "execution_count": null,
   "outputs": [],
   "source": [],
   "metadata": {
    "collapsed": false
   }
  }
 ],
 "metadata": {
  "kernelspec": {
   "display_name": "Python 3",
   "language": "python",
   "name": "python3"
  },
  "language_info": {
   "codemirror_mode": {
    "name": "ipython",
    "version": 2
   },
   "file_extension": ".py",
   "mimetype": "text/x-python",
   "name": "python",
   "nbconvert_exporter": "python",
   "pygments_lexer": "ipython2",
   "version": "2.7.6"
  }
 },
 "nbformat": 4,
 "nbformat_minor": 0
}
