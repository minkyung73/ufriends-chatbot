{
 "cells": [
  {
   "cell_type": "code",
   "execution_count": 74,
   "metadata": {
    "collapsed": true
   },
   "outputs": [],
   "source": [
    "import pandas as pd\n",
    "import numpy as np"
   ]
  },
  {
   "cell_type": "code",
   "execution_count": 113,
   "outputs": [],
   "source": [
    "train_df = pd.read_excel('../Dataset/Training/Final_감성대화말뭉치_Training/감성대화말뭉치(최종데이터)_Training.xlsx', engine='openpyxl')\n",
    "validation_df = pd.read_excel('../Dataset/Validation/Final_감성대화말뭉치_Validation/감성대화말뭉치(최종데이터)_Validation.xlsx', engine='openpyxl')\n",
    "\n",
    "train_df.set_index(\"번호\", inplace=True)\n",
    "validation_df.set_index(\"번호\", inplace=True)\n",
    "\n",
    "train_df = train_df.drop([\"연령\", \"성별\", \"신체질환\", '감정_소분류',\n",
    "                          '사람문장2', '시스템응답2',\n",
    "                          '사람문장3', '시스템응답3',\n",
    "                          '사람문장4', '시스템응답4' ], axis=1)\n",
    "validation_df = validation_df.drop([\"연령\", \"성별\", \"신체질환\", '감정_소분류',\n",
    "                                    '사람문장2', '시스템응답2',\n",
    "                                    '사람문장3', '시스템응답3',\n",
    "                                    '사람문장4', '시스템응답4'], axis=1)"
   ],
   "metadata": {
    "collapsed": false
   }
  },
  {
   "cell_type": "code",
   "execution_count": 114,
   "outputs": [],
   "source": [
    "# 감정_대분류 : '불안 ', '기쁨 ' -> '불안', '기쁨'\n",
    "train_df.loc[train_df['감정_대분류'] == '기쁨 ', '감정_대분류'] = '기쁨'\n",
    "train_df.loc[train_df['감정_대분류'] == '불안 ', '감정_대분류'] = '불안'\n",
    "\n",
    "validation_df.loc[validation_df['감정_대분류'] == '기쁨 ', '감정_대분류'] = '기쁨'\n",
    "validation_df.loc[validation_df['감정_대분류'] == '불안 ', '감정_대분류'] = '불안'"
   ],
   "metadata": {
    "collapsed": false
   }
  },
  {
   "cell_type": "code",
   "execution_count": 115,
   "outputs": [
    {
     "name": "stdout",
     "output_type": "stream",
     "text": [
      "39415 39177 6\n",
      "5103 5098 6\n"
     ]
    }
   ],
   "source": [
    "# document 열과 label 열의 중복을 제외한 값의 개수\n",
    "print(train_df['사람문장1'].nunique(),\n",
    "      train_df['시스템응답1'].nunique(),\n",
    "      train_df['감정_대분류'].nunique())\n",
    "\n",
    "print(validation_df['사람문장1'].nunique(),\n",
    "      validation_df['시스템응답1'].nunique(),\n",
    "      validation_df['감정_대분류'].nunique())"
   ],
   "metadata": {
    "collapsed": false
   }
  },
  {
   "cell_type": "code",
   "execution_count": 116,
   "outputs": [],
   "source": [
    "# 사람문장1과 시스템응답1에 대해서만 중복 제거\n",
    "\n",
    "# 39416 5103\n",
    "train_df.drop_duplicates(subset=['사람문장1'], inplace=True)\n",
    "validation_df.drop_duplicates(subset = ['사람문장1'], inplace=True) # 사람문장1 열에서 중복인 내용이 있다면 중복 제거\n",
    "\n",
    "# train_df.drop_duplicates(subset=['사람문장2'], inplace=True)\n",
    "# validation_df.drop_duplicates(subset = ['사람문장2'], inplace=True)\n",
    "#\n",
    "# train_df.drop_duplicates(subset=['사람문장3'], inplace=True)\n",
    "# validation_df.drop_duplicates(subset = ['사람문장3'], inplace=True)"
   ],
   "metadata": {
    "collapsed": false
   }
  },
  {
   "cell_type": "code",
   "execution_count": 117,
   "outputs": [],
   "source": [
    "train_df.drop_duplicates(subset=['시스템응답1'], inplace=True)\n",
    "validation_df.drop_duplicates(subset = ['시스템응답1'], inplace=True)\n",
    "\n",
    "# train_df.drop_duplicates(subset=['시스템응답2'], inplace=True)\n",
    "# validation_df.drop_duplicates(subset = ['시스템응답2'], inplace=True)\n",
    "#\n",
    "# train_df.drop_duplicates(subset=['시스템응답3'], inplace=True)\n",
    "# validation_df.drop_duplicates(subset = ['시스템응답3'], inplace=True)"
   ],
   "metadata": {
    "collapsed": false
   }
  },
  {
   "cell_type": "code",
   "execution_count": 118,
   "outputs": [
    {
     "name": "stdout",
     "output_type": "stream",
     "text": [
      "총 샘플의 수 : 38967\n",
      "총 샘플의 수 : 5095\n"
     ]
    }
   ],
   "source": [
    "print('총 샘플의 수 :',len(train_df))\n",
    "print('총 샘플의 수 :',len(validation_df))"
   ],
   "metadata": {
    "collapsed": false
   }
  },
  {
   "cell_type": "code",
   "execution_count": 119,
   "outputs": [
    {
     "name": "stdout",
     "output_type": "stream",
     "text": [
      "  감정_대분류  count\n",
      "0     기쁨   6414\n",
      "1     당황   6027\n",
      "2     분노   6570\n",
      "3     불안   7035\n",
      "4     상처   6334\n",
      "5     슬픔   6586\n",
      "  감정_대분류  count\n",
      "0     기쁨    838\n",
      "1     당황    824\n",
      "2     분노    866\n",
      "3     불안    900\n",
      "4     상처    813\n",
      "5     슬픔    854\n"
     ]
    }
   ],
   "source": [
    "# matplotlib 찍어보기\n",
    "print(train_df.groupby('감정_대분류').size().reset_index(name = 'count'))\n",
    "print(validation_df.groupby('감정_대분류').size().reset_index(name = 'count'))"
   ],
   "metadata": {
    "collapsed": false
   }
  },
  {
   "cell_type": "code",
   "execution_count": 120,
   "outputs": [],
   "source": [
    "# 한글과 공백을 제외하고 모두 제거\n",
    "train_df['사람문장1'] = train_df['사람문장1'].str.replace(\"[^ㄱ-ㅎㅏ-ㅣ가-힣 ]\",\"\")\n",
    "validation_df['사람문장1'] = validation_df['사람문장1'].str.replace(\"[^ㄱ-ㅎㅏ-ㅣ가-힣 ]\",\"\") # 정규 표현식 수행\n",
    "train_df['사람문장1'] = train_df['사람문장1'].str.replace('^ +', \"\") # white space 데이터를 empty value로 변경\n",
    "validation_df['사람문장1'] = validation_df['사람문장1'].str.replace('^ +', \"\") # 공백은 empty 값으로 변경\n",
    "\n",
    "train_df['시스템응답1'] = train_df['시스템응답1'].str.replace(\"[^ㄱ-ㅎㅏ-ㅣ가-힣 ]\",\"\")\n",
    "validation_df['시스템응답1'] = validation_df['시스템응답1'].str.replace(\"[^ㄱ-ㅎㅏ-ㅣ가-힣 ]\",\"\") # 정규 표현식 수행\n",
    "train_df['시스템응답1'] = train_df['시스템응답1'].str.replace('^ +', \"\") # white space 데이터를 empty value로 변경\n",
    "validation_df['시스템응답1'] = validation_df['시스템응답1'].str.replace('^ +', \"\") # 공백은 empty 값으로 변경\n",
    "\n",
    "# train_df['사람문장2'] = train_df['사람문장2'].str.replace(\"[^ㄱ-ㅎㅏ-ㅣ가-힣 ]\",\"\")\n",
    "# validation_df['사람문장2'] = validation_df['사람문장2'].str.replace(\"[^ㄱ-ㅎㅏ-ㅣ가-힣 ]\",\"\") # 정규 표현식 수행\n",
    "# train_df['사람문장2'] = train_df['사람문장2'].str.replace('^ +', \"\") # white space 데이터를 empty value로 변경\n",
    "# validation_df['사람문장2'] = validation_df['사람문장2'].str.replace('^ +', \"\") # 공백은 empty 값으로 변경\n",
    "#\n",
    "# train_df['시스템응답2'] = train_df['시스템응답2'].str.replace(\"[^ㄱ-ㅎㅏ-ㅣ가-힣 ]\",\"\")\n",
    "# validation_df['시스템응답2'] = validation_df['시스템응답2'].str.replace(\"[^ㄱ-ㅎㅏ-ㅣ가-힣 ]\",\"\") # 정규 표현식 수행\n",
    "# train_df['시스템응답2'] = train_df['시스템응답2'].str.replace('^ +', \"\") # white space 데이터를 empty value로 변경\n",
    "# validation_df['시스템응답2'] = validation_df['시스템응답2'].str.replace('^ +', \"\") # 공백은 empty 값으로 변경\n",
    "#\n",
    "# train_df['사람문장3'] = train_df['사람문장3'].str.replace(\"[^ㄱ-ㅎㅏ-ㅣ가-힣 ]\",\"\")\n",
    "# validation_df['사람문장3'] = validation_df['사람문장3'].str.replace(\"[^ㄱ-ㅎㅏ-ㅣ가-힣 ]\",\"\") # 정규 표현식 수행\n",
    "# train_df['사람문장3'] = train_df['사람문장3'].str.replace('^ +', \"\") # white space 데이터를 empty value로 변경\n",
    "# validation_df['사람문장3'] = validation_df['사람문장3'].str.replace('^ +', \"\") # 공백은 empty 값으로 변경\n",
    "#\n",
    "# train_df['시스템응답3'] = train_df['시스템응답3'].str.replace(\"[^ㄱ-ㅎㅏ-ㅣ가-힣 ]\",\"\")\n",
    "# validation_df['시스템응답3'] = validation_df['시스템응답3'].str.replace(\"[^ㄱ-ㅎㅏ-ㅣ가-힣 ]\",\"\") # 정규 표현식 수행\n",
    "# train_df['시스템응답3'] = train_df['시스템응답3'].str.replace('^ +', \"\") # white space 데이터를 empty value로 변경\n",
    "# validation_df['시스템응답3'] = validation_df['시스템응답3'].str.replace('^ +', \"\") # 공백은 empty 값으로 변경"
   ],
   "metadata": {
    "collapsed": false
   }
  },
  {
   "cell_type": "code",
   "execution_count": 121,
   "outputs": [],
   "source": [
    "train_df['사람문장1'].replace('', np.nan, inplace=True)\n",
    "validation_df['사람문장1'].replace('', np.nan, inplace=True) # 공백은 Null 값으로 변경\n",
    "\n",
    "train_df['시스템응답1'].replace('', np.nan, inplace=True)\n",
    "validation_df['시스템응답1'].replace('', np.nan, inplace=True)"
   ],
   "metadata": {
    "collapsed": false
   }
  },
  {
   "cell_type": "code",
   "execution_count": 122,
   "outputs": [
    {
     "name": "stdout",
     "output_type": "stream",
     "text": [
      "상황키워드     1\n",
      "감정_대분류    1\n",
      "사람문장1     1\n",
      "시스템응답1    1\n",
      "dtype: int64\n",
      "상황키워드     0\n",
      "감정_대분류    0\n",
      "사람문장1     0\n",
      "시스템응답1    0\n",
      "dtype: int64\n"
     ]
    }
   ],
   "source": [
    "print(train_df.isnull().sum())\n",
    "print(validation_df.isnull().sum())"
   ],
   "metadata": {
    "collapsed": false
   }
  },
  {
   "cell_type": "code",
   "execution_count": 123,
   "outputs": [
    {
     "data": {
      "text/plain": "    상황키워드 감정_대분류 사람문장1 시스템응답1\n번호                           \nNaN   NaN    NaN   NaN    NaN",
      "text/html": "<div>\n<style scoped>\n    .dataframe tbody tr th:only-of-type {\n        vertical-align: middle;\n    }\n\n    .dataframe tbody tr th {\n        vertical-align: top;\n    }\n\n    .dataframe thead th {\n        text-align: right;\n    }\n</style>\n<table border=\"1\" class=\"dataframe\">\n  <thead>\n    <tr style=\"text-align: right;\">\n      <th></th>\n      <th>상황키워드</th>\n      <th>감정_대분류</th>\n      <th>사람문장1</th>\n      <th>시스템응답1</th>\n    </tr>\n    <tr>\n      <th>번호</th>\n      <th></th>\n      <th></th>\n      <th></th>\n      <th></th>\n    </tr>\n  </thead>\n  <tbody>\n    <tr>\n      <th>NaN</th>\n      <td>NaN</td>\n      <td>NaN</td>\n      <td>NaN</td>\n      <td>NaN</td>\n    </tr>\n  </tbody>\n</table>\n</div>"
     },
     "execution_count": 123,
     "metadata": {},
     "output_type": "execute_result"
    }
   ],
   "source": [
    "train_df[train_df['상황키워드'].isnull()]    # 이게 왜 있지.."
   ],
   "metadata": {
    "collapsed": false
   }
  },
  {
   "cell_type": "code",
   "execution_count": 124,
   "outputs": [],
   "source": [
    "# 감정_대분류 labeling\n",
    "train_df.loc[(train_df['감정_대분류']==\"분노\"), '감정_대분류'] = 0\n",
    "train_df.loc[(train_df['감정_대분류']==\"슬픔\"), '감정_대분류'] = 1\n",
    "train_df.loc[(train_df['감정_대분류']==\"불안\"), '감정_대분류'] = 2\n",
    "train_df.loc[(train_df['감정_대분류']==\"상처\"), '감정_대분류'] = 3\n",
    "train_df.loc[(train_df['감정_대분류']==\"당황\"), '감정_대분류'] = 4\n",
    "train_df.loc[(train_df['감정_대분류']==\"기쁨\"), '감정_대분류'] = 5\n",
    "\n",
    "validation_df.loc[(validation_df['감정_대분류']==\"분노\"), '감정_대분류'] = 0\n",
    "validation_df.loc[(validation_df['감정_대분류']==\"슬픔\"), '감정_대분류'] = 1\n",
    "validation_df.loc[(validation_df['감정_대분류']==\"불안\"), '감정_대분류'] = 2\n",
    "validation_df.loc[(validation_df['감정_대분류']==\"상처\"), '감정_대분류'] = 3\n",
    "validation_df.loc[(validation_df['감정_대분류']==\"당황\"), '감정_대분류'] = 4\n",
    "validation_df.loc[(validation_df['감정_대분류']==\"기쁨\"), '감정_대분류'] = 5"
   ],
   "metadata": {
    "collapsed": false
   }
  },
  {
   "cell_type": "code",
   "execution_count": 125,
   "outputs": [],
   "source": [
    "# 컬럼명 변경\n",
    "train_df.rename(columns={'상황키워드': 'keywords', '감정_대분류':'major_emotions', '사람문장1':'user1', '시스템응답1':'chatbot1'}, inplace=True)\n",
    "validation_df.rename(columns={'상황키워드': 'keywords', '감정_대분류':'major_emotions', '사람문장1':'user1', '시스템응답1':'chatbot1'}, inplace=True)"
   ],
   "metadata": {
    "collapsed": false
   }
  },
  {
   "cell_type": "code",
   "execution_count": 126,
   "outputs": [
    {
     "data": {
      "text/plain": "           keywords major_emotions  \\\n번호                                   \n44164.0  연애, 결혼, 출산              5   \n3926.0       건강, 죽음              2   \n50882.0     학업 및 진로              4   \n31303.0          재정              5   \n47200.0          재정              5   \n...             ...            ...   \n48959.0          건강              5   \n36344.0        가족관계              1   \n14197.0          재정              5   \n16248.0        대인관계              2   \nNaN             NaN            NaN   \n\n                                               user1  \\\n번호                                                     \n44164.0                     아내가 드디어 출산하게 되어서 정말 신이 나   \n3926.0        당뇨랑 합병증 때문에 먹어야 할 약이 열 가지가 넘어가니까 스트레스야   \n50882.0       고등학교에 올라오니 중학교 때보다 수업이 갑자기 어려워져서 당황스러워   \n31303.0  재취업이 돼서 받게 된 첫 월급으로 온 가족이 외식을 할 예정이야 너무 행복해   \n47200.0                  빚을 드디어 다 갚게 되어서 이제야 안도감이 들어   \n...                                              ...   \n48959.0             지난주에 건강검진 결과가 나왔는데 정상이라고 결과가 나왔어   \n36344.0      엄마는 내 꿈인 작가를 응원해 주고는 했는데 지금은 안 그래 너무 슬퍼   \n14197.0       이렇게 좋은 운동 시설에서 경로 우대로 운동할 수 있다니 참 행운이야   \n16248.0            친구 관계가 너무 힘들어 베푸는 만큼 돌아오지 않는 것 같아   \nNaN                                              NaN   \n\n                                         chatbot1  \n번호                                                 \n44164.0                   아내분이 출산을 하시는군요 정말 축하드려요  \n3926.0                          약 종류가 많아 번거로우시겠어요  \n50882.0    고등학교 수업이 중학교 때와는 다르게 갑자기 어려워서 당황스러우시군요  \n31303.0                    재취업 후 첫 월급이라 정말 기쁘시겠어요  \n47200.0              기분 좋으시겠어요 앞으로는 어떻게 하실 생각이신가요  \n...                                           ...  \n48959.0                      검진 결과가 좋게 나와서 안도하겠네요  \n36344.0     어머니의 응원이 사라져서 슬프시겠어요 조금 더 자세히 말해주시겠어요  \n14197.0                 운동 시설을 쓸 수 있어서 기분이 좋으시겠어요  \n16248.0  많이 서운하셨겠어요 친구들에게 서운함을 느꼈을 때 해결하는 방법이 있나요  \nNaN                                           NaN  \n\n[38967 rows x 4 columns]",
      "text/html": "<div>\n<style scoped>\n    .dataframe tbody tr th:only-of-type {\n        vertical-align: middle;\n    }\n\n    .dataframe tbody tr th {\n        vertical-align: top;\n    }\n\n    .dataframe thead th {\n        text-align: right;\n    }\n</style>\n<table border=\"1\" class=\"dataframe\">\n  <thead>\n    <tr style=\"text-align: right;\">\n      <th></th>\n      <th>keywords</th>\n      <th>major_emotions</th>\n      <th>user1</th>\n      <th>chatbot1</th>\n    </tr>\n    <tr>\n      <th>번호</th>\n      <th></th>\n      <th></th>\n      <th></th>\n      <th></th>\n    </tr>\n  </thead>\n  <tbody>\n    <tr>\n      <th>44164.0</th>\n      <td>연애, 결혼, 출산</td>\n      <td>5</td>\n      <td>아내가 드디어 출산하게 되어서 정말 신이 나</td>\n      <td>아내분이 출산을 하시는군요 정말 축하드려요</td>\n    </tr>\n    <tr>\n      <th>3926.0</th>\n      <td>건강, 죽음</td>\n      <td>2</td>\n      <td>당뇨랑 합병증 때문에 먹어야 할 약이 열 가지가 넘어가니까 스트레스야</td>\n      <td>약 종류가 많아 번거로우시겠어요</td>\n    </tr>\n    <tr>\n      <th>50882.0</th>\n      <td>학업 및 진로</td>\n      <td>4</td>\n      <td>고등학교에 올라오니 중학교 때보다 수업이 갑자기 어려워져서 당황스러워</td>\n      <td>고등학교 수업이 중학교 때와는 다르게 갑자기 어려워서 당황스러우시군요</td>\n    </tr>\n    <tr>\n      <th>31303.0</th>\n      <td>재정</td>\n      <td>5</td>\n      <td>재취업이 돼서 받게 된 첫 월급으로 온 가족이 외식을 할 예정이야 너무 행복해</td>\n      <td>재취업 후 첫 월급이라 정말 기쁘시겠어요</td>\n    </tr>\n    <tr>\n      <th>47200.0</th>\n      <td>재정</td>\n      <td>5</td>\n      <td>빚을 드디어 다 갚게 되어서 이제야 안도감이 들어</td>\n      <td>기분 좋으시겠어요 앞으로는 어떻게 하실 생각이신가요</td>\n    </tr>\n    <tr>\n      <th>...</th>\n      <td>...</td>\n      <td>...</td>\n      <td>...</td>\n      <td>...</td>\n    </tr>\n    <tr>\n      <th>48959.0</th>\n      <td>건강</td>\n      <td>5</td>\n      <td>지난주에 건강검진 결과가 나왔는데 정상이라고 결과가 나왔어</td>\n      <td>검진 결과가 좋게 나와서 안도하겠네요</td>\n    </tr>\n    <tr>\n      <th>36344.0</th>\n      <td>가족관계</td>\n      <td>1</td>\n      <td>엄마는 내 꿈인 작가를 응원해 주고는 했는데 지금은 안 그래 너무 슬퍼</td>\n      <td>어머니의 응원이 사라져서 슬프시겠어요 조금 더 자세히 말해주시겠어요</td>\n    </tr>\n    <tr>\n      <th>14197.0</th>\n      <td>재정</td>\n      <td>5</td>\n      <td>이렇게 좋은 운동 시설에서 경로 우대로 운동할 수 있다니 참 행운이야</td>\n      <td>운동 시설을 쓸 수 있어서 기분이 좋으시겠어요</td>\n    </tr>\n    <tr>\n      <th>16248.0</th>\n      <td>대인관계</td>\n      <td>2</td>\n      <td>친구 관계가 너무 힘들어 베푸는 만큼 돌아오지 않는 것 같아</td>\n      <td>많이 서운하셨겠어요 친구들에게 서운함을 느꼈을 때 해결하는 방법이 있나요</td>\n    </tr>\n    <tr>\n      <th>NaN</th>\n      <td>NaN</td>\n      <td>NaN</td>\n      <td>NaN</td>\n      <td>NaN</td>\n    </tr>\n  </tbody>\n</table>\n<p>38967 rows × 4 columns</p>\n</div>"
     },
     "execution_count": 126,
     "metadata": {},
     "output_type": "execute_result"
    }
   ],
   "source": [
    "train_df"
   ],
   "metadata": {
    "collapsed": false
   }
  },
  {
   "cell_type": "code",
   "execution_count": 127,
   "outputs": [
    {
     "data": {
      "text/plain": "           keywords major_emotions  \\\n번호                                   \n23093    진로, 취업, 직장              0   \n32848          가족관계              1   \n35590      학교폭력/따돌림              2   \n169      진로, 취업, 직장              4   \n38435  재정, 은퇴, 노후준비              0   \n...             ...            ...   \n37859  재정, 은퇴, 노후준비              5   \n40171        건강, 죽음              2   \n13717    연애, 결혼, 출산              0   \n33784            재정              0   \n43490            재정              0   \n\n                                                   user1  \\\n번호                                                         \n23093                                     요즘 부모님과 많이 부딪혀   \n32848                             엄마가 결국 집을 나갔어 너무 너무 슬퍼   \n35590                      학교에서 한 친구를 괴롭히는 무리에게 그만하라고 했어   \n169       이번에 팀장님이 간단한 조사 업무를 부탁하셨는데 내가 잘못 처리했어 너무 절망적이야   \n38435                   남편이 이혼할 때 위자료를 주지 않으려고 변호사를 고용했어   \n...                                                  ...   \n37859                    부동산 임대 소득으로 현재 여유롭게 살 수 있어서 좋단다   \n40171  폐결핵은 이미 완치된 것 같은데 약을 한 달이나 더 먹으라고 하네 아직 안 나은 게...   \n13717      연애하고 싶은데 소개팅만 나가면 꽝이야 이러다가 난 결혼 못 하고 늙어 죽을 거야   \n33784         은행 대출이 막혀서 생활비를 구할 수가 없어 이제 어떻게 살아야 하나 막막해   \n43490              자식들은 키워 준 은혜도 모르고 내게 오지도 않네 너무 외롭고 슬퍼   \n\n                                        chatbot1  \n번호                                                \n23093                               어떤 일로 부딪히시나요  \n32848  어머니께서 집을 나가셨다니 정말 슬프셨겠어요 좀 더 자세히 얘기해주시겠어요  \n35590                   용기 있는 행동을 하셨네요 마음이 어떠셨나요  \n169       팀장님이 부탁하신 업무를 잘못 처리하셔서 많이 당황하시고 놀라셨겠어요  \n38435                                많이 화가 나시겠어요  \n...                                          ...  \n37859                       여유롭게 생활할 수 있어 좋으시겠어요  \n40171          치료가 완료되지 않은 게 아닐까 싶으셔서 염려하고 계시는군요  \n13717    소개팅에서 만나는 사람과 계속 잘 안 풀려서 많이 좌절하신 것 같아요   \n33784                     은행 대출이 안 돼서 마음이 괴로우시군요  \n43490                  자녀들이 찾아오지 않아서 슬퍼하시는 것 같아요  \n\n[5095 rows x 4 columns]",
      "text/html": "<div>\n<style scoped>\n    .dataframe tbody tr th:only-of-type {\n        vertical-align: middle;\n    }\n\n    .dataframe tbody tr th {\n        vertical-align: top;\n    }\n\n    .dataframe thead th {\n        text-align: right;\n    }\n</style>\n<table border=\"1\" class=\"dataframe\">\n  <thead>\n    <tr style=\"text-align: right;\">\n      <th></th>\n      <th>keywords</th>\n      <th>major_emotions</th>\n      <th>user1</th>\n      <th>chatbot1</th>\n    </tr>\n    <tr>\n      <th>번호</th>\n      <th></th>\n      <th></th>\n      <th></th>\n      <th></th>\n    </tr>\n  </thead>\n  <tbody>\n    <tr>\n      <th>23093</th>\n      <td>진로, 취업, 직장</td>\n      <td>0</td>\n      <td>요즘 부모님과 많이 부딪혀</td>\n      <td>어떤 일로 부딪히시나요</td>\n    </tr>\n    <tr>\n      <th>32848</th>\n      <td>가족관계</td>\n      <td>1</td>\n      <td>엄마가 결국 집을 나갔어 너무 너무 슬퍼</td>\n      <td>어머니께서 집을 나가셨다니 정말 슬프셨겠어요 좀 더 자세히 얘기해주시겠어요</td>\n    </tr>\n    <tr>\n      <th>35590</th>\n      <td>학교폭력/따돌림</td>\n      <td>2</td>\n      <td>학교에서 한 친구를 괴롭히는 무리에게 그만하라고 했어</td>\n      <td>용기 있는 행동을 하셨네요 마음이 어떠셨나요</td>\n    </tr>\n    <tr>\n      <th>169</th>\n      <td>진로, 취업, 직장</td>\n      <td>4</td>\n      <td>이번에 팀장님이 간단한 조사 업무를 부탁하셨는데 내가 잘못 처리했어 너무 절망적이야</td>\n      <td>팀장님이 부탁하신 업무를 잘못 처리하셔서 많이 당황하시고 놀라셨겠어요</td>\n    </tr>\n    <tr>\n      <th>38435</th>\n      <td>재정, 은퇴, 노후준비</td>\n      <td>0</td>\n      <td>남편이 이혼할 때 위자료를 주지 않으려고 변호사를 고용했어</td>\n      <td>많이 화가 나시겠어요</td>\n    </tr>\n    <tr>\n      <th>...</th>\n      <td>...</td>\n      <td>...</td>\n      <td>...</td>\n      <td>...</td>\n    </tr>\n    <tr>\n      <th>37859</th>\n      <td>재정, 은퇴, 노후준비</td>\n      <td>5</td>\n      <td>부동산 임대 소득으로 현재 여유롭게 살 수 있어서 좋단다</td>\n      <td>여유롭게 생활할 수 있어 좋으시겠어요</td>\n    </tr>\n    <tr>\n      <th>40171</th>\n      <td>건강, 죽음</td>\n      <td>2</td>\n      <td>폐결핵은 이미 완치된 것 같은데 약을 한 달이나 더 먹으라고 하네 아직 안 나은 게...</td>\n      <td>치료가 완료되지 않은 게 아닐까 싶으셔서 염려하고 계시는군요</td>\n    </tr>\n    <tr>\n      <th>13717</th>\n      <td>연애, 결혼, 출산</td>\n      <td>0</td>\n      <td>연애하고 싶은데 소개팅만 나가면 꽝이야 이러다가 난 결혼 못 하고 늙어 죽을 거야</td>\n      <td>소개팅에서 만나는 사람과 계속 잘 안 풀려서 많이 좌절하신 것 같아요</td>\n    </tr>\n    <tr>\n      <th>33784</th>\n      <td>재정</td>\n      <td>0</td>\n      <td>은행 대출이 막혀서 생활비를 구할 수가 없어 이제 어떻게 살아야 하나 막막해</td>\n      <td>은행 대출이 안 돼서 마음이 괴로우시군요</td>\n    </tr>\n    <tr>\n      <th>43490</th>\n      <td>재정</td>\n      <td>0</td>\n      <td>자식들은 키워 준 은혜도 모르고 내게 오지도 않네 너무 외롭고 슬퍼</td>\n      <td>자녀들이 찾아오지 않아서 슬퍼하시는 것 같아요</td>\n    </tr>\n  </tbody>\n</table>\n<p>5095 rows × 4 columns</p>\n</div>"
     },
     "execution_count": 127,
     "metadata": {},
     "output_type": "execute_result"
    }
   ],
   "source": [
    "validation_df"
   ],
   "metadata": {
    "collapsed": false
   }
  },
  {
   "cell_type": "code",
   "execution_count": 134,
   "outputs": [
    {
     "name": "stdout",
     "output_type": "stream",
     "text": [
      "대인관계            7436\n",
      "진로, 취업, 직장      4081\n",
      "연애, 결혼, 출산      3838\n",
      "건강, 죽음          3182\n",
      "재정              3061\n",
      "대인관계(부부, 자녀)    2790\n",
      "직장, 업무 스트레스     2688\n",
      "재정, 은퇴, 노후준비    2542\n",
      "건강              2509\n",
      "학업 및 진로         2371\n",
      "학교폭력/따돌림        2279\n",
      "가족관계            2189\n",
      "Name: keywords, dtype: int64\n",
      "=======================================\n",
      "대인관계            933\n",
      "진로, 취업, 직장      542\n",
      "연애, 결혼, 출산      503\n",
      "재정              444\n",
      "건강, 죽음          430\n",
      "대인관계(부부, 자녀)    354\n",
      "학교폭력/따돌림        336\n",
      "재정, 은퇴, 노후준비    332\n",
      "직장, 업무 스트레스     318\n",
      "건강              309\n",
      "가족관계            300\n",
      "학업 및 진로         294\n",
      "Name: keywords, dtype: int64\n"
     ]
    }
   ],
   "source": [
    "print(train_df['keywords'].value_counts())\n",
    "print(\"=======================================\")\n",
    "print(validation_df['keywords'].value_counts())"
   ],
   "metadata": {
    "collapsed": false
   }
  },
  {
   "cell_type": "code",
   "execution_count": 136,
   "outputs": [],
   "source": [
    "train_df.loc[(train_df['keywords']==\"대인관계\"), 'keywords'] = 0\n",
    "train_df.loc[(train_df['keywords']==\"대인관계(부부, 자녀)\"), 'keywords'] = 0\n",
    "train_df.loc[(train_df['keywords']==\"진로, 취업, 직장\"), 'keywords'] = 1\n",
    "train_df.loc[(train_df['keywords']==\"직장, 업무 스트레스\"), 'keywords'] = 1\n",
    "train_df.loc[(train_df['keywords']==\"연애, 결혼, 출산\"), 'keywords'] = 2\n",
    "train_df.loc[(train_df['keywords']==\"건강, 죽음\"), 'keywords'] = 3\n",
    "train_df.loc[(train_df['keywords']==\"건강\"), 'keywords'] = 3\n",
    "train_df.loc[(train_df['keywords']==\"재정\"), 'keywords'] = 4\n",
    "train_df.loc[(train_df['keywords']==\"재정, 은퇴, 노후준비\"), 'keywords'] = 4\n",
    "train_df.loc[(train_df['keywords']==\"학업 및 진로\"), 'keywords'] = 5\n",
    "train_df.loc[(train_df['keywords']==\"학교폭력/따돌림\"), 'keywords'] = 6\n",
    "train_df.loc[(train_df['keywords']==\"가족관계\"), 'keywords'] = 7\n",
    "\n",
    "validation_df.loc[(validation_df['keywords']==\"대인관계\"), 'keywords'] = 0\n",
    "validation_df.loc[(validation_df['keywords']==\"대인관계(부부, 자녀)\"), 'keywords'] = 0\n",
    "validation_df.loc[(validation_df['keywords']==\"진로, 취업, 직장\"), 'keywords'] = 1\n",
    "validation_df.loc[(validation_df['keywords']==\"직장, 업무 스트레스\"), 'keywords'] = 1\n",
    "validation_df.loc[(validation_df['keywords']==\"연애, 결혼, 출산\"), 'keywords'] = 2\n",
    "validation_df.loc[(validation_df['keywords']==\"건강, 죽음\"), 'keywords'] = 3\n",
    "validation_df.loc[(validation_df['keywords']==\"건강\"), 'keywords'] = 3\n",
    "validation_df.loc[(validation_df['keywords']==\"재정\"), 'keywords'] = 4\n",
    "validation_df.loc[(validation_df['keywords']==\"재정, 은퇴, 노후준비\"), 'keywords'] = 4\n",
    "validation_df.loc[(validation_df['keywords']==\"학업 및 진로\"), 'keywords'] = 5\n",
    "validation_df.loc[(validation_df['keywords']==\"학교폭력/따돌림\"), 'keywords'] = 6\n",
    "validation_df.loc[(validation_df['keywords']==\"가족관계\"), 'keywords'] = 7"
   ],
   "metadata": {
    "collapsed": false
   }
  },
  {
   "cell_type": "code",
   "execution_count": 137,
   "outputs": [
    {
     "data": {
      "text/plain": "        keywords major_emotions                                        user1  \\\n번호                                                                             \n44164.0        2              5                     아내가 드디어 출산하게 되어서 정말 신이 나   \n3926.0         3              2       당뇨랑 합병증 때문에 먹어야 할 약이 열 가지가 넘어가니까 스트레스야   \n50882.0        5              4       고등학교에 올라오니 중학교 때보다 수업이 갑자기 어려워져서 당황스러워   \n31303.0        4              5  재취업이 돼서 받게 된 첫 월급으로 온 가족이 외식을 할 예정이야 너무 행복해   \n47200.0        4              5                  빚을 드디어 다 갚게 되어서 이제야 안도감이 들어   \n...          ...            ...                                          ...   \n48959.0        3              5             지난주에 건강검진 결과가 나왔는데 정상이라고 결과가 나왔어   \n36344.0        7              1      엄마는 내 꿈인 작가를 응원해 주고는 했는데 지금은 안 그래 너무 슬퍼   \n14197.0        4              5       이렇게 좋은 운동 시설에서 경로 우대로 운동할 수 있다니 참 행운이야   \n16248.0        0              2            친구 관계가 너무 힘들어 베푸는 만큼 돌아오지 않는 것 같아   \nNaN          NaN            NaN                                          NaN   \n\n                                         chatbot1  \n번호                                                 \n44164.0                   아내분이 출산을 하시는군요 정말 축하드려요  \n3926.0                          약 종류가 많아 번거로우시겠어요  \n50882.0    고등학교 수업이 중학교 때와는 다르게 갑자기 어려워서 당황스러우시군요  \n31303.0                    재취업 후 첫 월급이라 정말 기쁘시겠어요  \n47200.0              기분 좋으시겠어요 앞으로는 어떻게 하실 생각이신가요  \n...                                           ...  \n48959.0                      검진 결과가 좋게 나와서 안도하겠네요  \n36344.0     어머니의 응원이 사라져서 슬프시겠어요 조금 더 자세히 말해주시겠어요  \n14197.0                 운동 시설을 쓸 수 있어서 기분이 좋으시겠어요  \n16248.0  많이 서운하셨겠어요 친구들에게 서운함을 느꼈을 때 해결하는 방법이 있나요  \nNaN                                           NaN  \n\n[38967 rows x 4 columns]",
      "text/html": "<div>\n<style scoped>\n    .dataframe tbody tr th:only-of-type {\n        vertical-align: middle;\n    }\n\n    .dataframe tbody tr th {\n        vertical-align: top;\n    }\n\n    .dataframe thead th {\n        text-align: right;\n    }\n</style>\n<table border=\"1\" class=\"dataframe\">\n  <thead>\n    <tr style=\"text-align: right;\">\n      <th></th>\n      <th>keywords</th>\n      <th>major_emotions</th>\n      <th>user1</th>\n      <th>chatbot1</th>\n    </tr>\n    <tr>\n      <th>번호</th>\n      <th></th>\n      <th></th>\n      <th></th>\n      <th></th>\n    </tr>\n  </thead>\n  <tbody>\n    <tr>\n      <th>44164.0</th>\n      <td>2</td>\n      <td>5</td>\n      <td>아내가 드디어 출산하게 되어서 정말 신이 나</td>\n      <td>아내분이 출산을 하시는군요 정말 축하드려요</td>\n    </tr>\n    <tr>\n      <th>3926.0</th>\n      <td>3</td>\n      <td>2</td>\n      <td>당뇨랑 합병증 때문에 먹어야 할 약이 열 가지가 넘어가니까 스트레스야</td>\n      <td>약 종류가 많아 번거로우시겠어요</td>\n    </tr>\n    <tr>\n      <th>50882.0</th>\n      <td>5</td>\n      <td>4</td>\n      <td>고등학교에 올라오니 중학교 때보다 수업이 갑자기 어려워져서 당황스러워</td>\n      <td>고등학교 수업이 중학교 때와는 다르게 갑자기 어려워서 당황스러우시군요</td>\n    </tr>\n    <tr>\n      <th>31303.0</th>\n      <td>4</td>\n      <td>5</td>\n      <td>재취업이 돼서 받게 된 첫 월급으로 온 가족이 외식을 할 예정이야 너무 행복해</td>\n      <td>재취업 후 첫 월급이라 정말 기쁘시겠어요</td>\n    </tr>\n    <tr>\n      <th>47200.0</th>\n      <td>4</td>\n      <td>5</td>\n      <td>빚을 드디어 다 갚게 되어서 이제야 안도감이 들어</td>\n      <td>기분 좋으시겠어요 앞으로는 어떻게 하실 생각이신가요</td>\n    </tr>\n    <tr>\n      <th>...</th>\n      <td>...</td>\n      <td>...</td>\n      <td>...</td>\n      <td>...</td>\n    </tr>\n    <tr>\n      <th>48959.0</th>\n      <td>3</td>\n      <td>5</td>\n      <td>지난주에 건강검진 결과가 나왔는데 정상이라고 결과가 나왔어</td>\n      <td>검진 결과가 좋게 나와서 안도하겠네요</td>\n    </tr>\n    <tr>\n      <th>36344.0</th>\n      <td>7</td>\n      <td>1</td>\n      <td>엄마는 내 꿈인 작가를 응원해 주고는 했는데 지금은 안 그래 너무 슬퍼</td>\n      <td>어머니의 응원이 사라져서 슬프시겠어요 조금 더 자세히 말해주시겠어요</td>\n    </tr>\n    <tr>\n      <th>14197.0</th>\n      <td>4</td>\n      <td>5</td>\n      <td>이렇게 좋은 운동 시설에서 경로 우대로 운동할 수 있다니 참 행운이야</td>\n      <td>운동 시설을 쓸 수 있어서 기분이 좋으시겠어요</td>\n    </tr>\n    <tr>\n      <th>16248.0</th>\n      <td>0</td>\n      <td>2</td>\n      <td>친구 관계가 너무 힘들어 베푸는 만큼 돌아오지 않는 것 같아</td>\n      <td>많이 서운하셨겠어요 친구들에게 서운함을 느꼈을 때 해결하는 방법이 있나요</td>\n    </tr>\n    <tr>\n      <th>NaN</th>\n      <td>NaN</td>\n      <td>NaN</td>\n      <td>NaN</td>\n      <td>NaN</td>\n    </tr>\n  </tbody>\n</table>\n<p>38967 rows × 4 columns</p>\n</div>"
     },
     "execution_count": 137,
     "metadata": {},
     "output_type": "execute_result"
    }
   ],
   "source": [
    "train_df"
   ],
   "metadata": {
    "collapsed": false
   }
  },
  {
   "cell_type": "code",
   "execution_count": 139,
   "outputs": [],
   "source": [
    "# preprocessing한 dataframe을 csv 파일로 저장\n",
    "train_df.to_csv('../Dataset/Preprocessing/train_df_preprocess.csv', index=False)\n",
    "validation_df.to_csv('../Dataset/Preprocessing/validation_df_preprocess.csv', index=False)"
   ],
   "metadata": {
    "collapsed": false
   }
  },
  {
   "cell_type": "code",
   "execution_count": null,
   "outputs": [],
   "source": [],
   "metadata": {
    "collapsed": false
   }
  }
 ],
 "metadata": {
  "kernelspec": {
   "display_name": "Python 3",
   "language": "python",
   "name": "python3"
  },
  "language_info": {
   "codemirror_mode": {
    "name": "ipython",
    "version": 2
   },
   "file_extension": ".py",
   "mimetype": "text/x-python",
   "name": "python",
   "nbconvert_exporter": "python",
   "pygments_lexer": "ipython2",
   "version": "2.7.6"
  }
 },
 "nbformat": 4,
 "nbformat_minor": 0
}
