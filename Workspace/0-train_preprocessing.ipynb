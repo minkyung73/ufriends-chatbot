{
 "cells": [
  {
   "cell_type": "code",
   "execution_count": 55,
   "metadata": {
    "collapsed": true
   },
   "outputs": [],
   "source": [
    "import pandas as pd\n",
    "import numpy as np\n",
    "import os\n",
    "import openpyxl"
   ]
  },
  {
   "cell_type": "code",
   "execution_count": 56,
   "outputs": [],
   "source": [
    "train_df = pd.read_excel('./Dataset/Training/Final_감성대화말뭉치_Training/감성대화말뭉치(최종데이터)_Training.xlsx', engine='openpyxl')\n",
    "validation_df = pd.read_excel('./Dataset/Validation/Final_감성대화말뭉치_Validation/감성대화말뭉치(최종데이터)_Validation.xlsx', engine='openpyxl')\n",
    "\n",
    "train_df.set_index(\"번호\", inplace=True)\n",
    "validation_df.set_index(\"번호\", inplace=True)\n",
    "\n",
    "# 필요없는 컬럼 drop\n",
    "train_df = train_df.drop([\"연령\", \"성별\", \"신체질환\", '감정_소분류',], axis=1)\n",
    "validation_df = validation_df.drop([\"연령\", \"성별\", \"신체질환\", '감정_소분류',], axis=1)\n",
    "\n",
    "# 컬럼명 변경\n",
    "train_df.rename(columns={'상황키워드': 'keywords', '감정_대분류':'major_emotions', '사람문장1':'user1', '시스템응답1':'chatbot1', '사람문장2':'user2', '시스템응답2':'chatbot2', '사람문장3':'user3', '시스템응답3':'chatbot3', '사람문장4':'user4', '시스템응답4':'chatbot4'}, inplace=True)\n",
    "validation_df.rename(columns={'상황키워드': 'keywords', '감정_대분류':'major_emotions', '사람문장1':'user1', '시스템응답1':'chatbot1', '사람문장2':'user2', '시스템응답2':'chatbot2', '사람문장3':'user3', '시스템응답3':'chatbot3', '사람문장4':'user4', '시스템응답4':'chatbot4'}, inplace=True)"
   ],
   "metadata": {
    "collapsed": false
   }
  },
  {
   "cell_type": "code",
   "execution_count": 57,
   "outputs": [],
   "source": [
    "# 감정_대분류 : '불안 ', '기쁨 ' -> '불안', '기쁨'\n",
    "train_df.loc[train_df['major_emotions'] == '기쁨 ', 'major_emotions'] = '기쁨'\n",
    "train_df.loc[train_df['major_emotions'] == '불안 ', 'major_emotions'] = '불안'\n",
    "\n",
    "validation_df.loc[validation_df['major_emotions'] == '기쁨 ', 'major_emotions'] = '기쁨'\n",
    "validation_df.loc[validation_df['major_emotions'] == '불안 ', 'major_emotions'] = '불안'"
   ],
   "metadata": {
    "collapsed": false
   }
  },
  {
   "cell_type": "code",
   "execution_count": 58,
   "outputs": [
    {
     "data": {
      "text/plain": "           keywords major_emotions  \\\n번호                                   \n44164.0  연애, 결혼, 출산             기쁨   \n3926.0       건강, 죽음             불안   \n50882.0     학업 및 진로             당황   \n31303.0          재정             기쁨   \n47200.0          재정             기쁨   \n...             ...            ...   \nNaN             NaN            NaN   \nNaN             NaN            NaN   \nNaN             NaN            NaN   \nNaN             NaN            NaN   \nNaN             NaN            NaN   \n\n                                                 user1  \\\n번호                                                       \n44164.0                      아내가 드디어 출산하게 되어서 정말 신이 나.   \n3926.0         당뇨랑 합병증 때문에 먹어야 할 약이 열 가지가 넘어가니까 스트레스야.   \n50882.0        고등학교에 올라오니 중학교 때보다 수업이 갑자기 어려워져서 당황스러워.   \n31303.0  재취업이 돼서 받게 된 첫 월급으로 온 가족이 외식을 할 예정이야. 너무 행복해.   \n47200.0                   빚을 드디어 다 갚게 되어서 이제야 안도감이 들어.   \n...                                                ...   \nNaN                                                NaN   \nNaN                                                NaN   \nNaN                                                NaN   \nNaN                                                NaN   \nNaN                                                NaN   \n\n                                        chatbot1  \\\n번호                                                 \n44164.0                아내분이 출산을 하시는군요. 정말 축하드려요.   \n3926.0                        약 종류가 많아 번거로우시겠어요.   \n50882.0  고등학교 수업이 중학교 때와는 다르게 갑자기 어려워서 당황스러우시군요.   \n31303.0                  재취업 후 첫 월급이라 정말 기쁘시겠어요.   \n47200.0           기분 좋으시겠어요. 앞으로는 어떻게 하실 생각이신가요?   \n...                                          ...   \nNaN                                          NaN   \nNaN                                          NaN   \nNaN                                          NaN   \nNaN                                          NaN   \nNaN                                          NaN   \n\n                                                     user2  \\\n번호                                                           \n44164.0                                      아 지금 정말 신이 나.   \n3926.0                         건강할 때 관리 좀 잘할걸 하는 생각이 들더라고.   \n50882.0                  아직 학기 초인데 내가 수업에 잘 따라갈 수 있을지 걱정돼.   \n31303.0  퇴직 후 다시는 돈을 못 벌 줄 알았는데 이렇게 월급으로 가족에게 맛있는 밥을 살 ...   \n47200.0                  빚도 다 갚았으니 당분간은 아무 생각도 안 하며 살고 싶어.   \n...                                                    ...   \nNaN                                                    NaN   \nNaN                                                    NaN   \nNaN                                                    NaN   \nNaN                                                    NaN   \nNaN                                                    NaN   \n\n                                     chatbot2  \\\n번호                                              \n44164.0                             잘 된 일이네요.   \n3926.0          현재 상황에서 변화를 주기 위해 어떻게 하면 될까요?   \n50882.0           이 상황에서 할 수 있는 게 어떤 것이 있을까요?   \n31303.0               이 기분을 유지하려면 어떻게 해야 할까요?   \n47200.0  빚도 다 갚았으니 당분간은 아무 생각도 안 하며 살고 싶으시군요.   \n...                                       ...   \nNaN                                       NaN   \nNaN                                       NaN   \nNaN                                       NaN   \nNaN                                       NaN   \nNaN                                       NaN   \n\n                                      user3                      chatbot3  \\\n번호                                                                          \n44164.0  아기가 점점 클게 벌써 기대가 되네. 내가 많이 놀아줘야지.   좋은 아빠가 되실 거 같아요. 진심으로 축하드려요.   \n3926.0           약을 잘 챙겨 먹고 나을 수 있도록 노력해야지.       약을 잘 챙겨 먹어 건강해지시길 바랄게요.   \n50882.0       중학교 수업을 들을 때보다 훨씬 더 열심히 할 거야.    수업을 어떤 방식으로 열심히 듣는게 좋을까요?    \n31303.0           회사생활을 열심히 해서 계속 월급을 받을거야!   계속 원하시는 대로 회사생활이 이어지길 바랄게요.   \n47200.0                                 NaN                           NaN   \n...                                     ...                           ...   \nNaN                                     NaN                           NaN   \nNaN                                     NaN                           NaN   \nNaN                                     NaN                           NaN   \nNaN                                     NaN                           NaN   \nNaN                                     NaN                           NaN   \n\n                                             user4                  chatbot4  \n번호                                                                            \n44164.0                                        NaN                       NaN  \n3926.0                                         NaN                       NaN  \n50882.0  선생님이 강조하신 부분을 필기하고 집에서 매일 수업 내용을 복습하려고 해.  열심히 해서 좋은 결과가 있었으면 좋겠어요.  \n31303.0                                        NaN                       NaN  \n47200.0                                        NaN                       NaN  \n...                                            ...                       ...  \nNaN                                            NaN                       NaN  \nNaN                                            NaN                       NaN  \nNaN                                            NaN                       NaN  \nNaN                                            NaN                       NaN  \nNaN                                            NaN                       NaN  \n\n[69218 rows x 10 columns]",
      "text/html": "<div>\n<style scoped>\n    .dataframe tbody tr th:only-of-type {\n        vertical-align: middle;\n    }\n\n    .dataframe tbody tr th {\n        vertical-align: top;\n    }\n\n    .dataframe thead th {\n        text-align: right;\n    }\n</style>\n<table border=\"1\" class=\"dataframe\">\n  <thead>\n    <tr style=\"text-align: right;\">\n      <th></th>\n      <th>keywords</th>\n      <th>major_emotions</th>\n      <th>user1</th>\n      <th>chatbot1</th>\n      <th>user2</th>\n      <th>chatbot2</th>\n      <th>user3</th>\n      <th>chatbot3</th>\n      <th>user4</th>\n      <th>chatbot4</th>\n    </tr>\n    <tr>\n      <th>번호</th>\n      <th></th>\n      <th></th>\n      <th></th>\n      <th></th>\n      <th></th>\n      <th></th>\n      <th></th>\n      <th></th>\n      <th></th>\n      <th></th>\n    </tr>\n  </thead>\n  <tbody>\n    <tr>\n      <th>44164.0</th>\n      <td>연애, 결혼, 출산</td>\n      <td>기쁨</td>\n      <td>아내가 드디어 출산하게 되어서 정말 신이 나.</td>\n      <td>아내분이 출산을 하시는군요. 정말 축하드려요.</td>\n      <td>아 지금 정말 신이 나.</td>\n      <td>잘 된 일이네요.</td>\n      <td>아기가 점점 클게 벌써 기대가 되네. 내가 많이 놀아줘야지.</td>\n      <td>좋은 아빠가 되실 거 같아요. 진심으로 축하드려요.</td>\n      <td>NaN</td>\n      <td>NaN</td>\n    </tr>\n    <tr>\n      <th>3926.0</th>\n      <td>건강, 죽음</td>\n      <td>불안</td>\n      <td>당뇨랑 합병증 때문에 먹어야 할 약이 열 가지가 넘어가니까 스트레스야.</td>\n      <td>약 종류가 많아 번거로우시겠어요.</td>\n      <td>건강할 때 관리 좀 잘할걸 하는 생각이 들더라고.</td>\n      <td>현재 상황에서 변화를 주기 위해 어떻게 하면 될까요?</td>\n      <td>약을 잘 챙겨 먹고 나을 수 있도록 노력해야지.</td>\n      <td>약을 잘 챙겨 먹어 건강해지시길 바랄게요.</td>\n      <td>NaN</td>\n      <td>NaN</td>\n    </tr>\n    <tr>\n      <th>50882.0</th>\n      <td>학업 및 진로</td>\n      <td>당황</td>\n      <td>고등학교에 올라오니 중학교 때보다 수업이 갑자기 어려워져서 당황스러워.</td>\n      <td>고등학교 수업이 중학교 때와는 다르게 갑자기 어려워서 당황스러우시군요.</td>\n      <td>아직 학기 초인데 내가 수업에 잘 따라갈 수 있을지 걱정돼.</td>\n      <td>이 상황에서 할 수 있는 게 어떤 것이 있을까요?</td>\n      <td>중학교 수업을 들을 때보다 훨씬 더 열심히 할 거야.</td>\n      <td>수업을 어떤 방식으로 열심히 듣는게 좋을까요?</td>\n      <td>선생님이 강조하신 부분을 필기하고 집에서 매일 수업 내용을 복습하려고 해.</td>\n      <td>열심히 해서 좋은 결과가 있었으면 좋겠어요.</td>\n    </tr>\n    <tr>\n      <th>31303.0</th>\n      <td>재정</td>\n      <td>기쁨</td>\n      <td>재취업이 돼서 받게 된 첫 월급으로 온 가족이 외식을 할 예정이야. 너무 행복해.</td>\n      <td>재취업 후 첫 월급이라 정말 기쁘시겠어요.</td>\n      <td>퇴직 후 다시는 돈을 못 벌 줄 알았는데 이렇게 월급으로 가족에게 맛있는 밥을 살 ...</td>\n      <td>이 기분을 유지하려면 어떻게 해야 할까요?</td>\n      <td>회사생활을 열심히 해서 계속 월급을 받을거야!</td>\n      <td>계속 원하시는 대로 회사생활이 이어지길 바랄게요.</td>\n      <td>NaN</td>\n      <td>NaN</td>\n    </tr>\n    <tr>\n      <th>47200.0</th>\n      <td>재정</td>\n      <td>기쁨</td>\n      <td>빚을 드디어 다 갚게 되어서 이제야 안도감이 들어.</td>\n      <td>기분 좋으시겠어요. 앞으로는 어떻게 하실 생각이신가요?</td>\n      <td>빚도 다 갚았으니 당분간은 아무 생각도 안 하며 살고 싶어.</td>\n      <td>빚도 다 갚았으니 당분간은 아무 생각도 안 하며 살고 싶으시군요.</td>\n      <td>NaN</td>\n      <td>NaN</td>\n      <td>NaN</td>\n      <td>NaN</td>\n    </tr>\n    <tr>\n      <th>...</th>\n      <td>...</td>\n      <td>...</td>\n      <td>...</td>\n      <td>...</td>\n      <td>...</td>\n      <td>...</td>\n      <td>...</td>\n      <td>...</td>\n      <td>...</td>\n      <td>...</td>\n    </tr>\n    <tr>\n      <th>NaN</th>\n      <td>NaN</td>\n      <td>NaN</td>\n      <td>NaN</td>\n      <td>NaN</td>\n      <td>NaN</td>\n      <td>NaN</td>\n      <td>NaN</td>\n      <td>NaN</td>\n      <td>NaN</td>\n      <td>NaN</td>\n    </tr>\n    <tr>\n      <th>NaN</th>\n      <td>NaN</td>\n      <td>NaN</td>\n      <td>NaN</td>\n      <td>NaN</td>\n      <td>NaN</td>\n      <td>NaN</td>\n      <td>NaN</td>\n      <td>NaN</td>\n      <td>NaN</td>\n      <td>NaN</td>\n    </tr>\n    <tr>\n      <th>NaN</th>\n      <td>NaN</td>\n      <td>NaN</td>\n      <td>NaN</td>\n      <td>NaN</td>\n      <td>NaN</td>\n      <td>NaN</td>\n      <td>NaN</td>\n      <td>NaN</td>\n      <td>NaN</td>\n      <td>NaN</td>\n    </tr>\n    <tr>\n      <th>NaN</th>\n      <td>NaN</td>\n      <td>NaN</td>\n      <td>NaN</td>\n      <td>NaN</td>\n      <td>NaN</td>\n      <td>NaN</td>\n      <td>NaN</td>\n      <td>NaN</td>\n      <td>NaN</td>\n      <td>NaN</td>\n    </tr>\n    <tr>\n      <th>NaN</th>\n      <td>NaN</td>\n      <td>NaN</td>\n      <td>NaN</td>\n      <td>NaN</td>\n      <td>NaN</td>\n      <td>NaN</td>\n      <td>NaN</td>\n      <td>NaN</td>\n      <td>NaN</td>\n      <td>NaN</td>\n    </tr>\n  </tbody>\n</table>\n<p>69218 rows × 10 columns</p>\n</div>"
     },
     "execution_count": 58,
     "metadata": {},
     "output_type": "execute_result"
    }
   ],
   "source": [
    "train_df"
   ],
   "metadata": {
    "collapsed": false
   }
  },
  {
   "cell_type": "markdown",
   "source": [
    "### major_emotions 라벨링"
   ],
   "metadata": {
    "collapsed": false
   }
  },
  {
   "cell_type": "code",
   "execution_count": 59,
   "outputs": [],
   "source": [
    "# 감정_대분류 labeling\n",
    "train_df.loc[(train_df['major_emotions']==\"분노\"), 'major_emotions'] = 0\n",
    "train_df.loc[(train_df['major_emotions']==\"슬픔\"), 'major_emotions'] = 1\n",
    "train_df.loc[(train_df['major_emotions']==\"불안\"), 'major_emotions'] = 2\n",
    "train_df.loc[(train_df['major_emotions']==\"상처\"), 'major_emotions'] = 3\n",
    "train_df.loc[(train_df['major_emotions']==\"당황\"), 'major_emotions'] = 4\n",
    "train_df.loc[(train_df['major_emotions']==\"기쁨\"), 'major_emotions'] = 5"
   ],
   "metadata": {
    "collapsed": false
   }
  },
  {
   "cell_type": "markdown",
   "source": [
    "### keywords 라벨링"
   ],
   "metadata": {
    "collapsed": false
   }
  },
  {
   "cell_type": "code",
   "execution_count": 60,
   "outputs": [],
   "source": [
    "train_df.loc[(train_df['keywords']==\"대인관계\"), 'keywords'] = 0\n",
    "train_df.loc[(train_df['keywords']==\"대인관계(부부, 자녀)\"), 'keywords'] = 0\n",
    "train_df.loc[(train_df['keywords']==\"진로, 취업, 직장\"), 'keywords'] = 1\n",
    "train_df.loc[(train_df['keywords']==\"직장, 업무 스트레스\"), 'keywords'] = 1\n",
    "train_df.loc[(train_df['keywords']==\"연애, 결혼, 출산\"), 'keywords'] = 2\n",
    "train_df.loc[(train_df['keywords']==\"건강, 죽음\"), 'keywords'] = 3\n",
    "train_df.loc[(train_df['keywords']==\"건강\"), 'keywords'] = 3\n",
    "train_df.loc[(train_df['keywords']==\"재정\"), 'keywords'] = 4\n",
    "train_df.loc[(train_df['keywords']==\"재정, 은퇴, 노후준비\"), 'keywords'] = 4\n",
    "train_df.loc[(train_df['keywords']==\"학업 및 진로\"), 'keywords'] = 5\n",
    "train_df.loc[(train_df['keywords']==\"학교폭력/따돌림\"), 'keywords'] = 6\n",
    "train_df.loc[(train_df['keywords']==\"가족관계\"), 'keywords'] = 7"
   ],
   "metadata": {
    "collapsed": false
   }
  },
  {
   "cell_type": "code",
   "execution_count": 61,
   "outputs": [
    {
     "data": {
      "text/plain": "        keywords major_emotions  \\\n번호                                \n44164.0        2              5   \n3926.0         3              2   \n50882.0        5              4   \n31303.0        4              5   \n47200.0        4              5   \n...          ...            ...   \nNaN          NaN            NaN   \nNaN          NaN            NaN   \nNaN          NaN            NaN   \nNaN          NaN            NaN   \nNaN          NaN            NaN   \n\n                                                 user1  \\\n번호                                                       \n44164.0                      아내가 드디어 출산하게 되어서 정말 신이 나.   \n3926.0         당뇨랑 합병증 때문에 먹어야 할 약이 열 가지가 넘어가니까 스트레스야.   \n50882.0        고등학교에 올라오니 중학교 때보다 수업이 갑자기 어려워져서 당황스러워.   \n31303.0  재취업이 돼서 받게 된 첫 월급으로 온 가족이 외식을 할 예정이야. 너무 행복해.   \n47200.0                   빚을 드디어 다 갚게 되어서 이제야 안도감이 들어.   \n...                                                ...   \nNaN                                                NaN   \nNaN                                                NaN   \nNaN                                                NaN   \nNaN                                                NaN   \nNaN                                                NaN   \n\n                                        chatbot1  \\\n번호                                                 \n44164.0                아내분이 출산을 하시는군요. 정말 축하드려요.   \n3926.0                        약 종류가 많아 번거로우시겠어요.   \n50882.0  고등학교 수업이 중학교 때와는 다르게 갑자기 어려워서 당황스러우시군요.   \n31303.0                  재취업 후 첫 월급이라 정말 기쁘시겠어요.   \n47200.0           기분 좋으시겠어요. 앞으로는 어떻게 하실 생각이신가요?   \n...                                          ...   \nNaN                                          NaN   \nNaN                                          NaN   \nNaN                                          NaN   \nNaN                                          NaN   \nNaN                                          NaN   \n\n                                                     user2  \\\n번호                                                           \n44164.0                                      아 지금 정말 신이 나.   \n3926.0                         건강할 때 관리 좀 잘할걸 하는 생각이 들더라고.   \n50882.0                  아직 학기 초인데 내가 수업에 잘 따라갈 수 있을지 걱정돼.   \n31303.0  퇴직 후 다시는 돈을 못 벌 줄 알았는데 이렇게 월급으로 가족에게 맛있는 밥을 살 ...   \n47200.0                  빚도 다 갚았으니 당분간은 아무 생각도 안 하며 살고 싶어.   \n...                                                    ...   \nNaN                                                    NaN   \nNaN                                                    NaN   \nNaN                                                    NaN   \nNaN                                                    NaN   \nNaN                                                    NaN   \n\n                                     chatbot2  \\\n번호                                              \n44164.0                             잘 된 일이네요.   \n3926.0          현재 상황에서 변화를 주기 위해 어떻게 하면 될까요?   \n50882.0           이 상황에서 할 수 있는 게 어떤 것이 있을까요?   \n31303.0               이 기분을 유지하려면 어떻게 해야 할까요?   \n47200.0  빚도 다 갚았으니 당분간은 아무 생각도 안 하며 살고 싶으시군요.   \n...                                       ...   \nNaN                                       NaN   \nNaN                                       NaN   \nNaN                                       NaN   \nNaN                                       NaN   \nNaN                                       NaN   \n\n                                      user3                      chatbot3  \\\n번호                                                                          \n44164.0  아기가 점점 클게 벌써 기대가 되네. 내가 많이 놀아줘야지.   좋은 아빠가 되실 거 같아요. 진심으로 축하드려요.   \n3926.0           약을 잘 챙겨 먹고 나을 수 있도록 노력해야지.       약을 잘 챙겨 먹어 건강해지시길 바랄게요.   \n50882.0       중학교 수업을 들을 때보다 훨씬 더 열심히 할 거야.    수업을 어떤 방식으로 열심히 듣는게 좋을까요?    \n31303.0           회사생활을 열심히 해서 계속 월급을 받을거야!   계속 원하시는 대로 회사생활이 이어지길 바랄게요.   \n47200.0                                 NaN                           NaN   \n...                                     ...                           ...   \nNaN                                     NaN                           NaN   \nNaN                                     NaN                           NaN   \nNaN                                     NaN                           NaN   \nNaN                                     NaN                           NaN   \nNaN                                     NaN                           NaN   \n\n                                             user4                  chatbot4  \n번호                                                                            \n44164.0                                        NaN                       NaN  \n3926.0                                         NaN                       NaN  \n50882.0  선생님이 강조하신 부분을 필기하고 집에서 매일 수업 내용을 복습하려고 해.  열심히 해서 좋은 결과가 있었으면 좋겠어요.  \n31303.0                                        NaN                       NaN  \n47200.0                                        NaN                       NaN  \n...                                            ...                       ...  \nNaN                                            NaN                       NaN  \nNaN                                            NaN                       NaN  \nNaN                                            NaN                       NaN  \nNaN                                            NaN                       NaN  \nNaN                                            NaN                       NaN  \n\n[69218 rows x 10 columns]",
      "text/html": "<div>\n<style scoped>\n    .dataframe tbody tr th:only-of-type {\n        vertical-align: middle;\n    }\n\n    .dataframe tbody tr th {\n        vertical-align: top;\n    }\n\n    .dataframe thead th {\n        text-align: right;\n    }\n</style>\n<table border=\"1\" class=\"dataframe\">\n  <thead>\n    <tr style=\"text-align: right;\">\n      <th></th>\n      <th>keywords</th>\n      <th>major_emotions</th>\n      <th>user1</th>\n      <th>chatbot1</th>\n      <th>user2</th>\n      <th>chatbot2</th>\n      <th>user3</th>\n      <th>chatbot3</th>\n      <th>user4</th>\n      <th>chatbot4</th>\n    </tr>\n    <tr>\n      <th>번호</th>\n      <th></th>\n      <th></th>\n      <th></th>\n      <th></th>\n      <th></th>\n      <th></th>\n      <th></th>\n      <th></th>\n      <th></th>\n      <th></th>\n    </tr>\n  </thead>\n  <tbody>\n    <tr>\n      <th>44164.0</th>\n      <td>2</td>\n      <td>5</td>\n      <td>아내가 드디어 출산하게 되어서 정말 신이 나.</td>\n      <td>아내분이 출산을 하시는군요. 정말 축하드려요.</td>\n      <td>아 지금 정말 신이 나.</td>\n      <td>잘 된 일이네요.</td>\n      <td>아기가 점점 클게 벌써 기대가 되네. 내가 많이 놀아줘야지.</td>\n      <td>좋은 아빠가 되실 거 같아요. 진심으로 축하드려요.</td>\n      <td>NaN</td>\n      <td>NaN</td>\n    </tr>\n    <tr>\n      <th>3926.0</th>\n      <td>3</td>\n      <td>2</td>\n      <td>당뇨랑 합병증 때문에 먹어야 할 약이 열 가지가 넘어가니까 스트레스야.</td>\n      <td>약 종류가 많아 번거로우시겠어요.</td>\n      <td>건강할 때 관리 좀 잘할걸 하는 생각이 들더라고.</td>\n      <td>현재 상황에서 변화를 주기 위해 어떻게 하면 될까요?</td>\n      <td>약을 잘 챙겨 먹고 나을 수 있도록 노력해야지.</td>\n      <td>약을 잘 챙겨 먹어 건강해지시길 바랄게요.</td>\n      <td>NaN</td>\n      <td>NaN</td>\n    </tr>\n    <tr>\n      <th>50882.0</th>\n      <td>5</td>\n      <td>4</td>\n      <td>고등학교에 올라오니 중학교 때보다 수업이 갑자기 어려워져서 당황스러워.</td>\n      <td>고등학교 수업이 중학교 때와는 다르게 갑자기 어려워서 당황스러우시군요.</td>\n      <td>아직 학기 초인데 내가 수업에 잘 따라갈 수 있을지 걱정돼.</td>\n      <td>이 상황에서 할 수 있는 게 어떤 것이 있을까요?</td>\n      <td>중학교 수업을 들을 때보다 훨씬 더 열심히 할 거야.</td>\n      <td>수업을 어떤 방식으로 열심히 듣는게 좋을까요?</td>\n      <td>선생님이 강조하신 부분을 필기하고 집에서 매일 수업 내용을 복습하려고 해.</td>\n      <td>열심히 해서 좋은 결과가 있었으면 좋겠어요.</td>\n    </tr>\n    <tr>\n      <th>31303.0</th>\n      <td>4</td>\n      <td>5</td>\n      <td>재취업이 돼서 받게 된 첫 월급으로 온 가족이 외식을 할 예정이야. 너무 행복해.</td>\n      <td>재취업 후 첫 월급이라 정말 기쁘시겠어요.</td>\n      <td>퇴직 후 다시는 돈을 못 벌 줄 알았는데 이렇게 월급으로 가족에게 맛있는 밥을 살 ...</td>\n      <td>이 기분을 유지하려면 어떻게 해야 할까요?</td>\n      <td>회사생활을 열심히 해서 계속 월급을 받을거야!</td>\n      <td>계속 원하시는 대로 회사생활이 이어지길 바랄게요.</td>\n      <td>NaN</td>\n      <td>NaN</td>\n    </tr>\n    <tr>\n      <th>47200.0</th>\n      <td>4</td>\n      <td>5</td>\n      <td>빚을 드디어 다 갚게 되어서 이제야 안도감이 들어.</td>\n      <td>기분 좋으시겠어요. 앞으로는 어떻게 하실 생각이신가요?</td>\n      <td>빚도 다 갚았으니 당분간은 아무 생각도 안 하며 살고 싶어.</td>\n      <td>빚도 다 갚았으니 당분간은 아무 생각도 안 하며 살고 싶으시군요.</td>\n      <td>NaN</td>\n      <td>NaN</td>\n      <td>NaN</td>\n      <td>NaN</td>\n    </tr>\n    <tr>\n      <th>...</th>\n      <td>...</td>\n      <td>...</td>\n      <td>...</td>\n      <td>...</td>\n      <td>...</td>\n      <td>...</td>\n      <td>...</td>\n      <td>...</td>\n      <td>...</td>\n      <td>...</td>\n    </tr>\n    <tr>\n      <th>NaN</th>\n      <td>NaN</td>\n      <td>NaN</td>\n      <td>NaN</td>\n      <td>NaN</td>\n      <td>NaN</td>\n      <td>NaN</td>\n      <td>NaN</td>\n      <td>NaN</td>\n      <td>NaN</td>\n      <td>NaN</td>\n    </tr>\n    <tr>\n      <th>NaN</th>\n      <td>NaN</td>\n      <td>NaN</td>\n      <td>NaN</td>\n      <td>NaN</td>\n      <td>NaN</td>\n      <td>NaN</td>\n      <td>NaN</td>\n      <td>NaN</td>\n      <td>NaN</td>\n      <td>NaN</td>\n    </tr>\n    <tr>\n      <th>NaN</th>\n      <td>NaN</td>\n      <td>NaN</td>\n      <td>NaN</td>\n      <td>NaN</td>\n      <td>NaN</td>\n      <td>NaN</td>\n      <td>NaN</td>\n      <td>NaN</td>\n      <td>NaN</td>\n      <td>NaN</td>\n    </tr>\n    <tr>\n      <th>NaN</th>\n      <td>NaN</td>\n      <td>NaN</td>\n      <td>NaN</td>\n      <td>NaN</td>\n      <td>NaN</td>\n      <td>NaN</td>\n      <td>NaN</td>\n      <td>NaN</td>\n      <td>NaN</td>\n      <td>NaN</td>\n    </tr>\n    <tr>\n      <th>NaN</th>\n      <td>NaN</td>\n      <td>NaN</td>\n      <td>NaN</td>\n      <td>NaN</td>\n      <td>NaN</td>\n      <td>NaN</td>\n      <td>NaN</td>\n      <td>NaN</td>\n      <td>NaN</td>\n      <td>NaN</td>\n    </tr>\n  </tbody>\n</table>\n<p>69218 rows × 10 columns</p>\n</div>"
     },
     "execution_count": 61,
     "metadata": {},
     "output_type": "execute_result"
    }
   ],
   "source": [
    "train_df"
   ],
   "metadata": {
    "collapsed": false
   }
  },
  {
   "cell_type": "markdown",
   "source": [
    "# Train dataset Preprocessing\n",
    "(일단 train dataset에 대해서만 진행)"
   ],
   "metadata": {
    "collapsed": false
   }
  },
  {
   "cell_type": "markdown",
   "source": [
    "## {user:chatbot}, {chatbot:user} 로 데이터셋 분할"
   ],
   "metadata": {
    "collapsed": false
   }
  },
  {
   "cell_type": "code",
   "execution_count": 62,
   "outputs": [],
   "source": [
    "train_df1 = train_df[['keywords', 'major_emotions', 'user1', 'chatbot1']]\n",
    "train_df2 = train_df[['keywords', 'major_emotions', 'chatbot1', 'user2']]\n",
    "train_df3 = train_df[['keywords', 'major_emotions', 'user2', 'chatbot2']]\n",
    "train_df4 = train_df[['keywords', 'major_emotions', 'chatbot2', 'user3']]\n",
    "train_df5 = train_df[['keywords', 'major_emotions', 'user3', 'chatbot3']]\n",
    "train_df6 = train_df[['keywords', 'major_emotions', 'chatbot3', 'user4']]\n",
    "train_df7 = train_df[['keywords', 'major_emotions', 'user4', 'chatbot4']]"
   ],
   "metadata": {
    "collapsed": false
   }
  },
  {
   "cell_type": "code",
   "execution_count": 63,
   "outputs": [
    {
     "data": {
      "text/plain": "        keywords major_emotions                              chatbot2  \\\n번호                                                                      \n44164.0        2              5                             잘 된 일이네요.   \n3926.0         3              2         현재 상황에서 변화를 주기 위해 어떻게 하면 될까요?   \n50882.0        5              4           이 상황에서 할 수 있는 게 어떤 것이 있을까요?   \n31303.0        4              5               이 기분을 유지하려면 어떻게 해야 할까요?   \n47200.0        4              5  빚도 다 갚았으니 당분간은 아무 생각도 안 하며 살고 싶으시군요.   \n...          ...            ...                                   ...   \nNaN          NaN            NaN                                   NaN   \nNaN          NaN            NaN                                   NaN   \nNaN          NaN            NaN                                   NaN   \nNaN          NaN            NaN                                   NaN   \nNaN          NaN            NaN                                   NaN   \n\n                                      user3  \n번호                                           \n44164.0  아기가 점점 클게 벌써 기대가 되네. 내가 많이 놀아줘야지.   \n3926.0           약을 잘 챙겨 먹고 나을 수 있도록 노력해야지.  \n50882.0       중학교 수업을 들을 때보다 훨씬 더 열심히 할 거야.  \n31303.0           회사생활을 열심히 해서 계속 월급을 받을거야!  \n47200.0                                 NaN  \n...                                     ...  \nNaN                                     NaN  \nNaN                                     NaN  \nNaN                                     NaN  \nNaN                                     NaN  \nNaN                                     NaN  \n\n[69218 rows x 4 columns]",
      "text/html": "<div>\n<style scoped>\n    .dataframe tbody tr th:only-of-type {\n        vertical-align: middle;\n    }\n\n    .dataframe tbody tr th {\n        vertical-align: top;\n    }\n\n    .dataframe thead th {\n        text-align: right;\n    }\n</style>\n<table border=\"1\" class=\"dataframe\">\n  <thead>\n    <tr style=\"text-align: right;\">\n      <th></th>\n      <th>keywords</th>\n      <th>major_emotions</th>\n      <th>chatbot2</th>\n      <th>user3</th>\n    </tr>\n    <tr>\n      <th>번호</th>\n      <th></th>\n      <th></th>\n      <th></th>\n      <th></th>\n    </tr>\n  </thead>\n  <tbody>\n    <tr>\n      <th>44164.0</th>\n      <td>2</td>\n      <td>5</td>\n      <td>잘 된 일이네요.</td>\n      <td>아기가 점점 클게 벌써 기대가 되네. 내가 많이 놀아줘야지.</td>\n    </tr>\n    <tr>\n      <th>3926.0</th>\n      <td>3</td>\n      <td>2</td>\n      <td>현재 상황에서 변화를 주기 위해 어떻게 하면 될까요?</td>\n      <td>약을 잘 챙겨 먹고 나을 수 있도록 노력해야지.</td>\n    </tr>\n    <tr>\n      <th>50882.0</th>\n      <td>5</td>\n      <td>4</td>\n      <td>이 상황에서 할 수 있는 게 어떤 것이 있을까요?</td>\n      <td>중학교 수업을 들을 때보다 훨씬 더 열심히 할 거야.</td>\n    </tr>\n    <tr>\n      <th>31303.0</th>\n      <td>4</td>\n      <td>5</td>\n      <td>이 기분을 유지하려면 어떻게 해야 할까요?</td>\n      <td>회사생활을 열심히 해서 계속 월급을 받을거야!</td>\n    </tr>\n    <tr>\n      <th>47200.0</th>\n      <td>4</td>\n      <td>5</td>\n      <td>빚도 다 갚았으니 당분간은 아무 생각도 안 하며 살고 싶으시군요.</td>\n      <td>NaN</td>\n    </tr>\n    <tr>\n      <th>...</th>\n      <td>...</td>\n      <td>...</td>\n      <td>...</td>\n      <td>...</td>\n    </tr>\n    <tr>\n      <th>NaN</th>\n      <td>NaN</td>\n      <td>NaN</td>\n      <td>NaN</td>\n      <td>NaN</td>\n    </tr>\n    <tr>\n      <th>NaN</th>\n      <td>NaN</td>\n      <td>NaN</td>\n      <td>NaN</td>\n      <td>NaN</td>\n    </tr>\n    <tr>\n      <th>NaN</th>\n      <td>NaN</td>\n      <td>NaN</td>\n      <td>NaN</td>\n      <td>NaN</td>\n    </tr>\n    <tr>\n      <th>NaN</th>\n      <td>NaN</td>\n      <td>NaN</td>\n      <td>NaN</td>\n      <td>NaN</td>\n    </tr>\n    <tr>\n      <th>NaN</th>\n      <td>NaN</td>\n      <td>NaN</td>\n      <td>NaN</td>\n      <td>NaN</td>\n    </tr>\n  </tbody>\n</table>\n<p>69218 rows × 4 columns</p>\n</div>"
     },
     "execution_count": 63,
     "metadata": {},
     "output_type": "execute_result"
    }
   ],
   "source": [
    "train_df4"
   ],
   "metadata": {
    "collapsed": false
   }
  },
  {
   "cell_type": "markdown",
   "source": [
    "### ======= train_df1 ======="
   ],
   "metadata": {
    "collapsed": false
   }
  },
  {
   "cell_type": "code",
   "execution_count": 64,
   "outputs": [
    {
     "name": "stdout",
     "output_type": "stream",
     "text": [
      "중복 제거 전 컬럼 별 unique 개수:  39415 39177 6\n",
      "중복을 제거한 후 총 샘플의 수 : 38967\n"
     ]
    }
   ],
   "source": [
    "print('중복 제거 전 컬럼 별 unique 개수: ',\n",
    "      train_df1['user1'].nunique(),\n",
    "      train_df1['chatbot1'].nunique(),\n",
    "      train_df1['major_emotions'].nunique())\n",
    "\n",
    "# user1, chatbot1 열에서 중복인 내용이 있다면 중복 제거\n",
    "train_df1 = train_df1.drop_duplicates(subset=['user1']).reset_index(drop=True)\n",
    "train_df1 = train_df1.drop_duplicates(subset=['chatbot1']).reset_index(drop=True)\n",
    "\n",
    "print('중복을 제거한 후 총 샘플의 수 :',len(train_df1))\n",
    "\n",
    "train_df1['user1'] = train_df1['user1'].str.replace(\"[^ㄱ-ㅎㅏ-ㅣ가-힣 ]\",\"\")\n",
    "train_df1['user1'] = train_df1['user1'].str.replace('^ +', \"\") # white space 데이터를 empty value로 변경\n",
    "\n",
    "train_df1['chatbot1'] = train_df1['chatbot1'].str.replace(\"[^ㄱ-ㅎㅏ-ㅣ가-힣 ]\",\"\")\n",
    "train_df1['chatbot1'] = train_df1['chatbot1'].str.replace('^ +', \"\") # white space 데이터를 empty value로 변경\n",
    "\n",
    "train_df1['user1'].replace('', np.nan, inplace=True)\n",
    "train_df1['chatbot1'].replace('', np.nan, inplace=True)"
   ],
   "metadata": {
    "collapsed": false
   }
  },
  {
   "cell_type": "code",
   "execution_count": 65,
   "outputs": [
    {
     "data": {
      "text/plain": "2    7035\n1    6586\n0    6570\n5    6414\n3    6334\n4    6027\nName: major_emotions, dtype: int64"
     },
     "execution_count": 65,
     "metadata": {},
     "output_type": "execute_result"
    }
   ],
   "source": [
    "train_df1['major_emotions'].value_counts()"
   ],
   "metadata": {
    "collapsed": false
   }
  },
  {
   "cell_type": "code",
   "execution_count": 66,
   "outputs": [
    {
     "data": {
      "text/plain": "0    10226\n1     6769\n3     5691\n4     5603\n2     3838\n5     2371\n6     2279\n7     2189\nName: keywords, dtype: int64"
     },
     "execution_count": 66,
     "metadata": {},
     "output_type": "execute_result"
    }
   ],
   "source": [
    "train_df1['keywords'].value_counts()"
   ],
   "metadata": {
    "collapsed": false
   }
  },
  {
   "cell_type": "markdown",
   "source": [
    "### ======= train_df2 ======="
   ],
   "metadata": {
    "collapsed": false
   }
  },
  {
   "cell_type": "code",
   "execution_count": 67,
   "outputs": [
    {
     "name": "stdout",
     "output_type": "stream",
     "text": [
      "중복 제거 전 컬럼 별 unique 개수:  39177 38878 6\n",
      "중복을 제거한 후 총 샘플의 수 : 38519\n"
     ]
    }
   ],
   "source": [
    "print('중복 제거 전 컬럼 별 unique 개수: ',\n",
    "      train_df2['chatbot1'].nunique(),\n",
    "      train_df2['user2'].nunique(),\n",
    "      train_df2['major_emotions'].nunique())\n",
    "\n",
    "# chatbot1, user2 열에서 중복인 내용이 있다면 중복 제거\n",
    "train_df2 = train_df2.drop_duplicates(subset=['chatbot1']).reset_index(drop=True)\n",
    "train_df2 = train_df2.drop_duplicates(subset=['user2']).reset_index(drop=True)\n",
    "\n",
    "print('중복을 제거한 후 총 샘플의 수 :',len(train_df2))\n",
    "\n",
    "train_df2['chatbot1'] = train_df2['chatbot1'].str.replace(\"[^ㄱ-ㅎㅏ-ㅣ가-힣 ]\",\"\")\n",
    "train_df2['chatbot1'] = train_df2['chatbot1'].str.replace('^ +', \"\") # white space 데이터를 empty value로 변경\n",
    "\n",
    "train_df2['user2'] = train_df2['user2'].str.replace(\"[^ㄱ-ㅎㅏ-ㅣ가-힣 ]\",\"\")\n",
    "train_df2['user2'] = train_df2['user2'].str.replace('^ +', \"\") # white space 데이터를 empty value로 변경\n",
    "\n",
    "train_df2['chatbot1'].replace('', np.nan, inplace=True)\n",
    "train_df2['user2'].replace('', np.nan, inplace=True)"
   ],
   "metadata": {
    "collapsed": false
   }
  },
  {
   "cell_type": "code",
   "execution_count": 68,
   "outputs": [
    {
     "data": {
      "text/plain": "2    6975\n1    6513\n0    6452\n5    6356\n3    6259\n4    5963\nName: major_emotions, dtype: int64"
     },
     "execution_count": 68,
     "metadata": {},
     "output_type": "execute_result"
    }
   ],
   "source": [
    "train_df2['major_emotions'].value_counts()"
   ],
   "metadata": {
    "collapsed": false
   }
  },
  {
   "cell_type": "code",
   "execution_count": 69,
   "outputs": [
    {
     "data": {
      "text/plain": "0    10100\n1     6712\n3     5603\n4     5531\n2     3802\n5     2346\n6     2268\n7     2156\nName: keywords, dtype: int64"
     },
     "execution_count": 69,
     "metadata": {},
     "output_type": "execute_result"
    }
   ],
   "source": [
    "train_df2['keywords'].value_counts()"
   ],
   "metadata": {
    "collapsed": false
   }
  },
  {
   "cell_type": "markdown",
   "source": [
    "### ======= train_df3 ======="
   ],
   "metadata": {
    "collapsed": false
   }
  },
  {
   "cell_type": "code",
   "execution_count": 72,
   "outputs": [
    {
     "name": "stdout",
     "output_type": "stream",
     "text": [
      "중복 제거 전 컬럼 별 unique 개수:  38878 38364 6\n",
      "중복을 제거한 후 총 샘플의 수 : 38967\n"
     ]
    }
   ],
   "source": [
    "print('중복 제거 전 컬럼 별 unique 개수: ',\n",
    "      train_df3['user2'].nunique(),\n",
    "      train_df3['chatbot2'].nunique(),\n",
    "      train_df3['major_emotions'].nunique())\n",
    "\n",
    "# user1, chatbot1 열에서 중복인 내용이 있다면 중복 제거\n",
    "train_df3 = train_df3.drop_duplicates(subset=['user2']).reset_index(drop=True)\n",
    "train_df3 = train_df3.drop_duplicates(subset=['chatbot2']).reset_index(drop=True)\n",
    "\n",
    "print('중복을 제거한 후 총 샘플의 수 :',len(train_df3))\n",
    "\n",
    "train_df3['user2'] = train_df3['user2'].str.replace(\"[^ㄱ-ㅎㅏ-ㅣ가-힣 ]\",\"\")\n",
    "train_df3['user2'] = train_df3['user2'].str.replace('^ +', \"\") # white space 데이터를 empty value로 변경\n",
    "\n",
    "train_df3['chatbot2'] = train_df3['chatbot2'].str.replace(\"[^ㄱ-ㅎㅏ-ㅣ가-힣 ]\",\"\")\n",
    "train_df3['chatbot2'] = train_df3['chatbot2'].str.replace('^ +', \"\") # white space 데이터를 empty value로 변경\n",
    "\n",
    "train_df3['user2'].replace('', np.nan, inplace=True)\n",
    "train_df3['chatbot2'].replace('', np.nan, inplace=True)"
   ],
   "metadata": {
    "collapsed": false
   }
  },
  {
   "cell_type": "code",
   "execution_count": 73,
   "outputs": [
    {
     "data": {
      "text/plain": "2    6820\n1    6387\n5    6334\n0    6308\n3    6116\n4    5840\nName: major_emotions, dtype: int64"
     },
     "execution_count": 73,
     "metadata": {},
     "output_type": "execute_result"
    }
   ],
   "source": [
    "train_df3['major_emotions'].value_counts()"
   ],
   "metadata": {
    "collapsed": false
   }
  },
  {
   "cell_type": "code",
   "execution_count": 74,
   "outputs": [
    {
     "data": {
      "text/plain": "0    9922\n1    6602\n3    5506\n4    5414\n2    3759\n5    2297\n6    2197\n7    2108\nName: keywords, dtype: int64"
     },
     "execution_count": 74,
     "metadata": {},
     "output_type": "execute_result"
    }
   ],
   "source": [
    "train_df3['keywords'].value_counts()"
   ],
   "metadata": {
    "collapsed": false
   }
  },
  {
   "cell_type": "markdown",
   "source": [
    "### ======= train_df4 ======="
   ],
   "metadata": {
    "collapsed": false
   }
  },
  {
   "cell_type": "code",
   "execution_count": 76,
   "outputs": [
    {
     "name": "stdout",
     "output_type": "stream",
     "text": [
      "중복 제거 전 컬럼 별 unique 개수:  38364 29368 6\n",
      "중복을 제거한 후 총 샘플의 수 : 38519\n"
     ]
    }
   ],
   "source": [
    "print('중복 제거 전 컬럼 별 unique 개수: ',\n",
    "      train_df4['chatbot2'].nunique(),\n",
    "      train_df4['user3'].nunique(),\n",
    "      train_df4['major_emotions'].nunique())\n",
    "\n",
    "# chatbot1, user2 열에서 중복인 내용이 있다면 중복 제거\n",
    "train_df4 = train_df4.drop_duplicates(subset=['chatbot2']).reset_index(drop=True)\n",
    "train_df4 = train_df4.drop_duplicates(subset=['user3']).reset_index(drop=True)\n",
    "\n",
    "print('중복을 제거한 후 총 샘플의 수 :',len(train_df2))\n",
    "\n",
    "train_df4['chatbot2'] = train_df4['chatbot2'].str.replace(\"[^ㄱ-ㅎㅏ-ㅣ가-힣 ]\",\"\")\n",
    "train_df4['chatbot2'] = train_df4['chatbot2'].str.replace('^ +', \"\") # white space 데이터를 empty value로 변경\n",
    "\n",
    "train_df4['user3'] = train_df4['user3'].str.replace(\"[^ㄱ-ㅎㅏ-ㅣ가-힣 ]\",\"\")\n",
    "train_df4['user3'] = train_df4['user3'].str.replace('^ +', \"\") # white space 데이터를 empty value로 변경\n",
    "\n",
    "train_df4['chatbot2'].replace('', np.nan, inplace=True)\n",
    "train_df4['user3'].replace('', np.nan, inplace=True)"
   ],
   "metadata": {
    "collapsed": false
   }
  },
  {
   "cell_type": "code",
   "execution_count": 78,
   "outputs": [
    {
     "data": {
      "text/plain": "2    5033\n1    4767\n5    4675\n0    4658\n3    4580\n4    4372\nName: major_emotions, dtype: int64"
     },
     "execution_count": 78,
     "metadata": {},
     "output_type": "execute_result"
    }
   ],
   "source": [
    "train_df4['major_emotions'].value_counts()"
   ],
   "metadata": {
    "collapsed": false
   }
  },
  {
   "cell_type": "code",
   "execution_count": 77,
   "outputs": [
    {
     "data": {
      "text/plain": "0    7411\n1    4795\n4    4124\n3    4107\n2    2807\n5    1707\n6    1650\n7    1484\nName: keywords, dtype: int64"
     },
     "execution_count": 77,
     "metadata": {},
     "output_type": "execute_result"
    }
   ],
   "source": [
    "train_df4['keywords'].value_counts()"
   ],
   "metadata": {
    "collapsed": false
   }
  },
  {
   "cell_type": "markdown",
   "source": [
    "### ======= train_df5 ======="
   ],
   "metadata": {
    "collapsed": false
   }
  },
  {
   "cell_type": "code",
   "execution_count": 81,
   "outputs": [
    {
     "name": "stdout",
     "output_type": "stream",
     "text": [
      "중복 제거 전 컬럼 별 unique 개수:  29368 30280 6\n",
      "중복을 제거한 후 총 샘플의 수 : 28986\n"
     ]
    }
   ],
   "source": [
    "print('중복 제거 전 컬럼 별 unique 개수: ',\n",
    "      train_df5['user3'].nunique(),\n",
    "      train_df5['chatbot3'].nunique(),\n",
    "      train_df5['major_emotions'].nunique())\n",
    "\n",
    "# user1, chatbot1 열에서 중복인 내용이 있다면 중복 제거\n",
    "train_df5 = train_df5.drop_duplicates(subset=['user3']).reset_index(drop=True)\n",
    "train_df5 = train_df5.drop_duplicates(subset=['chatbot3']).reset_index(drop=True)\n",
    "\n",
    "print('중복을 제거한 후 총 샘플의 수 :',len(train_df5))\n",
    "\n",
    "train_df5['user3'] = train_df5['user3'].str.replace(\"[^ㄱ-ㅎㅏ-ㅣ가-힣 ]\",\"\")\n",
    "train_df5['user3'] = train_df5['user3'].str.replace('^ +', \"\") # white space 데이터를 empty value로 변경\n",
    "\n",
    "train_df5['chatbot3'] = train_df5['chatbot3'].str.replace(\"[^ㄱ-ㅎㅏ-ㅣ가-힣 ]\",\"\")\n",
    "train_df5['chatbot3'] = train_df5['chatbot3'].str.replace('^ +', \"\") # white space 데이터를 empty value로 변경\n",
    "\n",
    "train_df5['user3'].replace('', np.nan, inplace=True)\n",
    "train_df5['chatbot3'].replace('', np.nan, inplace=True)"
   ],
   "metadata": {
    "collapsed": false
   }
  },
  {
   "cell_type": "code",
   "execution_count": 82,
   "outputs": [
    {
     "data": {
      "text/plain": "2    5213\n1    4913\n0    4860\n3    4753\n5    4751\n4    4496\nName: major_emotions, dtype: int64"
     },
     "execution_count": 82,
     "metadata": {},
     "output_type": "execute_result"
    }
   ],
   "source": [
    "train_df5['major_emotions'].value_counts()"
   ],
   "metadata": {
    "collapsed": false
   }
  },
  {
   "cell_type": "code",
   "execution_count": 83,
   "outputs": [
    {
     "data": {
      "text/plain": "0    7638\n1    4931\n4    4285\n3    4242\n2    2864\n5    1755\n6    1722\n7    1549\nName: keywords, dtype: int64"
     },
     "execution_count": 83,
     "metadata": {},
     "output_type": "execute_result"
    }
   ],
   "source": [
    "train_df5['keywords'].value_counts()"
   ],
   "metadata": {
    "collapsed": false
   }
  },
  {
   "cell_type": "markdown",
   "source": [
    "### ======= train_df6 ======="
   ],
   "metadata": {
    "collapsed": false
   }
  },
  {
   "cell_type": "code",
   "execution_count": 85,
   "outputs": [
    {
     "name": "stdout",
     "output_type": "stream",
     "text": [
      "중복 제거 전 컬럼 별 unique 개수:  30280 1472 6\n",
      "중복을 제거한 후 총 샘플의 수 : 1431\n"
     ]
    }
   ],
   "source": [
    "print('중복 제거 전 컬럼 별 unique 개수: ',\n",
    "      train_df6['chatbot3'].nunique(),\n",
    "      train_df6['user4'].nunique(),\n",
    "      train_df6['major_emotions'].nunique())\n",
    "\n",
    "# chatbot1, user2 열에서 중복인 내용이 있다면 중복 제거\n",
    "train_df6 = train_df6.drop_duplicates(subset=['chatbot3']).reset_index(drop=True)\n",
    "train_df6 = train_df6.drop_duplicates(subset=['user4']).reset_index(drop=True)\n",
    "\n",
    "print('중복을 제거한 후 총 샘플의 수 :',len(train_df6))\n",
    "\n",
    "train_df6['chatbot3'] = train_df6['chatbot3'].str.replace(\"[^ㄱ-ㅎㅏ-ㅣ가-힣 ]\",\"\")\n",
    "train_df6['chatbot3'] = train_df6['chatbot3'].str.replace('^ +', \"\") # white space 데이터를 empty value로 변경\n",
    "\n",
    "train_df6['user4'] = train_df6['user4'].str.replace(\"[^ㄱ-ㅎㅏ-ㅣ가-힣 ]\",\"\")\n",
    "train_df6['user4'] = train_df6['user4'].str.replace('^ +', \"\") # white space 데이터를 empty value로 변경\n",
    "\n",
    "train_df6['chatbot3'].replace('', np.nan, inplace=True)\n",
    "train_df6['user4'].replace('', np.nan, inplace=True)"
   ],
   "metadata": {
    "collapsed": false
   }
  },
  {
   "cell_type": "code",
   "execution_count": 86,
   "outputs": [
    {
     "data": {
      "text/plain": "5    268\n4    263\n0    249\n1    241\n2    228\n3    182\nName: major_emotions, dtype: int64"
     },
     "execution_count": 86,
     "metadata": {},
     "output_type": "execute_result"
    }
   ],
   "source": [
    "train_df6['major_emotions'].value_counts()"
   ],
   "metadata": {
    "collapsed": false
   }
  },
  {
   "cell_type": "code",
   "execution_count": 87,
   "outputs": [
    {
     "data": {
      "text/plain": "0    344\n1    243\n6    208\n4    158\n3    153\n5    149\n7     97\n2     79\nName: keywords, dtype: int64"
     },
     "execution_count": 87,
     "metadata": {},
     "output_type": "execute_result"
    }
   ],
   "source": [
    "train_df6['keywords'].value_counts()"
   ],
   "metadata": {
    "collapsed": false
   }
  },
  {
   "cell_type": "markdown",
   "source": [
    "### ======= train_df7 ======="
   ],
   "metadata": {
    "collapsed": false
   }
  },
  {
   "cell_type": "code",
   "execution_count": 88,
   "outputs": [
    {
     "data": {
      "text/plain": "        keywords major_emotions                                      user4  \\\n번호                                                                           \n44164.0        2              5                                        NaN   \n3926.0         3              2                                        NaN   \n50882.0        5              4  선생님이 강조하신 부분을 필기하고 집에서 매일 수업 내용을 복습하려고 해.   \n31303.0        4              5                                        NaN   \n47200.0        4              5                                        NaN   \n...          ...            ...                                        ...   \nNaN          NaN            NaN                                        NaN   \nNaN          NaN            NaN                                        NaN   \nNaN          NaN            NaN                                        NaN   \nNaN          NaN            NaN                                        NaN   \nNaN          NaN            NaN                                        NaN   \n\n                         chatbot4  \n번호                                 \n44164.0                       NaN  \n3926.0                        NaN  \n50882.0  열심히 해서 좋은 결과가 있었으면 좋겠어요.  \n31303.0                       NaN  \n47200.0                       NaN  \n...                           ...  \nNaN                           NaN  \nNaN                           NaN  \nNaN                           NaN  \nNaN                           NaN  \nNaN                           NaN  \n\n[69218 rows x 4 columns]",
      "text/html": "<div>\n<style scoped>\n    .dataframe tbody tr th:only-of-type {\n        vertical-align: middle;\n    }\n\n    .dataframe tbody tr th {\n        vertical-align: top;\n    }\n\n    .dataframe thead th {\n        text-align: right;\n    }\n</style>\n<table border=\"1\" class=\"dataframe\">\n  <thead>\n    <tr style=\"text-align: right;\">\n      <th></th>\n      <th>keywords</th>\n      <th>major_emotions</th>\n      <th>user4</th>\n      <th>chatbot4</th>\n    </tr>\n    <tr>\n      <th>번호</th>\n      <th></th>\n      <th></th>\n      <th></th>\n      <th></th>\n    </tr>\n  </thead>\n  <tbody>\n    <tr>\n      <th>44164.0</th>\n      <td>2</td>\n      <td>5</td>\n      <td>NaN</td>\n      <td>NaN</td>\n    </tr>\n    <tr>\n      <th>3926.0</th>\n      <td>3</td>\n      <td>2</td>\n      <td>NaN</td>\n      <td>NaN</td>\n    </tr>\n    <tr>\n      <th>50882.0</th>\n      <td>5</td>\n      <td>4</td>\n      <td>선생님이 강조하신 부분을 필기하고 집에서 매일 수업 내용을 복습하려고 해.</td>\n      <td>열심히 해서 좋은 결과가 있었으면 좋겠어요.</td>\n    </tr>\n    <tr>\n      <th>31303.0</th>\n      <td>4</td>\n      <td>5</td>\n      <td>NaN</td>\n      <td>NaN</td>\n    </tr>\n    <tr>\n      <th>47200.0</th>\n      <td>4</td>\n      <td>5</td>\n      <td>NaN</td>\n      <td>NaN</td>\n    </tr>\n    <tr>\n      <th>...</th>\n      <td>...</td>\n      <td>...</td>\n      <td>...</td>\n      <td>...</td>\n    </tr>\n    <tr>\n      <th>NaN</th>\n      <td>NaN</td>\n      <td>NaN</td>\n      <td>NaN</td>\n      <td>NaN</td>\n    </tr>\n    <tr>\n      <th>NaN</th>\n      <td>NaN</td>\n      <td>NaN</td>\n      <td>NaN</td>\n      <td>NaN</td>\n    </tr>\n    <tr>\n      <th>NaN</th>\n      <td>NaN</td>\n      <td>NaN</td>\n      <td>NaN</td>\n      <td>NaN</td>\n    </tr>\n    <tr>\n      <th>NaN</th>\n      <td>NaN</td>\n      <td>NaN</td>\n      <td>NaN</td>\n      <td>NaN</td>\n    </tr>\n    <tr>\n      <th>NaN</th>\n      <td>NaN</td>\n      <td>NaN</td>\n      <td>NaN</td>\n      <td>NaN</td>\n    </tr>\n  </tbody>\n</table>\n<p>69218 rows × 4 columns</p>\n</div>"
     },
     "execution_count": 88,
     "metadata": {},
     "output_type": "execute_result"
    }
   ],
   "source": [
    "train_df7"
   ],
   "metadata": {
    "collapsed": false
   }
  },
  {
   "cell_type": "code",
   "execution_count": 89,
   "outputs": [
    {
     "name": "stdout",
     "output_type": "stream",
     "text": [
      "중복 제거 전 컬럼 별 unique 개수:  1472 1349 6\n",
      "중복을 제거한 후 총 샘플의 수 : 1350\n"
     ]
    }
   ],
   "source": [
    "print('중복 제거 전 컬럼 별 unique 개수: ',\n",
    "      train_df7['user4'].nunique(),\n",
    "      train_df7['chatbot4'].nunique(),\n",
    "      train_df7['major_emotions'].nunique())\n",
    "\n",
    "# user1, chatbot1 열에서 중복인 내용이 있다면 중복 제거\n",
    "train_df7 = train_df7.drop_duplicates(subset=['user4']).reset_index(drop=True)\n",
    "train_df7 = train_df7.drop_duplicates(subset=['chatbot4']).reset_index(drop=True)\n",
    "\n",
    "print('중복을 제거한 후 총 샘플의 수 :',len(train_df7))\n",
    "\n",
    "train_df7['user4'] = train_df7['user4'].str.replace(\"[^ㄱ-ㅎㅏ-ㅣ가-힣 ]\",\"\")\n",
    "train_df7['user4'] = train_df7['user4'].str.replace('^ +', \"\") # white space 데이터를 empty value로 변경\n",
    "\n",
    "train_df7['chatbot4'] = train_df7['chatbot4'].str.replace(\"[^ㄱ-ㅎㅏ-ㅣ가-힣 ]\",\"\")\n",
    "train_df7['chatbot4'] = train_df7['chatbot4'].str.replace('^ +', \"\") # white space 데이터를 empty value로 변경\n",
    "\n",
    "train_df7['user4'].replace('', np.nan, inplace=True)\n",
    "train_df7['chatbot4'].replace('', np.nan, inplace=True)"
   ],
   "metadata": {
    "collapsed": false
   }
  },
  {
   "cell_type": "code",
   "execution_count": 90,
   "outputs": [
    {
     "data": {
      "text/plain": "5    265\n1    238\n4    234\n0    229\n2    202\n3    182\nName: major_emotions, dtype: int64"
     },
     "execution_count": 90,
     "metadata": {},
     "output_type": "execute_result"
    }
   ],
   "source": [
    "train_df7['major_emotions'].value_counts()"
   ],
   "metadata": {
    "collapsed": false
   }
  },
  {
   "cell_type": "code",
   "execution_count": 91,
   "outputs": [
    {
     "data": {
      "text/plain": "0    310\n6    214\n1    214\n5    148\n3    143\n4    142\n7     97\n2     82\nName: keywords, dtype: int64"
     },
     "execution_count": 91,
     "metadata": {},
     "output_type": "execute_result"
    }
   ],
   "source": [
    "train_df7['keywords'].value_counts()"
   ],
   "metadata": {
    "collapsed": false
   }
  },
  {
   "cell_type": "markdown",
   "source": [
    "# train_df1~7 합치기"
   ],
   "metadata": {
    "collapsed": false
   }
  },
  {
   "cell_type": "code",
   "execution_count": 93,
   "outputs": [
    {
     "data": {
      "text/plain": "        keywords major_emotions  \\\n번호                                \n44164.0        2              5   \n3926.0         3              2   \n50882.0        5              4   \n31303.0        4              5   \n47200.0        4              5   \n...          ...            ...   \nNaN          NaN            NaN   \nNaN          NaN            NaN   \nNaN          NaN            NaN   \nNaN          NaN            NaN   \nNaN          NaN            NaN   \n\n                                                 user1  \\\n번호                                                       \n44164.0                      아내가 드디어 출산하게 되어서 정말 신이 나.   \n3926.0         당뇨랑 합병증 때문에 먹어야 할 약이 열 가지가 넘어가니까 스트레스야.   \n50882.0        고등학교에 올라오니 중학교 때보다 수업이 갑자기 어려워져서 당황스러워.   \n31303.0  재취업이 돼서 받게 된 첫 월급으로 온 가족이 외식을 할 예정이야. 너무 행복해.   \n47200.0                   빚을 드디어 다 갚게 되어서 이제야 안도감이 들어.   \n...                                                ...   \nNaN                                                NaN   \nNaN                                                NaN   \nNaN                                                NaN   \nNaN                                                NaN   \nNaN                                                NaN   \n\n                                        chatbot1  \\\n번호                                                 \n44164.0                아내분이 출산을 하시는군요. 정말 축하드려요.   \n3926.0                        약 종류가 많아 번거로우시겠어요.   \n50882.0  고등학교 수업이 중학교 때와는 다르게 갑자기 어려워서 당황스러우시군요.   \n31303.0                  재취업 후 첫 월급이라 정말 기쁘시겠어요.   \n47200.0           기분 좋으시겠어요. 앞으로는 어떻게 하실 생각이신가요?   \n...                                          ...   \nNaN                                          NaN   \nNaN                                          NaN   \nNaN                                          NaN   \nNaN                                          NaN   \nNaN                                          NaN   \n\n                                                     user2  \\\n번호                                                           \n44164.0                                      아 지금 정말 신이 나.   \n3926.0                         건강할 때 관리 좀 잘할걸 하는 생각이 들더라고.   \n50882.0                  아직 학기 초인데 내가 수업에 잘 따라갈 수 있을지 걱정돼.   \n31303.0  퇴직 후 다시는 돈을 못 벌 줄 알았는데 이렇게 월급으로 가족에게 맛있는 밥을 살 ...   \n47200.0                  빚도 다 갚았으니 당분간은 아무 생각도 안 하며 살고 싶어.   \n...                                                    ...   \nNaN                                                    NaN   \nNaN                                                    NaN   \nNaN                                                    NaN   \nNaN                                                    NaN   \nNaN                                                    NaN   \n\n                                     chatbot2  \\\n번호                                              \n44164.0                             잘 된 일이네요.   \n3926.0          현재 상황에서 변화를 주기 위해 어떻게 하면 될까요?   \n50882.0           이 상황에서 할 수 있는 게 어떤 것이 있을까요?   \n31303.0               이 기분을 유지하려면 어떻게 해야 할까요?   \n47200.0  빚도 다 갚았으니 당분간은 아무 생각도 안 하며 살고 싶으시군요.   \n...                                       ...   \nNaN                                       NaN   \nNaN                                       NaN   \nNaN                                       NaN   \nNaN                                       NaN   \nNaN                                       NaN   \n\n                                      user3                      chatbot3  \\\n번호                                                                          \n44164.0  아기가 점점 클게 벌써 기대가 되네. 내가 많이 놀아줘야지.   좋은 아빠가 되실 거 같아요. 진심으로 축하드려요.   \n3926.0           약을 잘 챙겨 먹고 나을 수 있도록 노력해야지.       약을 잘 챙겨 먹어 건강해지시길 바랄게요.   \n50882.0       중학교 수업을 들을 때보다 훨씬 더 열심히 할 거야.    수업을 어떤 방식으로 열심히 듣는게 좋을까요?    \n31303.0           회사생활을 열심히 해서 계속 월급을 받을거야!   계속 원하시는 대로 회사생활이 이어지길 바랄게요.   \n47200.0                                 NaN                           NaN   \n...                                     ...                           ...   \nNaN                                     NaN                           NaN   \nNaN                                     NaN                           NaN   \nNaN                                     NaN                           NaN   \nNaN                                     NaN                           NaN   \nNaN                                     NaN                           NaN   \n\n                                             user4                  chatbot4  \n번호                                                                            \n44164.0                                        NaN                       NaN  \n3926.0                                         NaN                       NaN  \n50882.0  선생님이 강조하신 부분을 필기하고 집에서 매일 수업 내용을 복습하려고 해.  열심히 해서 좋은 결과가 있었으면 좋겠어요.  \n31303.0                                        NaN                       NaN  \n47200.0                                        NaN                       NaN  \n...                                            ...                       ...  \nNaN                                            NaN                       NaN  \nNaN                                            NaN                       NaN  \nNaN                                            NaN                       NaN  \nNaN                                            NaN                       NaN  \nNaN                                            NaN                       NaN  \n\n[69218 rows x 10 columns]",
      "text/html": "<div>\n<style scoped>\n    .dataframe tbody tr th:only-of-type {\n        vertical-align: middle;\n    }\n\n    .dataframe tbody tr th {\n        vertical-align: top;\n    }\n\n    .dataframe thead th {\n        text-align: right;\n    }\n</style>\n<table border=\"1\" class=\"dataframe\">\n  <thead>\n    <tr style=\"text-align: right;\">\n      <th></th>\n      <th>keywords</th>\n      <th>major_emotions</th>\n      <th>user1</th>\n      <th>chatbot1</th>\n      <th>user2</th>\n      <th>chatbot2</th>\n      <th>user3</th>\n      <th>chatbot3</th>\n      <th>user4</th>\n      <th>chatbot4</th>\n    </tr>\n    <tr>\n      <th>번호</th>\n      <th></th>\n      <th></th>\n      <th></th>\n      <th></th>\n      <th></th>\n      <th></th>\n      <th></th>\n      <th></th>\n      <th></th>\n      <th></th>\n    </tr>\n  </thead>\n  <tbody>\n    <tr>\n      <th>44164.0</th>\n      <td>2</td>\n      <td>5</td>\n      <td>아내가 드디어 출산하게 되어서 정말 신이 나.</td>\n      <td>아내분이 출산을 하시는군요. 정말 축하드려요.</td>\n      <td>아 지금 정말 신이 나.</td>\n      <td>잘 된 일이네요.</td>\n      <td>아기가 점점 클게 벌써 기대가 되네. 내가 많이 놀아줘야지.</td>\n      <td>좋은 아빠가 되실 거 같아요. 진심으로 축하드려요.</td>\n      <td>NaN</td>\n      <td>NaN</td>\n    </tr>\n    <tr>\n      <th>3926.0</th>\n      <td>3</td>\n      <td>2</td>\n      <td>당뇨랑 합병증 때문에 먹어야 할 약이 열 가지가 넘어가니까 스트레스야.</td>\n      <td>약 종류가 많아 번거로우시겠어요.</td>\n      <td>건강할 때 관리 좀 잘할걸 하는 생각이 들더라고.</td>\n      <td>현재 상황에서 변화를 주기 위해 어떻게 하면 될까요?</td>\n      <td>약을 잘 챙겨 먹고 나을 수 있도록 노력해야지.</td>\n      <td>약을 잘 챙겨 먹어 건강해지시길 바랄게요.</td>\n      <td>NaN</td>\n      <td>NaN</td>\n    </tr>\n    <tr>\n      <th>50882.0</th>\n      <td>5</td>\n      <td>4</td>\n      <td>고등학교에 올라오니 중학교 때보다 수업이 갑자기 어려워져서 당황스러워.</td>\n      <td>고등학교 수업이 중학교 때와는 다르게 갑자기 어려워서 당황스러우시군요.</td>\n      <td>아직 학기 초인데 내가 수업에 잘 따라갈 수 있을지 걱정돼.</td>\n      <td>이 상황에서 할 수 있는 게 어떤 것이 있을까요?</td>\n      <td>중학교 수업을 들을 때보다 훨씬 더 열심히 할 거야.</td>\n      <td>수업을 어떤 방식으로 열심히 듣는게 좋을까요?</td>\n      <td>선생님이 강조하신 부분을 필기하고 집에서 매일 수업 내용을 복습하려고 해.</td>\n      <td>열심히 해서 좋은 결과가 있었으면 좋겠어요.</td>\n    </tr>\n    <tr>\n      <th>31303.0</th>\n      <td>4</td>\n      <td>5</td>\n      <td>재취업이 돼서 받게 된 첫 월급으로 온 가족이 외식을 할 예정이야. 너무 행복해.</td>\n      <td>재취업 후 첫 월급이라 정말 기쁘시겠어요.</td>\n      <td>퇴직 후 다시는 돈을 못 벌 줄 알았는데 이렇게 월급으로 가족에게 맛있는 밥을 살 ...</td>\n      <td>이 기분을 유지하려면 어떻게 해야 할까요?</td>\n      <td>회사생활을 열심히 해서 계속 월급을 받을거야!</td>\n      <td>계속 원하시는 대로 회사생활이 이어지길 바랄게요.</td>\n      <td>NaN</td>\n      <td>NaN</td>\n    </tr>\n    <tr>\n      <th>47200.0</th>\n      <td>4</td>\n      <td>5</td>\n      <td>빚을 드디어 다 갚게 되어서 이제야 안도감이 들어.</td>\n      <td>기분 좋으시겠어요. 앞으로는 어떻게 하실 생각이신가요?</td>\n      <td>빚도 다 갚았으니 당분간은 아무 생각도 안 하며 살고 싶어.</td>\n      <td>빚도 다 갚았으니 당분간은 아무 생각도 안 하며 살고 싶으시군요.</td>\n      <td>NaN</td>\n      <td>NaN</td>\n      <td>NaN</td>\n      <td>NaN</td>\n    </tr>\n    <tr>\n      <th>...</th>\n      <td>...</td>\n      <td>...</td>\n      <td>...</td>\n      <td>...</td>\n      <td>...</td>\n      <td>...</td>\n      <td>...</td>\n      <td>...</td>\n      <td>...</td>\n      <td>...</td>\n    </tr>\n    <tr>\n      <th>NaN</th>\n      <td>NaN</td>\n      <td>NaN</td>\n      <td>NaN</td>\n      <td>NaN</td>\n      <td>NaN</td>\n      <td>NaN</td>\n      <td>NaN</td>\n      <td>NaN</td>\n      <td>NaN</td>\n      <td>NaN</td>\n    </tr>\n    <tr>\n      <th>NaN</th>\n      <td>NaN</td>\n      <td>NaN</td>\n      <td>NaN</td>\n      <td>NaN</td>\n      <td>NaN</td>\n      <td>NaN</td>\n      <td>NaN</td>\n      <td>NaN</td>\n      <td>NaN</td>\n      <td>NaN</td>\n    </tr>\n    <tr>\n      <th>NaN</th>\n      <td>NaN</td>\n      <td>NaN</td>\n      <td>NaN</td>\n      <td>NaN</td>\n      <td>NaN</td>\n      <td>NaN</td>\n      <td>NaN</td>\n      <td>NaN</td>\n      <td>NaN</td>\n      <td>NaN</td>\n    </tr>\n    <tr>\n      <th>NaN</th>\n      <td>NaN</td>\n      <td>NaN</td>\n      <td>NaN</td>\n      <td>NaN</td>\n      <td>NaN</td>\n      <td>NaN</td>\n      <td>NaN</td>\n      <td>NaN</td>\n      <td>NaN</td>\n      <td>NaN</td>\n    </tr>\n    <tr>\n      <th>NaN</th>\n      <td>NaN</td>\n      <td>NaN</td>\n      <td>NaN</td>\n      <td>NaN</td>\n      <td>NaN</td>\n      <td>NaN</td>\n      <td>NaN</td>\n      <td>NaN</td>\n      <td>NaN</td>\n      <td>NaN</td>\n    </tr>\n  </tbody>\n</table>\n<p>69218 rows × 10 columns</p>\n</div>"
     },
     "execution_count": 93,
     "metadata": {},
     "output_type": "execute_result"
    }
   ],
   "source": [
    "train_df"
   ],
   "metadata": {
    "collapsed": false
   }
  },
  {
   "cell_type": "code",
   "execution_count": 113,
   "outputs": [],
   "source": [
    "final_train_df = pd.DataFrame(\n",
    "      {'keywords': train_df1['keywords'].tolist() + train_df2['keywords'].tolist() + train_df3['keywords'].tolist() +\n",
    "                  train_df4['keywords'].tolist() + train_df5['keywords'].tolist() + train_df6['keywords'].tolist() +\n",
    "                  train_df7['keywords'].tolist(),\n",
    "      'major_emotions': train_df1['major_emotions'].tolist() + train_df2['major_emotions'].tolist() + train_df3['major_emotions'].tolist() +\n",
    "                  train_df4['major_emotions'].tolist() + train_df5['major_emotions'].tolist() + train_df6['major_emotions'].tolist() +\n",
    "                  train_df7['major_emotions'].tolist(),\n",
    "      'Q': train_df1['user1'].tolist() + train_df2['chatbot1'].tolist() + train_df3['user2'].tolist() +\n",
    "            train_df4['chatbot2'].tolist() + train_df5['user3'].tolist() + train_df6['chatbot3'].tolist() +\n",
    "            train_df7['user4'].tolist(),\n",
    "      'A': train_df1['chatbot1'].tolist() + train_df2['user2'].tolist() + train_df3['chatbot2'].tolist() +\n",
    "            train_df4['user3'].tolist() + train_df5['chatbot3'].tolist() + train_df6['user4'].tolist() +\n",
    "            train_df7['chatbot4'].tolist(),})"
   ],
   "metadata": {
    "collapsed": false
   }
  },
  {
   "cell_type": "code",
   "execution_count": 120,
   "outputs": [
    {
     "name": "stdout",
     "output_type": "stream",
     "text": [
      "175144\n",
      "175144\n"
     ]
    }
   ],
   "source": [
    "print(len(train_df1.index) +\n",
    "      len(train_df2.index) +\n",
    "      len(train_df3.index) +\n",
    "      len(train_df4.index) +\n",
    "      len(train_df5.index) +\n",
    "      len(train_df6.index) +\n",
    "      len(train_df7.index))\n",
    "\n",
    "print(len(final_train_df))"
   ],
   "metadata": {
    "collapsed": false
   }
  },
  {
   "cell_type": "code",
   "execution_count": 114,
   "outputs": [
    {
     "data": {
      "text/plain": "        keywords  major_emotions                                            Q  \\\n0            2.0             5.0                     아내가 드디어 출산하게 되어서 정말 신이 나   \n1            3.0             2.0       당뇨랑 합병증 때문에 먹어야 할 약이 열 가지가 넘어가니까 스트레스야   \n2            5.0             4.0       고등학교에 올라오니 중학교 때보다 수업이 갑자기 어려워져서 당황스러워   \n3            4.0             5.0  재취업이 돼서 받게 된 첫 월급으로 온 가족이 외식을 할 예정이야 너무 행복해   \n4            4.0             5.0                  빚을 드디어 다 갚게 되어서 이제야 안도감이 들어   \n...          ...             ...                                          ...   \n175139       3.0             2.0                   미리 미리 건강 챙기고 모두 안 아팠으면 좋겠어   \n175140       4.0             4.0  주변에 믿음직한 사람들에게서 정보도 많이 얻고 달콤한 말은 항상 의심하고 볼래   \n175141       3.0             2.0              친구들에게 내 마음을 터놓고 얘기하면 좀 나아질 것 같아   \n175142       0.0             4.0                  남편에게 이런 내 마음을 솔직하게 얘기해 봐야겠어   \n175143       0.0             2.0   친구가 자기가 데려온 강아지에 대해 책임감을 갖고 스스로 잘 돌봤으면 좋겠어   \n\n                                             A  \n0                      아내분이 출산을 하시는군요 정말 축하드려요  \n1                            약 종류가 많아 번거로우시겠어요  \n2       고등학교 수업이 중학교 때와는 다르게 갑자기 어려워서 당황스러우시군요  \n3                       재취업 후 첫 월급이라 정말 기쁘시겠어요  \n4                 기분 좋으시겠어요 앞으로는 어떻게 하실 생각이신가요  \n...                                        ...  \n175139                친구들과의 전화로 기분이 나아졌으면 좋겠어요  \n175140  신뢰가 있는 사람들에게서 정보도 얻고 하고자 하는 일도 잘되길 바라요  \n175141            친구들과 술 한잔하시고 기분이 좋아지셨으면 좋겠어요  \n175142      솔직하게 얘기하셔서 외롭고 우울한 마음이 나아지셨으면 좋겠어요  \n175143           친구에게 얘기해서 혼자 부담을 떠안지 않으면 좋겠어요  \n\n[175144 rows x 4 columns]",
      "text/html": "<div>\n<style scoped>\n    .dataframe tbody tr th:only-of-type {\n        vertical-align: middle;\n    }\n\n    .dataframe tbody tr th {\n        vertical-align: top;\n    }\n\n    .dataframe thead th {\n        text-align: right;\n    }\n</style>\n<table border=\"1\" class=\"dataframe\">\n  <thead>\n    <tr style=\"text-align: right;\">\n      <th></th>\n      <th>keywords</th>\n      <th>major_emotions</th>\n      <th>Q</th>\n      <th>A</th>\n    </tr>\n  </thead>\n  <tbody>\n    <tr>\n      <th>0</th>\n      <td>2.0</td>\n      <td>5.0</td>\n      <td>아내가 드디어 출산하게 되어서 정말 신이 나</td>\n      <td>아내분이 출산을 하시는군요 정말 축하드려요</td>\n    </tr>\n    <tr>\n      <th>1</th>\n      <td>3.0</td>\n      <td>2.0</td>\n      <td>당뇨랑 합병증 때문에 먹어야 할 약이 열 가지가 넘어가니까 스트레스야</td>\n      <td>약 종류가 많아 번거로우시겠어요</td>\n    </tr>\n    <tr>\n      <th>2</th>\n      <td>5.0</td>\n      <td>4.0</td>\n      <td>고등학교에 올라오니 중학교 때보다 수업이 갑자기 어려워져서 당황스러워</td>\n      <td>고등학교 수업이 중학교 때와는 다르게 갑자기 어려워서 당황스러우시군요</td>\n    </tr>\n    <tr>\n      <th>3</th>\n      <td>4.0</td>\n      <td>5.0</td>\n      <td>재취업이 돼서 받게 된 첫 월급으로 온 가족이 외식을 할 예정이야 너무 행복해</td>\n      <td>재취업 후 첫 월급이라 정말 기쁘시겠어요</td>\n    </tr>\n    <tr>\n      <th>4</th>\n      <td>4.0</td>\n      <td>5.0</td>\n      <td>빚을 드디어 다 갚게 되어서 이제야 안도감이 들어</td>\n      <td>기분 좋으시겠어요 앞으로는 어떻게 하실 생각이신가요</td>\n    </tr>\n    <tr>\n      <th>...</th>\n      <td>...</td>\n      <td>...</td>\n      <td>...</td>\n      <td>...</td>\n    </tr>\n    <tr>\n      <th>175139</th>\n      <td>3.0</td>\n      <td>2.0</td>\n      <td>미리 미리 건강 챙기고 모두 안 아팠으면 좋겠어</td>\n      <td>친구들과의 전화로 기분이 나아졌으면 좋겠어요</td>\n    </tr>\n    <tr>\n      <th>175140</th>\n      <td>4.0</td>\n      <td>4.0</td>\n      <td>주변에 믿음직한 사람들에게서 정보도 많이 얻고 달콤한 말은 항상 의심하고 볼래</td>\n      <td>신뢰가 있는 사람들에게서 정보도 얻고 하고자 하는 일도 잘되길 바라요</td>\n    </tr>\n    <tr>\n      <th>175141</th>\n      <td>3.0</td>\n      <td>2.0</td>\n      <td>친구들에게 내 마음을 터놓고 얘기하면 좀 나아질 것 같아</td>\n      <td>친구들과 술 한잔하시고 기분이 좋아지셨으면 좋겠어요</td>\n    </tr>\n    <tr>\n      <th>175142</th>\n      <td>0.0</td>\n      <td>4.0</td>\n      <td>남편에게 이런 내 마음을 솔직하게 얘기해 봐야겠어</td>\n      <td>솔직하게 얘기하셔서 외롭고 우울한 마음이 나아지셨으면 좋겠어요</td>\n    </tr>\n    <tr>\n      <th>175143</th>\n      <td>0.0</td>\n      <td>2.0</td>\n      <td>친구가 자기가 데려온 강아지에 대해 책임감을 갖고 스스로 잘 돌봤으면 좋겠어</td>\n      <td>친구에게 얘기해서 혼자 부담을 떠안지 않으면 좋겠어요</td>\n    </tr>\n  </tbody>\n</table>\n<p>175144 rows × 4 columns</p>\n</div>"
     },
     "execution_count": 114,
     "metadata": {},
     "output_type": "execute_result"
    }
   ],
   "source": [
    "final_train_df"
   ],
   "metadata": {
    "collapsed": false
   }
  },
  {
   "cell_type": "code",
   "execution_count": 121,
   "outputs": [],
   "source": [
    "final_train_df.to_csv('train_preprocessing_data.csv', index=False)"
   ],
   "metadata": {
    "collapsed": false
   }
  },
  {
   "cell_type": "code",
   "execution_count": null,
   "outputs": [],
   "source": [],
   "metadata": {
    "collapsed": false
   }
  }
 ],
 "metadata": {
  "kernelspec": {
   "display_name": "Python 3",
   "language": "python",
   "name": "python3"
  },
  "language_info": {
   "codemirror_mode": {
    "name": "ipython",
    "version": 2
   },
   "file_extension": ".py",
   "mimetype": "text/x-python",
   "name": "python",
   "nbconvert_exporter": "python",
   "pygments_lexer": "ipython2",
   "version": "2.7.6"
  }
 },
 "nbformat": 4,
 "nbformat_minor": 0
}
